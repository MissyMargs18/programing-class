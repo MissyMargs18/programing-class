{
 "cells": [
  {
   "cell_type": "markdown",
   "metadata": {
    "slideshow": {
     "slide_type": "slide"
    }
   },
   "source": [
    "# Introduction to Data Analysis in Python\n",
    "---"
   ]
  },
  {
   "cell_type": "markdown",
   "metadata": {
    "slideshow": {
     "slide_type": "slide"
    }
   },
   "source": [
    "### R. Burke Squires\n",
    "https://github.com/burkesquires"
   ]
  },
  {
   "cell_type": "markdown",
   "metadata": {
    "slideshow": {
     "slide_type": "slide"
    }
   },
   "source": [
    "# Outline:"
   ]
  },
  {
   "cell_type": "markdown",
   "metadata": {
    "slideshow": {
     "slide_type": "fragment"
    }
   },
   "source": [
    "- Pandas\n",
    "    - Importing Data\n",
    "    - Removing missing values\n",
    "    - Fun with Columns\n",
    "    - Filtering\n",
    "    - Grouping\n",
    "    - Plotting\n",
    "    - Getting data out\n",
    "    - Reading and writing to Excel"
   ]
  },
  {
   "cell_type": "markdown",
   "metadata": {},
   "source": [
    "---"
   ]
  },
  {
   "cell_type": "markdown",
   "metadata": {
    "slideshow": {
     "slide_type": "slide"
    }
   },
   "source": [
    "# An Introduction to Pandas\n",
    "\n",
    "** Presentation originally developed by Michael Hansen, modified slightly by Jeff Shelton **\n",
    "\n",
    "**pandas** is a Python package providing fast, flexible, and expressive data structures designed to work with *relational* or *labeled* data both. It is a fundamental high-level building block for doing practical, real world data analysis in Python. \n",
    "\n",
    "pandas is well suited for:\n",
    "\n",
    "- Tabular data with heterogeneously-typed columns, as in an SQL table or Excel spreadsheet\n",
    "- Ordered and unordered (not necessarily fixed-frequency) time series data.\n",
    "- Arbitrary matrix data (homogeneously typed or heterogeneous) with row and column labels\n",
    "- Any other form of observational / statistical data sets. The data actually need not be labeled at all to be placed into a pandas data structure"
   ]
  },
  {
   "cell_type": "markdown",
   "metadata": {
    "slideshow": {
     "slide_type": "slide"
    }
   },
   "source": [
    "## Key features:\n",
    "    \n",
    "- Easy handling of **missing data**\n",
    "- **Size mutability**: columns can be inserted and deleted from DataFrame and higher dimensional objects\n",
    "- Automatic and explicit **data alignment**: objects can be explicitly aligned to a set of labels, or the data can be aligned automatically\n",
    "- Powerful, flexible **group by functionality** to perform split-apply-combine operations on data sets\n",
    "- Intelligent label-based **slicing, fancy indexing, and subsetting** of large data sets\n",
    "- Intuitive **merging and joining** data sets\n",
    "- Flexible **reshaping and pivoting** of data sets\n",
    "- **Hierarchical labeling** of axes\n",
    "- Robust **IO tools** for loading data from flat files, Excel files, databases, and HDF5\n",
    "- **Time series functionality**: date range generation and frequency conversion, moving window statistics, moving window linear regressions, date shifting and lagging, etc."
   ]
  },
  {
   "cell_type": "markdown",
   "metadata": {
    "slideshow": {
     "slide_type": "slide"
    }
   },
   "source": [
    "## Data Source"
   ]
  },
  {
   "cell_type": "markdown",
   "metadata": {
    "slideshow": {
     "slide_type": "fragment"
    }
   },
   "source": [
    "When dealing with numeric matrices and vectors in Python, [NumPy](http://www.numpy.org/) makes life a lot easier.\n",
    "For more complex data, however, it leaves a lot to be desired.\n",
    "If you're used to working with [data frames in R](http://www.r-tutor.com/r-introduction/data-frame), doing data analysis directly with NumPy feels like a step back.\n",
    "\n",
    "Fortunately, some nice folks have written the [Python Data Analysis Library](http://pandas.pydata.org/) (a.k.a. pandas).\n",
    "Pandas provides an R-like `DataFrame`, produces high quality plots with [matplotlib](http://matplotlib.org/), and integrates nicely with other libraries that expect NumPy arrays.\n",
    "\n",
    "In this tutorial, we'll go through the basics of pandas using a year's worth of weather data from [Weather Underground](http://www.wunderground.com/).\n",
    "Pandas has a **lot** of functionality, so we'll only be able to cover a small fraction of what you can do.\n",
    "Check out the (very readable) [pandas docs](http://pandas.pydata.org/pandas-docs/stable/) if you want to learn more."
   ]
  },
  {
   "cell_type": "code",
   "execution_count": 3,
   "metadata": {
    "slideshow": {
     "slide_type": "slide"
    }
   },
   "outputs": [
    {
     "data": {
      "text/html": [
       "<iframe src=http://pandas.pydata.org width=800 height=350></iframe>"
      ],
      "text/plain": [
       "<IPython.core.display.HTML object>"
      ]
     },
     "execution_count": 3,
     "metadata": {},
     "output_type": "execute_result"
    }
   ],
   "source": [
    "from IPython.core.display import HTML\n",
    "HTML(\"<iframe src=http://pandas.pydata.org width=800 height=350></iframe>\")"
   ]
  },
  {
   "cell_type": "markdown",
   "metadata": {
    "slideshow": {
     "slide_type": "slide"
    }
   },
   "source": [
    "## Getting Started"
   ]
  },
  {
   "cell_type": "markdown",
   "metadata": {
    "slideshow": {
     "slide_type": "fragment"
    }
   },
   "source": [
    "OK, let's get started by importing the pandas library."
   ]
  },
  {
   "cell_type": "code",
   "execution_count": 4,
   "metadata": {},
   "outputs": [
    {
     "name": "stdout",
     "output_type": "stream",
     "text": [
      "/bin/sh: 1: /home/melissaa/anaconda/bin/conda: not found\n"
     ]
    }
   ],
   "source": [
    "!~/anaconda/bin/conda install -y pandas"
   ]
  },
  {
   "cell_type": "code",
   "execution_count": null,
   "metadata": {
    "slideshow": {
     "slide_type": "fragment"
    }
   },
   "outputs": [],
   "source": []
  },
  {
   "cell_type": "code",
   "execution_count": 5,
   "metadata": {},
   "outputs": [],
   "source": [
    "import pandas"
   ]
  },
  {
   "cell_type": "markdown",
   "metadata": {
    "slideshow": {
     "slide_type": "fragment"
    }
   },
   "source": [
    "Next, let's read in [our data](data/weather_year.csv).\n",
    "Because it's in a CSV file, we can use pandas' `read_csv` function to pull it directly into a [DataFrame](http://pandas.pydata.org/pandas-docs/stable/dsintro.html#dataframe)."
   ]
  },
  {
   "cell_type": "code",
   "execution_count": 6,
   "metadata": {},
   "outputs": [
    {
     "name": "stdout",
     "output_type": "stream",
     "text": [
      "EDT,Max TemperatureF,Mean TemperatureF,Min TemperatureF,Max Dew PointF,MeanDew PointF,Min DewpointF,Max Humidity, Mean Humidity, Min Humidity, Max Sea Level PressureIn, Mean Sea Level PressureIn, Min Sea Level PressureIn, Max VisibilityMiles, Mean VisibilityMiles, Min VisibilityMiles, Max Wind SpeedMPH, Mean Wind SpeedMPH, Max Gust SpeedMPH,PrecipitationIn, CloudCover, Events, WindDirDegrees\n",
      "2012-3-10,56,40,24,24,20,16,74,50,26,30.53,30.45,30.34,10,10,10,13,6,17,0.00,0,,138\n",
      "2012-3-11,67,49,30,43,31,24,78,53,28,30.37,30.27,30.13,10,10,10,22,7,32,T,1,Rain,163\n",
      "2012-3-12,71,62,53,59,55,43,90,76,61,30.13,29.99,29.88,10,10,6,24,14,36,0.03,6,Rain,190\n",
      "2012-3-13,76,63,50,57,53,47,93,66,38,30.12,30.06,29.97,10,10,4,16,5,24,0.00,0,,242\n",
      "2012-3-14,80,62,44,58,52,43,93,68,42,30.15,30.10,30.04,10,10,10,16,6,22,0.00,0,,202\n",
      "2012-3-15,79,69,58,61,58,53,90,69,48,30.13,30.08,30.02,10,10,10,31,10,41,0.04,3,Rain-Thunderstorm,209\n",
      "2012-3-16,75,64,52,57,54,51,100,75,49,30.14,30.10,30.07,10,10,10,14,5,20,T,2,,169\n",
      "2012-3-17,78,62,46,60,54,46,100,78,56,30.15,30.11,30.04,10,5,0,12,5,17,T,3,Fog-Thunderstorm,162\n",
      "2012-3-18,80,70,59,61,58,57,93,69,45,30.14,30.07,30.02,10,10,9,18,8,25,T,2,Rain,197\n"
     ]
    }
   ],
   "source": [
    "#looking at real world data, this is weather data\n",
    "\n",
    "!head data/weather_year.csv"
   ]
  },
  {
   "cell_type": "code",
   "execution_count": 7,
   "metadata": {
    "slideshow": {
     "slide_type": "fragment"
    }
   },
   "outputs": [],
   "source": [
    "data = pandas.read_csv(\"data/weather_year.csv\")"
   ]
  },
  {
   "cell_type": "code",
   "execution_count": 8,
   "metadata": {},
   "outputs": [
    {
     "data": {
      "text/plain": [
       "pandas.core.frame.DataFrame"
      ]
     },
     "execution_count": 8,
     "metadata": {},
     "output_type": "execute_result"
    }
   ],
   "source": [
    "type(data)"
   ]
  },
  {
   "cell_type": "markdown",
   "metadata": {},
   "source": [
    "    data = pandas.read_csv?"
   ]
  },
  {
   "cell_type": "markdown",
   "metadata": {
    "slideshow": {
     "slide_type": "slide"
    }
   },
   "source": [
    "We can get a summary of the DataFrame by asking for some information:"
   ]
  },
  {
   "cell_type": "code",
   "execution_count": 9,
   "metadata": {
    "slideshow": {
     "slide_type": "fragment"
    }
   },
   "outputs": [
    {
     "name": "stdout",
     "output_type": "stream",
     "text": [
      "Help on function read_csv in module pandas.io.parsers:\n",
      "\n",
      "read_csv(filepath_or_buffer, sep=',', delimiter=None, header='infer', names=None, index_col=None, usecols=None, squeeze=False, prefix=None, mangle_dupe_cols=True, dtype=None, engine=None, converters=None, true_values=None, false_values=None, skipinitialspace=False, skiprows=None, nrows=None, na_values=None, keep_default_na=True, na_filter=True, verbose=False, skip_blank_lines=True, parse_dates=False, infer_datetime_format=False, keep_date_col=False, date_parser=None, dayfirst=False, iterator=False, chunksize=None, compression='infer', thousands=None, decimal=b'.', lineterminator=None, quotechar='\"', quoting=0, escapechar=None, comment=None, encoding=None, dialect=None, tupleize_cols=None, error_bad_lines=True, warn_bad_lines=True, skipfooter=0, skip_footer=0, doublequote=True, delim_whitespace=False, as_recarray=None, compact_ints=None, use_unsigned=None, low_memory=True, buffer_lines=None, memory_map=False, float_precision=None)\n",
      "    Read CSV (comma-separated) file into DataFrame\n",
      "    \n",
      "    Also supports optionally iterating or breaking of the file\n",
      "    into chunks.\n",
      "    \n",
      "    Additional help can be found in the `online docs for IO Tools\n",
      "    <http://pandas.pydata.org/pandas-docs/stable/io.html>`_.\n",
      "    \n",
      "    Parameters\n",
      "    ----------\n",
      "    filepath_or_buffer : str, pathlib.Path, py._path.local.LocalPath or any object with a read() method (such as a file handle or StringIO)\n",
      "        The string could be a URL. Valid URL schemes include http, ftp, s3, and\n",
      "        file. For file URLs, a host is expected. For instance, a local file could\n",
      "        be file ://localhost/path/to/table.csv\n",
      "    sep : str, default ','\n",
      "        Delimiter to use. If sep is None, the C engine cannot automatically detect\n",
      "        the separator, but the Python parsing engine can, meaning the latter will\n",
      "        be used and automatically detect the separator by Python's builtin sniffer\n",
      "        tool, ``csv.Sniffer``. In addition, separators longer than 1 character and\n",
      "        different from ``'\\s+'`` will be interpreted as regular expressions and\n",
      "        will also force the use of the Python parsing engine. Note that regex\n",
      "        delimiters are prone to ignoring quoted data. Regex example: ``'\\r\\t'``\n",
      "    delimiter : str, default ``None``\n",
      "        Alternative argument name for sep.\n",
      "    delim_whitespace : boolean, default False\n",
      "        Specifies whether or not whitespace (e.g. ``' '`` or ``'    '``) will be\n",
      "        used as the sep. Equivalent to setting ``sep='\\s+'``. If this option\n",
      "        is set to True, nothing should be passed in for the ``delimiter``\n",
      "        parameter.\n",
      "    \n",
      "        .. versionadded:: 0.18.1 support for the Python parser.\n",
      "    \n",
      "    header : int or list of ints, default 'infer'\n",
      "        Row number(s) to use as the column names, and the start of the\n",
      "        data.  Default behavior is to infer the column names: if no names\n",
      "        are passed the behavior is identical to ``header=0`` and column\n",
      "        names are inferred from the first line of the file, if column\n",
      "        names are passed explicitly then the behavior is identical to\n",
      "        ``header=None``. Explicitly pass ``header=0`` to be able to\n",
      "        replace existing names. The header can be a list of integers that\n",
      "        specify row locations for a multi-index on the columns\n",
      "        e.g. [0,1,3]. Intervening rows that are not specified will be\n",
      "        skipped (e.g. 2 in this example is skipped). Note that this\n",
      "        parameter ignores commented lines and empty lines if\n",
      "        ``skip_blank_lines=True``, so header=0 denotes the first line of\n",
      "        data rather than the first line of the file.\n",
      "    names : array-like, default None\n",
      "        List of column names to use. If file contains no header row, then you\n",
      "        should explicitly pass header=None. Duplicates in this list will cause\n",
      "        a ``UserWarning`` to be issued.\n",
      "    index_col : int or sequence or False, default None\n",
      "        Column to use as the row labels of the DataFrame. If a sequence is given, a\n",
      "        MultiIndex is used. If you have a malformed file with delimiters at the end\n",
      "        of each line, you might consider index_col=False to force pandas to _not_\n",
      "        use the first column as the index (row names)\n",
      "    usecols : array-like or callable, default None\n",
      "        Return a subset of the columns. If array-like, all elements must either\n",
      "        be positional (i.e. integer indices into the document columns) or strings\n",
      "        that correspond to column names provided either by the user in `names` or\n",
      "        inferred from the document header row(s). For example, a valid array-like\n",
      "        `usecols` parameter would be [0, 1, 2] or ['foo', 'bar', 'baz'].\n",
      "    \n",
      "        If callable, the callable function will be evaluated against the column\n",
      "        names, returning names where the callable function evaluates to True. An\n",
      "        example of a valid callable argument would be ``lambda x: x.upper() in\n",
      "        ['AAA', 'BBB', 'DDD']``. Using this parameter results in much faster\n",
      "        parsing time and lower memory usage.\n",
      "    as_recarray : boolean, default False\n",
      "        .. deprecated:: 0.19.0\n",
      "           Please call `pd.read_csv(...).to_records()` instead.\n",
      "    \n",
      "        Return a NumPy recarray instead of a DataFrame after parsing the data.\n",
      "        If set to True, this option takes precedence over the `squeeze` parameter.\n",
      "        In addition, as row indices are not available in such a format, the\n",
      "        `index_col` parameter will be ignored.\n",
      "    squeeze : boolean, default False\n",
      "        If the parsed data only contains one column then return a Series\n",
      "    prefix : str, default None\n",
      "        Prefix to add to column numbers when no header, e.g. 'X' for X0, X1, ...\n",
      "    mangle_dupe_cols : boolean, default True\n",
      "        Duplicate columns will be specified as 'X.0'...'X.N', rather than\n",
      "        'X'...'X'. Passing in False will cause data to be overwritten if there\n",
      "        are duplicate names in the columns.\n",
      "    dtype : Type name or dict of column -> type, default None\n",
      "        Data type for data or columns. E.g. {'a': np.float64, 'b': np.int32}\n",
      "        Use `str` or `object` to preserve and not interpret dtype.\n",
      "        If converters are specified, they will be applied INSTEAD\n",
      "        of dtype conversion.\n",
      "    engine : {'c', 'python'}, optional\n",
      "        Parser engine to use. The C engine is faster while the python engine is\n",
      "        currently more feature-complete.\n",
      "    converters : dict, default None\n",
      "        Dict of functions for converting values in certain columns. Keys can either\n",
      "        be integers or column labels\n",
      "    true_values : list, default None\n",
      "        Values to consider as True\n",
      "    false_values : list, default None\n",
      "        Values to consider as False\n",
      "    skipinitialspace : boolean, default False\n",
      "        Skip spaces after delimiter.\n",
      "    skiprows : list-like or integer or callable, default None\n",
      "        Line numbers to skip (0-indexed) or number of lines to skip (int)\n",
      "        at the start of the file.\n",
      "    \n",
      "        If callable, the callable function will be evaluated against the row\n",
      "        indices, returning True if the row should be skipped and False otherwise.\n",
      "        An example of a valid callable argument would be ``lambda x: x in [0, 2]``.\n",
      "    skipfooter : int, default 0\n",
      "        Number of lines at bottom of file to skip (Unsupported with engine='c')\n",
      "    skip_footer : int, default 0\n",
      "        .. deprecated:: 0.19.0\n",
      "           Use the `skipfooter` parameter instead, as they are identical\n",
      "    nrows : int, default None\n",
      "        Number of rows of file to read. Useful for reading pieces of large files\n",
      "    na_values : scalar, str, list-like, or dict, default None\n",
      "        Additional strings to recognize as NA/NaN. If dict passed, specific\n",
      "        per-column NA values.  By default the following values are interpreted as\n",
      "        NaN: '', '#N/A', '#N/A N/A', '#NA', '-1.#IND', '-1.#QNAN', '-NaN', '-nan',\n",
      "        '1.#IND', '1.#QNAN', 'N/A', 'NA', 'NULL', 'NaN', 'n/a', 'nan',\n",
      "        'null'.\n",
      "    keep_default_na : bool, default True\n",
      "        If na_values are specified and keep_default_na is False the default NaN\n",
      "        values are overridden, otherwise they're appended to.\n",
      "    na_filter : boolean, default True\n",
      "        Detect missing value markers (empty strings and the value of na_values). In\n",
      "        data without any NAs, passing na_filter=False can improve the performance\n",
      "        of reading a large file\n",
      "    verbose : boolean, default False\n",
      "        Indicate number of NA values placed in non-numeric columns\n",
      "    skip_blank_lines : boolean, default True\n",
      "        If True, skip over blank lines rather than interpreting as NaN values\n",
      "    parse_dates : boolean or list of ints or names or list of lists or dict, default False\n",
      "    \n",
      "        * boolean. If True -> try parsing the index.\n",
      "        * list of ints or names. e.g. If [1, 2, 3] -> try parsing columns 1, 2, 3\n",
      "          each as a separate date column.\n",
      "        * list of lists. e.g.  If [[1, 3]] -> combine columns 1 and 3 and parse as\n",
      "          a single date column.\n",
      "        * dict, e.g. {'foo' : [1, 3]} -> parse columns 1, 3 as date and call result\n",
      "          'foo'\n",
      "    \n",
      "        If a column or index contains an unparseable date, the entire column or\n",
      "        index will be returned unaltered as an object data type. For non-standard\n",
      "        datetime parsing, use ``pd.to_datetime`` after ``pd.read_csv``\n",
      "    \n",
      "        Note: A fast-path exists for iso8601-formatted dates.\n",
      "    infer_datetime_format : boolean, default False\n",
      "        If True and `parse_dates` is enabled, pandas will attempt to infer the\n",
      "        format of the datetime strings in the columns, and if it can be inferred,\n",
      "        switch to a faster method of parsing them. In some cases this can increase\n",
      "        the parsing speed by 5-10x.\n",
      "    keep_date_col : boolean, default False\n",
      "        If True and `parse_dates` specifies combining multiple columns then\n",
      "        keep the original columns.\n",
      "    date_parser : function, default None\n",
      "        Function to use for converting a sequence of string columns to an array of\n",
      "        datetime instances. The default uses ``dateutil.parser.parser`` to do the\n",
      "        conversion. Pandas will try to call `date_parser` in three different ways,\n",
      "        advancing to the next if an exception occurs: 1) Pass one or more arrays\n",
      "        (as defined by `parse_dates`) as arguments; 2) concatenate (row-wise) the\n",
      "        string values from the columns defined by `parse_dates` into a single array\n",
      "        and pass that; and 3) call `date_parser` once for each row using one or\n",
      "        more strings (corresponding to the columns defined by `parse_dates`) as\n",
      "        arguments.\n",
      "    dayfirst : boolean, default False\n",
      "        DD/MM format dates, international and European format\n",
      "    iterator : boolean, default False\n",
      "        Return TextFileReader object for iteration or getting chunks with\n",
      "        ``get_chunk()``.\n",
      "    chunksize : int, default None\n",
      "        Return TextFileReader object for iteration.\n",
      "        See the `IO Tools docs\n",
      "        <http://pandas.pydata.org/pandas-docs/stable/io.html#io-chunking>`_\n",
      "        for more information on ``iterator`` and ``chunksize``.\n",
      "    compression : {'infer', 'gzip', 'bz2', 'zip', 'xz', None}, default 'infer'\n",
      "        For on-the-fly decompression of on-disk data. If 'infer' and\n",
      "        `filepath_or_buffer` is path-like, then detect compression from the\n",
      "        following extensions: '.gz', '.bz2', '.zip', or '.xz' (otherwise no\n",
      "        decompression). If using 'zip', the ZIP file must contain only one data\n",
      "        file to be read in. Set to None for no decompression.\n",
      "    \n",
      "        .. versionadded:: 0.18.1 support for 'zip' and 'xz' compression.\n",
      "    \n",
      "    thousands : str, default None\n",
      "        Thousands separator\n",
      "    decimal : str, default '.'\n",
      "        Character to recognize as decimal point (e.g. use ',' for European data).\n",
      "    float_precision : string, default None\n",
      "        Specifies which converter the C engine should use for floating-point\n",
      "        values. The options are `None` for the ordinary converter,\n",
      "        `high` for the high-precision converter, and `round_trip` for the\n",
      "        round-trip converter.\n",
      "    lineterminator : str (length 1), default None\n",
      "        Character to break file into lines. Only valid with C parser.\n",
      "    quotechar : str (length 1), optional\n",
      "        The character used to denote the start and end of a quoted item. Quoted\n",
      "        items can include the delimiter and it will be ignored.\n",
      "    quoting : int or csv.QUOTE_* instance, default 0\n",
      "        Control field quoting behavior per ``csv.QUOTE_*`` constants. Use one of\n",
      "        QUOTE_MINIMAL (0), QUOTE_ALL (1), QUOTE_NONNUMERIC (2) or QUOTE_NONE (3).\n",
      "    doublequote : boolean, default ``True``\n",
      "       When quotechar is specified and quoting is not ``QUOTE_NONE``, indicate\n",
      "       whether or not to interpret two consecutive quotechar elements INSIDE a\n",
      "       field as a single ``quotechar`` element.\n",
      "    escapechar : str (length 1), default None\n",
      "        One-character string used to escape delimiter when quoting is QUOTE_NONE.\n",
      "    comment : str, default None\n",
      "        Indicates remainder of line should not be parsed. If found at the beginning\n",
      "        of a line, the line will be ignored altogether. This parameter must be a\n",
      "        single character. Like empty lines (as long as ``skip_blank_lines=True``),\n",
      "        fully commented lines are ignored by the parameter `header` but not by\n",
      "        `skiprows`. For example, if comment='#', parsing '#empty\\na,b,c\\n1,2,3'\n",
      "        with `header=0` will result in 'a,b,c' being\n",
      "        treated as the header.\n",
      "    encoding : str, default None\n",
      "        Encoding to use for UTF when reading/writing (ex. 'utf-8'). `List of Python\n",
      "        standard encodings\n",
      "        <https://docs.python.org/3/library/codecs.html#standard-encodings>`_\n",
      "    dialect : str or csv.Dialect instance, default None\n",
      "        If provided, this parameter will override values (default or not) for the\n",
      "        following parameters: `delimiter`, `doublequote`, `escapechar`,\n",
      "        `skipinitialspace`, `quotechar`, and `quoting`. If it is necessary to\n",
      "        override values, a ParserWarning will be issued. See csv.Dialect\n",
      "        documentation for more details.\n",
      "    tupleize_cols : boolean, default False\n",
      "        .. deprecated:: 0.21.0\n",
      "           This argument will be removed and will always convert to MultiIndex\n",
      "    \n",
      "        Leave a list of tuples on columns as is (default is to convert to\n",
      "        a MultiIndex on the columns)\n",
      "    error_bad_lines : boolean, default True\n",
      "        Lines with too many fields (e.g. a csv line with too many commas) will by\n",
      "        default cause an exception to be raised, and no DataFrame will be returned.\n",
      "        If False, then these \"bad lines\" will dropped from the DataFrame that is\n",
      "        returned.\n",
      "    warn_bad_lines : boolean, default True\n",
      "        If error_bad_lines is False, and warn_bad_lines is True, a warning for each\n",
      "        \"bad line\" will be output.\n",
      "    low_memory : boolean, default True\n",
      "        Internally process the file in chunks, resulting in lower memory use\n",
      "        while parsing, but possibly mixed type inference.  To ensure no mixed\n",
      "        types either set False, or specify the type with the `dtype` parameter.\n",
      "        Note that the entire file is read into a single DataFrame regardless,\n",
      "        use the `chunksize` or `iterator` parameter to return the data in chunks.\n",
      "        (Only valid with C parser)\n",
      "    buffer_lines : int, default None\n",
      "        .. deprecated:: 0.19.0\n",
      "           This argument is not respected by the parser\n",
      "    compact_ints : boolean, default False\n",
      "        .. deprecated:: 0.19.0\n",
      "           Argument moved to ``pd.to_numeric``\n",
      "    \n",
      "        If compact_ints is True, then for any column that is of integer dtype,\n",
      "        the parser will attempt to cast it as the smallest integer dtype possible,\n",
      "        either signed or unsigned depending on the specification from the\n",
      "        `use_unsigned` parameter.\n",
      "    use_unsigned : boolean, default False\n",
      "        .. deprecated:: 0.19.0\n",
      "           Argument moved to ``pd.to_numeric``\n",
      "    \n",
      "        If integer columns are being compacted (i.e. `compact_ints=True`), specify\n",
      "        whether the column should be compacted to the smallest signed or unsigned\n",
      "        integer dtype.\n",
      "    memory_map : boolean, default False\n",
      "        If a filepath is provided for `filepath_or_buffer`, map the file object\n",
      "        directly onto memory and access the data directly from there. Using this\n",
      "        option can improve performance because there is no longer any I/O overhead.\n",
      "    \n",
      "    Returns\n",
      "    -------\n",
      "    result : DataFrame or TextParser\n",
      "\n"
     ]
    }
   ],
   "source": [
    "help(pandas.read_csv)"
   ]
  },
  {
   "cell_type": "code",
   "execution_count": 10,
   "metadata": {},
   "outputs": [
    {
     "name": "stdout",
     "output_type": "stream",
     "text": [
      "<class 'pandas.core.frame.DataFrame'>\n",
      "RangeIndex: 366 entries, 0 to 365\n",
      "Data columns (total 23 columns):\n",
      "EDT                           366 non-null object\n",
      "Max TemperatureF              366 non-null int64\n",
      "Mean TemperatureF             366 non-null int64\n",
      "Min TemperatureF              366 non-null int64\n",
      "Max Dew PointF                366 non-null int64\n",
      "MeanDew PointF                366 non-null int64\n",
      "Min DewpointF                 366 non-null int64\n",
      "Max Humidity                  366 non-null int64\n",
      " Mean Humidity                366 non-null int64\n",
      " Min Humidity                 366 non-null int64\n",
      " Max Sea Level PressureIn     366 non-null float64\n",
      " Mean Sea Level PressureIn    366 non-null float64\n",
      " Min Sea Level PressureIn     366 non-null float64\n",
      " Max VisibilityMiles          366 non-null int64\n",
      " Mean VisibilityMiles         366 non-null int64\n",
      " Min VisibilityMiles          366 non-null int64\n",
      " Max Wind SpeedMPH            366 non-null int64\n",
      " Mean Wind SpeedMPH           366 non-null int64\n",
      " Max Gust SpeedMPH            365 non-null float64\n",
      "PrecipitationIn               366 non-null object\n",
      " CloudCover                   366 non-null int64\n",
      " Events                       162 non-null object\n",
      " WindDirDegrees               366 non-null int64\n",
      "dtypes: float64(4), int64(16), object(3)\n",
      "memory usage: 65.8+ KB\n"
     ]
    }
   ],
   "source": [
    "data.info()"
   ]
  },
  {
   "cell_type": "markdown",
   "metadata": {
    "slideshow": {
     "slide_type": "slide"
    }
   },
   "source": [
    "This gives us a lot of insight. \n",
    "\n",
    "- First, we can see that there are 366 rows (entries) -- a year and a day's worth of weather. Each column is printed along with however many \"non-null\" values are present.\n",
    "- We'll talk more about [null (or missing) values in pandas](http://pandas.pydata.org/pandas-docs/stable/missing_data.html) later, but for now we can note that only the \"Max Gust SpeedMPH\" and \"Events\" columns have fewer than 366 non-null values.\n",
    "- Lastly, the data types (dtypes) of the columns are printed at the very bottom. We can see that there are 4 `float64`, 16 `int64`, and 3 `object` columns."
   ]
  },
  {
   "cell_type": "code",
   "execution_count": 12,
   "metadata": {
    "slideshow": {
     "slide_type": "fragment"
    }
   },
   "outputs": [
    {
     "data": {
      "text/plain": [
       "366"
      ]
     },
     "execution_count": 12,
     "metadata": {},
     "output_type": "execute_result"
    }
   ],
   "source": [
    "len(data)"
   ]
  },
  {
   "cell_type": "markdown",
   "metadata": {
    "slideshow": {
     "slide_type": "slide"
    }
   },
   "source": [
    "Using `len` on a DataFrame will give you the number of rows. You can get the column names using the `columns` property."
   ]
  },
  {
   "cell_type": "code",
   "execution_count": 13,
   "metadata": {
    "slideshow": {
     "slide_type": "fragment"
    }
   },
   "outputs": [
    {
     "data": {
      "text/plain": [
       "Index(['EDT', 'Max TemperatureF', 'Mean TemperatureF', 'Min TemperatureF',\n",
       "       'Max Dew PointF', 'MeanDew PointF', 'Min DewpointF', 'Max Humidity',\n",
       "       ' Mean Humidity', ' Min Humidity', ' Max Sea Level PressureIn',\n",
       "       ' Mean Sea Level PressureIn', ' Min Sea Level PressureIn',\n",
       "       ' Max VisibilityMiles', ' Mean VisibilityMiles', ' Min VisibilityMiles',\n",
       "       ' Max Wind SpeedMPH', ' Mean Wind SpeedMPH', ' Max Gust SpeedMPH',\n",
       "       'PrecipitationIn', ' CloudCover', ' Events', ' WindDirDegrees'],\n",
       "      dtype='object')"
      ]
     },
     "execution_count": 13,
     "metadata": {},
     "output_type": "execute_result"
    }
   ],
   "source": [
    "data.columns"
   ]
  },
  {
   "cell_type": "code",
   "execution_count": null,
   "metadata": {},
   "outputs": [],
   "source": []
  },
  {
   "cell_type": "markdown",
   "metadata": {
    "slideshow": {
     "slide_type": "slide"
    }
   },
   "source": [
    "Columns can be accessed in two ways. The first is using the DataFrame like a dictionary with string keys:"
   ]
  },
  {
   "cell_type": "code",
   "execution_count": 14,
   "metadata": {
    "slideshow": {
     "slide_type": "fragment"
    }
   },
   "outputs": [
    {
     "data": {
      "text/plain": [
       "0      2012-3-10\n",
       "1      2012-3-11\n",
       "2      2012-3-12\n",
       "3      2012-3-13\n",
       "4      2012-3-14\n",
       "5      2012-3-15\n",
       "6      2012-3-16\n",
       "7      2012-3-17\n",
       "8      2012-3-18\n",
       "9      2012-3-19\n",
       "10     2012-3-20\n",
       "11     2012-3-21\n",
       "12     2012-3-22\n",
       "13     2012-3-23\n",
       "14     2012-3-24\n",
       "15     2012-3-25\n",
       "16     2012-3-26\n",
       "17     2012-3-27\n",
       "18     2012-3-28\n",
       "19     2012-3-29\n",
       "20     2012-3-30\n",
       "21     2012-3-31\n",
       "22      2012-4-1\n",
       "23      2012-4-2\n",
       "24      2012-4-3\n",
       "25      2012-4-4\n",
       "26      2012-4-5\n",
       "27      2012-4-6\n",
       "28      2012-4-7\n",
       "29      2012-4-8\n",
       "         ...    \n",
       "336     2013-2-9\n",
       "337    2013-2-10\n",
       "338    2013-2-11\n",
       "339    2013-2-12\n",
       "340    2013-2-13\n",
       "341    2013-2-14\n",
       "342    2013-2-15\n",
       "343    2013-2-16\n",
       "344    2013-2-17\n",
       "345    2013-2-18\n",
       "346    2013-2-19\n",
       "347    2013-2-20\n",
       "348    2013-2-21\n",
       "349    2013-2-22\n",
       "350    2013-2-23\n",
       "351    2013-2-24\n",
       "352    2013-2-25\n",
       "353    2013-2-26\n",
       "354    2013-2-27\n",
       "355    2013-2-28\n",
       "356     2013-3-1\n",
       "357     2013-3-2\n",
       "358     2013-3-3\n",
       "359     2013-3-4\n",
       "360     2013-3-5\n",
       "361     2013-3-6\n",
       "362     2013-3-7\n",
       "363     2013-3-8\n",
       "364     2013-3-9\n",
       "365    2013-3-10\n",
       "Name: EDT, Length: 366, dtype: object"
      ]
     },
     "execution_count": 14,
     "metadata": {},
     "output_type": "execute_result"
    }
   ],
   "source": [
    "data[\"EDT\"]"
   ]
  },
  {
   "cell_type": "code",
   "execution_count": null,
   "metadata": {},
   "outputs": [],
   "source": []
  },
  {
   "cell_type": "markdown",
   "metadata": {
    "slideshow": {
     "slide_type": "slide"
    }
   },
   "source": [
    "You can get multiple columns out at the same time by passing in a list of strings."
   ]
  },
  {
   "cell_type": "code",
   "execution_count": 15,
   "metadata": {
    "slideshow": {
     "slide_type": "fragment"
    }
   },
   "outputs": [
    {
     "data": {
      "text/html": [
       "<div>\n",
       "<style scoped>\n",
       "    .dataframe tbody tr th:only-of-type {\n",
       "        vertical-align: middle;\n",
       "    }\n",
       "\n",
       "    .dataframe tbody tr th {\n",
       "        vertical-align: top;\n",
       "    }\n",
       "\n",
       "    .dataframe thead th {\n",
       "        text-align: right;\n",
       "    }\n",
       "</style>\n",
       "<table border=\"1\" class=\"dataframe\">\n",
       "  <thead>\n",
       "    <tr style=\"text-align: right;\">\n",
       "      <th></th>\n",
       "      <th>EDT</th>\n",
       "      <th>Mean TemperatureF</th>\n",
       "    </tr>\n",
       "  </thead>\n",
       "  <tbody>\n",
       "    <tr>\n",
       "      <th>0</th>\n",
       "      <td>2012-3-10</td>\n",
       "      <td>40</td>\n",
       "    </tr>\n",
       "    <tr>\n",
       "      <th>1</th>\n",
       "      <td>2012-3-11</td>\n",
       "      <td>49</td>\n",
       "    </tr>\n",
       "    <tr>\n",
       "      <th>2</th>\n",
       "      <td>2012-3-12</td>\n",
       "      <td>62</td>\n",
       "    </tr>\n",
       "    <tr>\n",
       "      <th>3</th>\n",
       "      <td>2012-3-13</td>\n",
       "      <td>63</td>\n",
       "    </tr>\n",
       "    <tr>\n",
       "      <th>4</th>\n",
       "      <td>2012-3-14</td>\n",
       "      <td>62</td>\n",
       "    </tr>\n",
       "    <tr>\n",
       "      <th>5</th>\n",
       "      <td>2012-3-15</td>\n",
       "      <td>69</td>\n",
       "    </tr>\n",
       "    <tr>\n",
       "      <th>6</th>\n",
       "      <td>2012-3-16</td>\n",
       "      <td>64</td>\n",
       "    </tr>\n",
       "    <tr>\n",
       "      <th>7</th>\n",
       "      <td>2012-3-17</td>\n",
       "      <td>62</td>\n",
       "    </tr>\n",
       "    <tr>\n",
       "      <th>8</th>\n",
       "      <td>2012-3-18</td>\n",
       "      <td>70</td>\n",
       "    </tr>\n",
       "    <tr>\n",
       "      <th>9</th>\n",
       "      <td>2012-3-19</td>\n",
       "      <td>72</td>\n",
       "    </tr>\n",
       "    <tr>\n",
       "      <th>10</th>\n",
       "      <td>2012-3-20</td>\n",
       "      <td>71</td>\n",
       "    </tr>\n",
       "    <tr>\n",
       "      <th>11</th>\n",
       "      <td>2012-3-21</td>\n",
       "      <td>71</td>\n",
       "    </tr>\n",
       "    <tr>\n",
       "      <th>12</th>\n",
       "      <td>2012-3-22</td>\n",
       "      <td>69</td>\n",
       "    </tr>\n",
       "    <tr>\n",
       "      <th>13</th>\n",
       "      <td>2012-3-23</td>\n",
       "      <td>64</td>\n",
       "    </tr>\n",
       "    <tr>\n",
       "      <th>14</th>\n",
       "      <td>2012-3-24</td>\n",
       "      <td>56</td>\n",
       "    </tr>\n",
       "    <tr>\n",
       "      <th>15</th>\n",
       "      <td>2012-3-25</td>\n",
       "      <td>61</td>\n",
       "    </tr>\n",
       "    <tr>\n",
       "      <th>16</th>\n",
       "      <td>2012-3-26</td>\n",
       "      <td>54</td>\n",
       "    </tr>\n",
       "    <tr>\n",
       "      <th>17</th>\n",
       "      <td>2012-3-27</td>\n",
       "      <td>54</td>\n",
       "    </tr>\n",
       "    <tr>\n",
       "      <th>18</th>\n",
       "      <td>2012-3-28</td>\n",
       "      <td>64</td>\n",
       "    </tr>\n",
       "    <tr>\n",
       "      <th>19</th>\n",
       "      <td>2012-3-29</td>\n",
       "      <td>58</td>\n",
       "    </tr>\n",
       "    <tr>\n",
       "      <th>20</th>\n",
       "      <td>2012-3-30</td>\n",
       "      <td>66</td>\n",
       "    </tr>\n",
       "    <tr>\n",
       "      <th>21</th>\n",
       "      <td>2012-3-31</td>\n",
       "      <td>58</td>\n",
       "    </tr>\n",
       "    <tr>\n",
       "      <th>22</th>\n",
       "      <td>2012-4-1</td>\n",
       "      <td>64</td>\n",
       "    </tr>\n",
       "    <tr>\n",
       "      <th>23</th>\n",
       "      <td>2012-4-2</td>\n",
       "      <td>62</td>\n",
       "    </tr>\n",
       "    <tr>\n",
       "      <th>24</th>\n",
       "      <td>2012-4-3</td>\n",
       "      <td>69</td>\n",
       "    </tr>\n",
       "    <tr>\n",
       "      <th>25</th>\n",
       "      <td>2012-4-4</td>\n",
       "      <td>62</td>\n",
       "    </tr>\n",
       "    <tr>\n",
       "      <th>26</th>\n",
       "      <td>2012-4-5</td>\n",
       "      <td>53</td>\n",
       "    </tr>\n",
       "    <tr>\n",
       "      <th>27</th>\n",
       "      <td>2012-4-6</td>\n",
       "      <td>48</td>\n",
       "    </tr>\n",
       "    <tr>\n",
       "      <th>28</th>\n",
       "      <td>2012-4-7</td>\n",
       "      <td>50</td>\n",
       "    </tr>\n",
       "    <tr>\n",
       "      <th>29</th>\n",
       "      <td>2012-4-8</td>\n",
       "      <td>56</td>\n",
       "    </tr>\n",
       "    <tr>\n",
       "      <th>...</th>\n",
       "      <td>...</td>\n",
       "      <td>...</td>\n",
       "    </tr>\n",
       "    <tr>\n",
       "      <th>336</th>\n",
       "      <td>2013-2-9</td>\n",
       "      <td>33</td>\n",
       "    </tr>\n",
       "    <tr>\n",
       "      <th>337</th>\n",
       "      <td>2013-2-10</td>\n",
       "      <td>44</td>\n",
       "    </tr>\n",
       "    <tr>\n",
       "      <th>338</th>\n",
       "      <td>2013-2-11</td>\n",
       "      <td>45</td>\n",
       "    </tr>\n",
       "    <tr>\n",
       "      <th>339</th>\n",
       "      <td>2013-2-12</td>\n",
       "      <td>35</td>\n",
       "    </tr>\n",
       "    <tr>\n",
       "      <th>340</th>\n",
       "      <td>2013-2-13</td>\n",
       "      <td>37</td>\n",
       "    </tr>\n",
       "    <tr>\n",
       "      <th>341</th>\n",
       "      <td>2013-2-14</td>\n",
       "      <td>42</td>\n",
       "    </tr>\n",
       "    <tr>\n",
       "      <th>342</th>\n",
       "      <td>2013-2-15</td>\n",
       "      <td>30</td>\n",
       "    </tr>\n",
       "    <tr>\n",
       "      <th>343</th>\n",
       "      <td>2013-2-16</td>\n",
       "      <td>24</td>\n",
       "    </tr>\n",
       "    <tr>\n",
       "      <th>344</th>\n",
       "      <td>2013-2-17</td>\n",
       "      <td>24</td>\n",
       "    </tr>\n",
       "    <tr>\n",
       "      <th>345</th>\n",
       "      <td>2013-2-18</td>\n",
       "      <td>43</td>\n",
       "    </tr>\n",
       "    <tr>\n",
       "      <th>346</th>\n",
       "      <td>2013-2-19</td>\n",
       "      <td>35</td>\n",
       "    </tr>\n",
       "    <tr>\n",
       "      <th>347</th>\n",
       "      <td>2013-2-20</td>\n",
       "      <td>21</td>\n",
       "    </tr>\n",
       "    <tr>\n",
       "      <th>348</th>\n",
       "      <td>2013-2-21</td>\n",
       "      <td>24</td>\n",
       "    </tr>\n",
       "    <tr>\n",
       "      <th>349</th>\n",
       "      <td>2013-2-22</td>\n",
       "      <td>34</td>\n",
       "    </tr>\n",
       "    <tr>\n",
       "      <th>350</th>\n",
       "      <td>2013-2-23</td>\n",
       "      <td>31</td>\n",
       "    </tr>\n",
       "    <tr>\n",
       "      <th>351</th>\n",
       "      <td>2013-2-24</td>\n",
       "      <td>33</td>\n",
       "    </tr>\n",
       "    <tr>\n",
       "      <th>352</th>\n",
       "      <td>2013-2-25</td>\n",
       "      <td>36</td>\n",
       "    </tr>\n",
       "    <tr>\n",
       "      <th>353</th>\n",
       "      <td>2013-2-26</td>\n",
       "      <td>40</td>\n",
       "    </tr>\n",
       "    <tr>\n",
       "      <th>354</th>\n",
       "      <td>2013-2-27</td>\n",
       "      <td>36</td>\n",
       "    </tr>\n",
       "    <tr>\n",
       "      <th>355</th>\n",
       "      <td>2013-2-28</td>\n",
       "      <td>35</td>\n",
       "    </tr>\n",
       "    <tr>\n",
       "      <th>356</th>\n",
       "      <td>2013-3-1</td>\n",
       "      <td>34</td>\n",
       "    </tr>\n",
       "    <tr>\n",
       "      <th>357</th>\n",
       "      <td>2013-3-2</td>\n",
       "      <td>30</td>\n",
       "    </tr>\n",
       "    <tr>\n",
       "      <th>358</th>\n",
       "      <td>2013-3-3</td>\n",
       "      <td>28</td>\n",
       "    </tr>\n",
       "    <tr>\n",
       "      <th>359</th>\n",
       "      <td>2013-3-4</td>\n",
       "      <td>30</td>\n",
       "    </tr>\n",
       "    <tr>\n",
       "      <th>360</th>\n",
       "      <td>2013-3-5</td>\n",
       "      <td>35</td>\n",
       "    </tr>\n",
       "    <tr>\n",
       "      <th>361</th>\n",
       "      <td>2013-3-6</td>\n",
       "      <td>31</td>\n",
       "    </tr>\n",
       "    <tr>\n",
       "      <th>362</th>\n",
       "      <td>2013-3-7</td>\n",
       "      <td>32</td>\n",
       "    </tr>\n",
       "    <tr>\n",
       "      <th>363</th>\n",
       "      <td>2013-3-8</td>\n",
       "      <td>35</td>\n",
       "    </tr>\n",
       "    <tr>\n",
       "      <th>364</th>\n",
       "      <td>2013-3-9</td>\n",
       "      <td>45</td>\n",
       "    </tr>\n",
       "    <tr>\n",
       "      <th>365</th>\n",
       "      <td>2013-3-10</td>\n",
       "      <td>52</td>\n",
       "    </tr>\n",
       "  </tbody>\n",
       "</table>\n",
       "<p>366 rows × 2 columns</p>\n",
       "</div>"
      ],
      "text/plain": [
       "           EDT  Mean TemperatureF\n",
       "0    2012-3-10                 40\n",
       "1    2012-3-11                 49\n",
       "2    2012-3-12                 62\n",
       "3    2012-3-13                 63\n",
       "4    2012-3-14                 62\n",
       "5    2012-3-15                 69\n",
       "6    2012-3-16                 64\n",
       "7    2012-3-17                 62\n",
       "8    2012-3-18                 70\n",
       "9    2012-3-19                 72\n",
       "10   2012-3-20                 71\n",
       "11   2012-3-21                 71\n",
       "12   2012-3-22                 69\n",
       "13   2012-3-23                 64\n",
       "14   2012-3-24                 56\n",
       "15   2012-3-25                 61\n",
       "16   2012-3-26                 54\n",
       "17   2012-3-27                 54\n",
       "18   2012-3-28                 64\n",
       "19   2012-3-29                 58\n",
       "20   2012-3-30                 66\n",
       "21   2012-3-31                 58\n",
       "22    2012-4-1                 64\n",
       "23    2012-4-2                 62\n",
       "24    2012-4-3                 69\n",
       "25    2012-4-4                 62\n",
       "26    2012-4-5                 53\n",
       "27    2012-4-6                 48\n",
       "28    2012-4-7                 50\n",
       "29    2012-4-8                 56\n",
       "..         ...                ...\n",
       "336   2013-2-9                 33\n",
       "337  2013-2-10                 44\n",
       "338  2013-2-11                 45\n",
       "339  2013-2-12                 35\n",
       "340  2013-2-13                 37\n",
       "341  2013-2-14                 42\n",
       "342  2013-2-15                 30\n",
       "343  2013-2-16                 24\n",
       "344  2013-2-17                 24\n",
       "345  2013-2-18                 43\n",
       "346  2013-2-19                 35\n",
       "347  2013-2-20                 21\n",
       "348  2013-2-21                 24\n",
       "349  2013-2-22                 34\n",
       "350  2013-2-23                 31\n",
       "351  2013-2-24                 33\n",
       "352  2013-2-25                 36\n",
       "353  2013-2-26                 40\n",
       "354  2013-2-27                 36\n",
       "355  2013-2-28                 35\n",
       "356   2013-3-1                 34\n",
       "357   2013-3-2                 30\n",
       "358   2013-3-3                 28\n",
       "359   2013-3-4                 30\n",
       "360   2013-3-5                 35\n",
       "361   2013-3-6                 31\n",
       "362   2013-3-7                 32\n",
       "363   2013-3-8                 35\n",
       "364   2013-3-9                 45\n",
       "365  2013-3-10                 52\n",
       "\n",
       "[366 rows x 2 columns]"
      ]
     },
     "execution_count": 15,
     "metadata": {},
     "output_type": "execute_result"
    }
   ],
   "source": [
    "data[[\"EDT\", \"Mean TemperatureF\"]]"
   ]
  },
  {
   "cell_type": "code",
   "execution_count": null,
   "metadata": {},
   "outputs": [],
   "source": []
  },
  {
   "cell_type": "markdown",
   "metadata": {
    "slideshow": {
     "slide_type": "slide"
    }
   },
   "source": [
    "## Dot Notation\n",
    "\n",
    "The second way to access columns is using the dot syntax. This only works if:\n",
    "- your column name could also be a Python variable name (i.e., no spaces), and \n",
    "- if it doesn't collide with another DataFrame property or function name (e.g., count, sum)."
   ]
  },
  {
   "cell_type": "code",
   "execution_count": 16,
   "metadata": {
    "slideshow": {
     "slide_type": "fragment"
    }
   },
   "outputs": [
    {
     "data": {
      "text/plain": [
       "0      2012-3-10\n",
       "1      2012-3-11\n",
       "2      2012-3-12\n",
       "3      2012-3-13\n",
       "4      2012-3-14\n",
       "5      2012-3-15\n",
       "6      2012-3-16\n",
       "7      2012-3-17\n",
       "8      2012-3-18\n",
       "9      2012-3-19\n",
       "10     2012-3-20\n",
       "11     2012-3-21\n",
       "12     2012-3-22\n",
       "13     2012-3-23\n",
       "14     2012-3-24\n",
       "15     2012-3-25\n",
       "16     2012-3-26\n",
       "17     2012-3-27\n",
       "18     2012-3-28\n",
       "19     2012-3-29\n",
       "20     2012-3-30\n",
       "21     2012-3-31\n",
       "22      2012-4-1\n",
       "23      2012-4-2\n",
       "24      2012-4-3\n",
       "25      2012-4-4\n",
       "26      2012-4-5\n",
       "27      2012-4-6\n",
       "28      2012-4-7\n",
       "29      2012-4-8\n",
       "         ...    \n",
       "336     2013-2-9\n",
       "337    2013-2-10\n",
       "338    2013-2-11\n",
       "339    2013-2-12\n",
       "340    2013-2-13\n",
       "341    2013-2-14\n",
       "342    2013-2-15\n",
       "343    2013-2-16\n",
       "344    2013-2-17\n",
       "345    2013-2-18\n",
       "346    2013-2-19\n",
       "347    2013-2-20\n",
       "348    2013-2-21\n",
       "349    2013-2-22\n",
       "350    2013-2-23\n",
       "351    2013-2-24\n",
       "352    2013-2-25\n",
       "353    2013-2-26\n",
       "354    2013-2-27\n",
       "355    2013-2-28\n",
       "356     2013-3-1\n",
       "357     2013-3-2\n",
       "358     2013-3-3\n",
       "359     2013-3-4\n",
       "360     2013-3-5\n",
       "361     2013-3-6\n",
       "362     2013-3-7\n",
       "363     2013-3-8\n",
       "364     2013-3-9\n",
       "365    2013-3-10\n",
       "Name: EDT, Length: 366, dtype: object"
      ]
     },
     "execution_count": 16,
     "metadata": {},
     "output_type": "execute_result"
    }
   ],
   "source": [
    "data.EDT"
   ]
  },
  {
   "cell_type": "code",
   "execution_count": null,
   "metadata": {},
   "outputs": [],
   "source": []
  },
  {
   "cell_type": "markdown",
   "metadata": {
    "slideshow": {
     "slide_type": "slide"
    }
   },
   "source": [
    "We'll be mostly using the dot syntax here because you can auto-complete the names in IPython. The first pandas function we'll learn about is `head()`. This gives us the first 5 items in a column (or the first 5 rows in the DataFrame)."
   ]
  },
  {
   "cell_type": "code",
   "execution_count": 17,
   "metadata": {
    "slideshow": {
     "slide_type": "fragment"
    }
   },
   "outputs": [
    {
     "data": {
      "text/plain": [
       "0    2012-3-10\n",
       "1    2012-3-11\n",
       "2    2012-3-12\n",
       "3    2012-3-13\n",
       "4    2012-3-14\n",
       "Name: EDT, dtype: object"
      ]
     },
     "execution_count": 17,
     "metadata": {},
     "output_type": "execute_result"
    }
   ],
   "source": [
    "data.EDT.head()"
   ]
  },
  {
   "cell_type": "code",
   "execution_count": null,
   "metadata": {},
   "outputs": [],
   "source": []
  },
  {
   "cell_type": "markdown",
   "metadata": {
    "slideshow": {
     "slide_type": "slide"
    }
   },
   "source": [
    "Passing in a number `n` gives us the first `n` items in the column. There is also a corresponding `tail()` method that gives the *last* `n` items or rows."
   ]
  },
  {
   "cell_type": "code",
   "execution_count": 18,
   "metadata": {
    "slideshow": {
     "slide_type": "fragment"
    }
   },
   "outputs": [
    {
     "data": {
      "text/plain": [
       "EDT                 2013-3-9\n",
       "Max TemperatureF         106\n",
       "dtype: object"
      ]
     },
     "execution_count": 18,
     "metadata": {},
     "output_type": "execute_result"
    }
   ],
   "source": [
    "data[['EDT', 'Max TemperatureF']].max()"
   ]
  },
  {
   "cell_type": "markdown",
   "metadata": {
    "slideshow": {
     "slide_type": "slide"
    }
   },
   "source": [
    "This also works with the dictionary syntax."
   ]
  },
  {
   "cell_type": "code",
   "execution_count": 19,
   "metadata": {
    "slideshow": {
     "slide_type": "fragment"
    }
   },
   "outputs": [
    {
     "data": {
      "text/plain": [
       "0    40\n",
       "1    49\n",
       "2    62\n",
       "3    63\n",
       "4    62\n",
       "Name: Mean TemperatureF, dtype: int64"
      ]
     },
     "execution_count": 19,
     "metadata": {},
     "output_type": "execute_result"
    }
   ],
   "source": [
    "data[\"Mean TemperatureF\"].head()"
   ]
  },
  {
   "cell_type": "code",
   "execution_count": 20,
   "metadata": {},
   "outputs": [
    {
     "name": "stdout",
     "output_type": "stream",
     "text": [
      "<class 'pandas.core.frame.DataFrame'>\n",
      "RangeIndex: 366 entries, 0 to 365\n",
      "Data columns (total 23 columns):\n",
      "EDT                           366 non-null object\n",
      "Max TemperatureF              366 non-null int64\n",
      "Mean TemperatureF             366 non-null int64\n",
      "Min TemperatureF              366 non-null int64\n",
      "Max Dew PointF                366 non-null int64\n",
      "MeanDew PointF                366 non-null int64\n",
      "Min DewpointF                 366 non-null int64\n",
      "Max Humidity                  366 non-null int64\n",
      " Mean Humidity                366 non-null int64\n",
      " Min Humidity                 366 non-null int64\n",
      " Max Sea Level PressureIn     366 non-null float64\n",
      " Mean Sea Level PressureIn    366 non-null float64\n",
      " Min Sea Level PressureIn     366 non-null float64\n",
      " Max VisibilityMiles          366 non-null int64\n",
      " Mean VisibilityMiles         366 non-null int64\n",
      " Min VisibilityMiles          366 non-null int64\n",
      " Max Wind SpeedMPH            366 non-null int64\n",
      " Mean Wind SpeedMPH           366 non-null int64\n",
      " Max Gust SpeedMPH            365 non-null float64\n",
      "PrecipitationIn               366 non-null object\n",
      " CloudCover                   366 non-null int64\n",
      " Events                       162 non-null object\n",
      " WindDirDegrees               366 non-null int64\n",
      "dtypes: float64(4), int64(16), object(3)\n",
      "memory usage: 65.8+ KB\n"
     ]
    }
   ],
   "source": [
    "data.info()"
   ]
  },
  {
   "cell_type": "code",
   "execution_count": 21,
   "metadata": {},
   "outputs": [
    {
     "data": {
      "text/plain": [
       "0      50\n",
       "1      53\n",
       "2      76\n",
       "3      66\n",
       "4      68\n",
       "5      69\n",
       "6      75\n",
       "7      78\n",
       "8      69\n",
       "9      66\n",
       "10     58\n",
       "11     58\n",
       "12     65\n",
       "13     79\n",
       "14     80\n",
       "15     82\n",
       "16     64\n",
       "17     46\n",
       "18     47\n",
       "19     55\n",
       "20     59\n",
       "21     71\n",
       "22     75\n",
       "23     73\n",
       "24     53\n",
       "25     74\n",
       "26     64\n",
       "27     56\n",
       "28     52\n",
       "29     48\n",
       "       ..\n",
       "336    67\n",
       "337    71\n",
       "338    71\n",
       "339    66\n",
       "340    63\n",
       "341    70\n",
       "342    66\n",
       "343    63\n",
       "344    56\n",
       "345    61\n",
       "346    71\n",
       "347    58\n",
       "348    71\n",
       "349    83\n",
       "350    64\n",
       "351    64\n",
       "352    63\n",
       "353    72\n",
       "354    87\n",
       "355    86\n",
       "356    80\n",
       "357    72\n",
       "358    63\n",
       "359    64\n",
       "360    80\n",
       "361    85\n",
       "362    71\n",
       "363    65\n",
       "364    57\n",
       "365    48\n",
       "Name:  Mean Humidity, Length: 366, dtype: int64"
      ]
     },
     "execution_count": 21,
     "metadata": {},
     "output_type": "execute_result"
    }
   ],
   "source": [
    "data[\" Mean Humidity\"]"
   ]
  },
  {
   "cell_type": "markdown",
   "metadata": {
    "slideshow": {
     "slide_type": "subslide"
    }
   },
   "source": [
    "## Exercise 1:\n",
    "\n",
    "How would we get the second to last date (EDT) in the dataset?"
   ]
  },
  {
   "cell_type": "code",
   "execution_count": 23,
   "metadata": {
    "slideshow": {
     "slide_type": "subslide"
    }
   },
   "outputs": [
    {
     "data": {
      "text/plain": [
       "'2013-3-10'"
      ]
     },
     "execution_count": 23,
     "metadata": {},
     "output_type": "execute_result"
    }
   ],
   "source": [
    "data.EDT[len(data) -1]"
   ]
  },
  {
   "cell_type": "markdown",
   "metadata": {
    "slideshow": {
     "slide_type": "slide"
    }
   },
   "source": [
    "If the data in the column is numeric, you can use `describe()` to get some stats on it."
   ]
  },
  {
   "cell_type": "code",
   "execution_count": 24,
   "metadata": {
    "slideshow": {
     "slide_type": "fragment"
    }
   },
   "outputs": [
    {
     "data": {
      "text/plain": [
       "count    366.000000\n",
       "mean      55.683060\n",
       "std       18.436506\n",
       "min       11.000000\n",
       "25%       41.000000\n",
       "50%       59.000000\n",
       "75%       70.750000\n",
       "max       89.000000\n",
       "Name: Mean TemperatureF, dtype: float64"
      ]
     },
     "execution_count": 24,
     "metadata": {},
     "output_type": "execute_result"
    }
   ],
   "source": [
    "data[\"Mean TemperatureF\"].describe()"
   ]
  },
  {
   "cell_type": "code",
   "execution_count": 25,
   "metadata": {},
   "outputs": [
    {
     "data": {
      "text/html": [
       "<div>\n",
       "<style scoped>\n",
       "    .dataframe tbody tr th:only-of-type {\n",
       "        vertical-align: middle;\n",
       "    }\n",
       "\n",
       "    .dataframe tbody tr th {\n",
       "        vertical-align: top;\n",
       "    }\n",
       "\n",
       "    .dataframe thead th {\n",
       "        text-align: right;\n",
       "    }\n",
       "</style>\n",
       "<table border=\"1\" class=\"dataframe\">\n",
       "  <thead>\n",
       "    <tr style=\"text-align: right;\">\n",
       "      <th></th>\n",
       "      <th>Max TemperatureF</th>\n",
       "      <th>Mean TemperatureF</th>\n",
       "      <th>Min TemperatureF</th>\n",
       "      <th>Max Dew PointF</th>\n",
       "      <th>MeanDew PointF</th>\n",
       "      <th>Min DewpointF</th>\n",
       "      <th>Max Humidity</th>\n",
       "      <th>Mean Humidity</th>\n",
       "      <th>Min Humidity</th>\n",
       "      <th>Max Sea Level PressureIn</th>\n",
       "      <th>Mean Sea Level PressureIn</th>\n",
       "      <th>Min Sea Level PressureIn</th>\n",
       "      <th>Max VisibilityMiles</th>\n",
       "      <th>Mean VisibilityMiles</th>\n",
       "      <th>Min VisibilityMiles</th>\n",
       "      <th>Max Wind SpeedMPH</th>\n",
       "      <th>Mean Wind SpeedMPH</th>\n",
       "      <th>Max Gust SpeedMPH</th>\n",
       "      <th>CloudCover</th>\n",
       "      <th>WindDirDegrees</th>\n",
       "    </tr>\n",
       "  </thead>\n",
       "  <tbody>\n",
       "    <tr>\n",
       "      <th>count</th>\n",
       "      <td>366.000000</td>\n",
       "      <td>366.000000</td>\n",
       "      <td>366.000000</td>\n",
       "      <td>366.000000</td>\n",
       "      <td>366.000000</td>\n",
       "      <td>366.000000</td>\n",
       "      <td>366.000000</td>\n",
       "      <td>366.000000</td>\n",
       "      <td>366.000000</td>\n",
       "      <td>366.000000</td>\n",
       "      <td>366.000000</td>\n",
       "      <td>366.000000</td>\n",
       "      <td>366.000000</td>\n",
       "      <td>366.000000</td>\n",
       "      <td>366.000000</td>\n",
       "      <td>366.000000</td>\n",
       "      <td>366.000000</td>\n",
       "      <td>365.000000</td>\n",
       "      <td>366.000000</td>\n",
       "      <td>366.000000</td>\n",
       "    </tr>\n",
       "    <tr>\n",
       "      <th>mean</th>\n",
       "      <td>66.803279</td>\n",
       "      <td>55.683060</td>\n",
       "      <td>44.101093</td>\n",
       "      <td>49.549180</td>\n",
       "      <td>44.057377</td>\n",
       "      <td>37.980874</td>\n",
       "      <td>90.027322</td>\n",
       "      <td>67.860656</td>\n",
       "      <td>45.193989</td>\n",
       "      <td>30.108907</td>\n",
       "      <td>30.022705</td>\n",
       "      <td>29.936831</td>\n",
       "      <td>9.994536</td>\n",
       "      <td>8.732240</td>\n",
       "      <td>5.797814</td>\n",
       "      <td>16.418033</td>\n",
       "      <td>6.057377</td>\n",
       "      <td>22.764384</td>\n",
       "      <td>2.885246</td>\n",
       "      <td>189.704918</td>\n",
       "    </tr>\n",
       "    <tr>\n",
       "      <th>std</th>\n",
       "      <td>20.361247</td>\n",
       "      <td>18.436506</td>\n",
       "      <td>17.301141</td>\n",
       "      <td>16.397178</td>\n",
       "      <td>16.829996</td>\n",
       "      <td>17.479449</td>\n",
       "      <td>9.108438</td>\n",
       "      <td>9.945591</td>\n",
       "      <td>15.360261</td>\n",
       "      <td>0.172189</td>\n",
       "      <td>0.174112</td>\n",
       "      <td>0.182476</td>\n",
       "      <td>0.073821</td>\n",
       "      <td>1.875406</td>\n",
       "      <td>3.792219</td>\n",
       "      <td>5.564329</td>\n",
       "      <td>3.200940</td>\n",
       "      <td>8.131092</td>\n",
       "      <td>2.707261</td>\n",
       "      <td>94.045080</td>\n",
       "    </tr>\n",
       "    <tr>\n",
       "      <th>min</th>\n",
       "      <td>16.000000</td>\n",
       "      <td>11.000000</td>\n",
       "      <td>1.000000</td>\n",
       "      <td>0.000000</td>\n",
       "      <td>-3.000000</td>\n",
       "      <td>-5.000000</td>\n",
       "      <td>54.000000</td>\n",
       "      <td>37.000000</td>\n",
       "      <td>15.000000</td>\n",
       "      <td>29.640000</td>\n",
       "      <td>29.420000</td>\n",
       "      <td>29.230000</td>\n",
       "      <td>9.000000</td>\n",
       "      <td>2.000000</td>\n",
       "      <td>0.000000</td>\n",
       "      <td>6.000000</td>\n",
       "      <td>0.000000</td>\n",
       "      <td>7.000000</td>\n",
       "      <td>0.000000</td>\n",
       "      <td>1.000000</td>\n",
       "    </tr>\n",
       "    <tr>\n",
       "      <th>25%</th>\n",
       "      <td>51.000000</td>\n",
       "      <td>41.000000</td>\n",
       "      <td>30.000000</td>\n",
       "      <td>36.000000</td>\n",
       "      <td>30.000000</td>\n",
       "      <td>24.000000</td>\n",
       "      <td>85.000000</td>\n",
       "      <td>61.250000</td>\n",
       "      <td>35.000000</td>\n",
       "      <td>29.990000</td>\n",
       "      <td>29.910000</td>\n",
       "      <td>29.830000</td>\n",
       "      <td>10.000000</td>\n",
       "      <td>8.000000</td>\n",
       "      <td>2.000000</td>\n",
       "      <td>13.000000</td>\n",
       "      <td>4.000000</td>\n",
       "      <td>17.000000</td>\n",
       "      <td>0.000000</td>\n",
       "      <td>131.000000</td>\n",
       "    </tr>\n",
       "    <tr>\n",
       "      <th>50%</th>\n",
       "      <td>69.000000</td>\n",
       "      <td>59.000000</td>\n",
       "      <td>47.000000</td>\n",
       "      <td>54.500000</td>\n",
       "      <td>48.000000</td>\n",
       "      <td>41.000000</td>\n",
       "      <td>93.000000</td>\n",
       "      <td>68.000000</td>\n",
       "      <td>42.000000</td>\n",
       "      <td>30.100000</td>\n",
       "      <td>30.020000</td>\n",
       "      <td>29.940000</td>\n",
       "      <td>10.000000</td>\n",
       "      <td>10.000000</td>\n",
       "      <td>6.000000</td>\n",
       "      <td>16.000000</td>\n",
       "      <td>6.000000</td>\n",
       "      <td>22.000000</td>\n",
       "      <td>2.000000</td>\n",
       "      <td>192.500000</td>\n",
       "    </tr>\n",
       "    <tr>\n",
       "      <th>75%</th>\n",
       "      <td>84.000000</td>\n",
       "      <td>70.750000</td>\n",
       "      <td>57.750000</td>\n",
       "      <td>62.000000</td>\n",
       "      <td>57.000000</td>\n",
       "      <td>51.000000</td>\n",
       "      <td>96.000000</td>\n",
       "      <td>74.000000</td>\n",
       "      <td>54.000000</td>\n",
       "      <td>30.210000</td>\n",
       "      <td>30.127500</td>\n",
       "      <td>30.040000</td>\n",
       "      <td>10.000000</td>\n",
       "      <td>10.000000</td>\n",
       "      <td>10.000000</td>\n",
       "      <td>20.000000</td>\n",
       "      <td>8.000000</td>\n",
       "      <td>26.000000</td>\n",
       "      <td>5.000000</td>\n",
       "      <td>259.750000</td>\n",
       "    </tr>\n",
       "    <tr>\n",
       "      <th>max</th>\n",
       "      <td>106.000000</td>\n",
       "      <td>89.000000</td>\n",
       "      <td>77.000000</td>\n",
       "      <td>77.000000</td>\n",
       "      <td>72.000000</td>\n",
       "      <td>71.000000</td>\n",
       "      <td>100.000000</td>\n",
       "      <td>95.000000</td>\n",
       "      <td>90.000000</td>\n",
       "      <td>30.600000</td>\n",
       "      <td>30.480000</td>\n",
       "      <td>30.440000</td>\n",
       "      <td>10.000000</td>\n",
       "      <td>10.000000</td>\n",
       "      <td>10.000000</td>\n",
       "      <td>39.000000</td>\n",
       "      <td>19.000000</td>\n",
       "      <td>63.000000</td>\n",
       "      <td>8.000000</td>\n",
       "      <td>360.000000</td>\n",
       "    </tr>\n",
       "  </tbody>\n",
       "</table>\n",
       "</div>"
      ],
      "text/plain": [
       "       Max TemperatureF  Mean TemperatureF  Min TemperatureF  Max Dew PointF  \\\n",
       "count        366.000000         366.000000        366.000000      366.000000   \n",
       "mean          66.803279          55.683060         44.101093       49.549180   \n",
       "std           20.361247          18.436506         17.301141       16.397178   \n",
       "min           16.000000          11.000000          1.000000        0.000000   \n",
       "25%           51.000000          41.000000         30.000000       36.000000   \n",
       "50%           69.000000          59.000000         47.000000       54.500000   \n",
       "75%           84.000000          70.750000         57.750000       62.000000   \n",
       "max          106.000000          89.000000         77.000000       77.000000   \n",
       "\n",
       "       MeanDew PointF  Min DewpointF  Max Humidity   Mean Humidity  \\\n",
       "count      366.000000     366.000000    366.000000      366.000000   \n",
       "mean        44.057377      37.980874     90.027322       67.860656   \n",
       "std         16.829996      17.479449      9.108438        9.945591   \n",
       "min         -3.000000      -5.000000     54.000000       37.000000   \n",
       "25%         30.000000      24.000000     85.000000       61.250000   \n",
       "50%         48.000000      41.000000     93.000000       68.000000   \n",
       "75%         57.000000      51.000000     96.000000       74.000000   \n",
       "max         72.000000      71.000000    100.000000       95.000000   \n",
       "\n",
       "        Min Humidity   Max Sea Level PressureIn   Mean Sea Level PressureIn  \\\n",
       "count     366.000000                 366.000000                  366.000000   \n",
       "mean       45.193989                  30.108907                   30.022705   \n",
       "std        15.360261                   0.172189                    0.174112   \n",
       "min        15.000000                  29.640000                   29.420000   \n",
       "25%        35.000000                  29.990000                   29.910000   \n",
       "50%        42.000000                  30.100000                   30.020000   \n",
       "75%        54.000000                  30.210000                   30.127500   \n",
       "max        90.000000                  30.600000                   30.480000   \n",
       "\n",
       "        Min Sea Level PressureIn   Max VisibilityMiles   Mean VisibilityMiles  \\\n",
       "count                 366.000000            366.000000             366.000000   \n",
       "mean                   29.936831              9.994536               8.732240   \n",
       "std                     0.182476              0.073821               1.875406   \n",
       "min                    29.230000              9.000000               2.000000   \n",
       "25%                    29.830000             10.000000               8.000000   \n",
       "50%                    29.940000             10.000000              10.000000   \n",
       "75%                    30.040000             10.000000              10.000000   \n",
       "max                    30.440000             10.000000              10.000000   \n",
       "\n",
       "        Min VisibilityMiles   Max Wind SpeedMPH   Mean Wind SpeedMPH  \\\n",
       "count            366.000000          366.000000           366.000000   \n",
       "mean               5.797814           16.418033             6.057377   \n",
       "std                3.792219            5.564329             3.200940   \n",
       "min                0.000000            6.000000             0.000000   \n",
       "25%                2.000000           13.000000             4.000000   \n",
       "50%                6.000000           16.000000             6.000000   \n",
       "75%               10.000000           20.000000             8.000000   \n",
       "max               10.000000           39.000000            19.000000   \n",
       "\n",
       "        Max Gust SpeedMPH   CloudCover   WindDirDegrees  \n",
       "count          365.000000   366.000000       366.000000  \n",
       "mean            22.764384     2.885246       189.704918  \n",
       "std              8.131092     2.707261        94.045080  \n",
       "min              7.000000     0.000000         1.000000  \n",
       "25%             17.000000     0.000000       131.000000  \n",
       "50%             22.000000     2.000000       192.500000  \n",
       "75%             26.000000     5.000000       259.750000  \n",
       "max             63.000000     8.000000       360.000000  "
      ]
     },
     "execution_count": 25,
     "metadata": {},
     "output_type": "execute_result"
    }
   ],
   "source": [
    "data.describe()"
   ]
  },
  {
   "cell_type": "markdown",
   "metadata": {
    "slideshow": {
     "slide_type": "slide"
    }
   },
   "source": [
    "## Fun with Columns"
   ]
  },
  {
   "cell_type": "markdown",
   "metadata": {
    "slideshow": {
     "slide_type": "fragment"
    }
   },
   "source": [
    "The column names in `data` are a little unwieldy, so we're going to rename them. At first we will automate the renaming but then to make them easier to read we will assigning a new list of column names to the `columns` property of the DataFrame."
   ]
  },
  {
   "cell_type": "code",
   "execution_count": 26,
   "metadata": {
    "slideshow": {
     "slide_type": "slide"
    }
   },
   "outputs": [
    {
     "data": {
      "text/plain": [
       "Index(['EDT', 'Max TemperatureF', 'Mean TemperatureF', 'Min TemperatureF',\n",
       "       'Max Dew PointF', 'MeanDew PointF', 'Min DewpointF', 'Max Humidity',\n",
       "       ' Mean Humidity', ' Min Humidity', ' Max Sea Level PressureIn',\n",
       "       ' Mean Sea Level PressureIn', ' Min Sea Level PressureIn',\n",
       "       ' Max VisibilityMiles', ' Mean VisibilityMiles', ' Min VisibilityMiles',\n",
       "       ' Max Wind SpeedMPH', ' Mean Wind SpeedMPH', ' Max Gust SpeedMPH',\n",
       "       'PrecipitationIn', ' CloudCover', ' Events', ' WindDirDegrees'],\n",
       "      dtype='object')"
      ]
     },
     "execution_count": 26,
     "metadata": {},
     "output_type": "execute_result"
    }
   ],
   "source": [
    "data.columns"
   ]
  },
  {
   "cell_type": "code",
   "execution_count": 27,
   "metadata": {
    "slideshow": {
     "slide_type": "slide"
    }
   },
   "outputs": [],
   "source": [
    "def rename_dataframe_columns(df):\n",
    "    \"\"\"\n",
    "    This functions renames columns by replacing spaces with underscores \n",
    "    and making everything lower case\n",
    "    \n",
    "    df: pandas dataframe as input\n",
    "    \"\"\"\n",
    "    cols = df.columns\n",
    "    new_column_names = []\n",
    "\n",
    "    for col in cols:\n",
    "        new_col = col.lstrip().lower().replace(\" \", \"_\") #strip beginning spaces, makes lowercase, add underscpre\n",
    "        new_column_names.append(new_col)\n",
    "\n",
    "    df.columns = new_column_names"
   ]
  },
  {
   "cell_type": "code",
   "execution_count": 28,
   "metadata": {},
   "outputs": [],
   "source": [
    "rename_dataframe_columns(data)"
   ]
  },
  {
   "cell_type": "code",
   "execution_count": 29,
   "metadata": {
    "slideshow": {
     "slide_type": "slide"
    }
   },
   "outputs": [
    {
     "data": {
      "text/plain": [
       "Index(['edt', 'max_temperaturef', 'mean_temperaturef', 'min_temperaturef',\n",
       "       'max_dew_pointf', 'meandew_pointf', 'min_dewpointf', 'max_humidity',\n",
       "       'mean_humidity', 'min_humidity', 'max_sea_level_pressurein',\n",
       "       'mean_sea_level_pressurein', 'min_sea_level_pressurein',\n",
       "       'max_visibilitymiles', 'mean_visibilitymiles', 'min_visibilitymiles',\n",
       "       'max_wind_speedmph', 'mean_wind_speedmph', 'max_gust_speedmph',\n",
       "       'precipitationin', 'cloudcover', 'events', 'winddirdegrees'],\n",
       "      dtype='object')"
      ]
     },
     "execution_count": 29,
     "metadata": {},
     "output_type": "execute_result"
    }
   ],
   "source": [
    "data.columns"
   ]
  },
  {
   "cell_type": "markdown",
   "metadata": {
    "slideshow": {
     "slide_type": "fragment"
    }
   },
   "source": [
    "Instead of these names we will just rename all columns with a shorter name:"
   ]
  },
  {
   "cell_type": "code",
   "execution_count": 30,
   "metadata": {
    "slideshow": {
     "slide_type": "fragment"
    }
   },
   "outputs": [],
   "source": [
    "data.columns = [\"date\", \"max_temp\", \"mean_temp\", \"min_temp\", \"max_dew\",\n",
    "                \"mean_dew\", \"min_dew\", \"max_humidity\", \"mean_humidity\",\n",
    "                \"min_humidity\", \"max_pressure\", \"mean_pressure\",\n",
    "                \"min_pressure\", \"max_visibilty\", \"mean_visibility\",\n",
    "                \"min_visibility\", \"max_wind\", \"mean_wind\", \"min_wind\",\n",
    "                \"precipitation\", \"cloud_cover\", \"events\", \"wind_dir\"]"
   ]
  },
  {
   "cell_type": "markdown",
   "metadata": {},
   "source": [
    "To rename one or more DataFrame columns\n",
    "\n",
    "    data = data.rename(columns = {\n",
    "\n",
    "        'col1 old name':'col1 new name',\n",
    "        'col2 old name':'col2 new name',\n",
    "        'col3 old name':'col3 new name'\n",
    "    })"
   ]
  },
  {
   "cell_type": "markdown",
   "metadata": {
    "slideshow": {
     "slide_type": "slide"
    }
   },
   "source": [
    "These should be in the same order as the original columns. Let's take another look at our DataFrame summary."
   ]
  },
  {
   "cell_type": "code",
   "execution_count": 31,
   "metadata": {
    "slideshow": {
     "slide_type": "fragment"
    }
   },
   "outputs": [
    {
     "name": "stdout",
     "output_type": "stream",
     "text": [
      "<class 'pandas.core.frame.DataFrame'>\n",
      "RangeIndex: 366 entries, 0 to 365\n",
      "Data columns (total 23 columns):\n",
      "date               366 non-null object\n",
      "max_temp           366 non-null int64\n",
      "mean_temp          366 non-null int64\n",
      "min_temp           366 non-null int64\n",
      "max_dew            366 non-null int64\n",
      "mean_dew           366 non-null int64\n",
      "min_dew            366 non-null int64\n",
      "max_humidity       366 non-null int64\n",
      "mean_humidity      366 non-null int64\n",
      "min_humidity       366 non-null int64\n",
      "max_pressure       366 non-null float64\n",
      "mean_pressure      366 non-null float64\n",
      "min_pressure       366 non-null float64\n",
      "max_visibilty      366 non-null int64\n",
      "mean_visibility    366 non-null int64\n",
      "min_visibility     366 non-null int64\n",
      "max_wind           366 non-null int64\n",
      "mean_wind          366 non-null int64\n",
      "min_wind           365 non-null float64\n",
      "precipitation      366 non-null object\n",
      "cloud_cover        366 non-null int64\n",
      "events             162 non-null object\n",
      "wind_dir           366 non-null int64\n",
      "dtypes: float64(4), int64(16), object(3)\n",
      "memory usage: 65.8+ KB\n"
     ]
    }
   ],
   "source": [
    "data.info()"
   ]
  },
  {
   "cell_type": "markdown",
   "metadata": {
    "slideshow": {
     "slide_type": "slide"
    }
   },
   "source": [
    "Now our columns can all be accessed using the dot syntax!"
   ]
  },
  {
   "cell_type": "code",
   "execution_count": 32,
   "metadata": {
    "slideshow": {
     "slide_type": "fragment"
    }
   },
   "outputs": [
    {
     "data": {
      "text/plain": [
       "0    56\n",
       "1    67\n",
       "2    71\n",
       "3    76\n",
       "4    80\n",
       "Name: max_temp, dtype: int64"
      ]
     },
     "execution_count": 32,
     "metadata": {},
     "output_type": "execute_result"
    }
   ],
   "source": [
    "data.max_temp.head()"
   ]
  },
  {
   "cell_type": "markdown",
   "metadata": {
    "slideshow": {
     "slide_type": "slide"
    }
   },
   "source": [
    "There are lots useful methods on columns, such as `std()` to get the standard deviation. Most of pandas' methods will happily ignore missing values like `NaN`."
   ]
  },
  {
   "cell_type": "code",
   "execution_count": 33,
   "metadata": {
    "slideshow": {
     "slide_type": "fragment"
    }
   },
   "outputs": [
    {
     "data": {
      "text/plain": [
       "18.436505996251068"
      ]
     },
     "execution_count": 33,
     "metadata": {},
     "output_type": "execute_result"
    }
   ],
   "source": [
    "data.mean_temp.std()"
   ]
  },
  {
   "cell_type": "code",
   "execution_count": null,
   "metadata": {},
   "outputs": [],
   "source": []
  },
  {
   "cell_type": "markdown",
   "metadata": {
    "slideshow": {
     "slide_type": "slide"
    }
   },
   "source": [
    "Some methods, like `plot()` and `hist()` produce plots using [matplotlib](http://matplotlib.org/).\n",
    "\n",
    "To make plots using Matplotlib, you must first enable IPython's matplotlib mode. To do this, run the `%matplotlib inline` magic command to enable plotting in the current Notebook. \\[If that doesn't work (because you have an older version of IPython), try `%pylab inline`. You may also have to restart the IPython kernel.\\]\n",
    "\n",
    "We'll go over plotting in more detail later."
   ]
  },
  {
   "cell_type": "code",
   "execution_count": 34,
   "metadata": {
    "slideshow": {
     "slide_type": "slide"
    }
   },
   "outputs": [
    {
     "data": {
      "text/plain": [
       "<matplotlib.axes._subplots.AxesSubplot at 0x7f9fb8f55438>"
      ]
     },
     "execution_count": 34,
     "metadata": {},
     "output_type": "execute_result"
    },
    {
     "data": {
      "image/png": "[encoded data removed]",
      "text/plain": [
       "<matplotlib.figure.Figure at 0x7f9fd16296d8>"
      ]
     },
     "metadata": {
      "needs_background": "light"
     },
     "output_type": "display_data"
    }
   ],
   "source": [
    "%matplotlib inline\n",
    "data.mean_temp.hist()"
   ]
  },
  {
   "cell_type": "code",
   "execution_count": 35,
   "metadata": {},
   "outputs": [
    {
     "data": {
      "text/plain": [
       "<matplotlib.axes._subplots.AxesSubplot at 0x7f9fb8eef9b0>"
      ]
     },
     "execution_count": 35,
     "metadata": {},
     "output_type": "execute_result"
    },
    {
     "data": {
      "image/png": "[encoded data removed]",
      "text/plain": [
       "<matplotlib.figure.Figure at 0x7f9fb8f124a8>"
      ]
     },
     "metadata": {
      "needs_background": "light"
     },
     "output_type": "display_data"
    }
   ],
   "source": [
    "%matplotlib inline\n",
    "\n",
    "data.mean_temp.hist()"
   ]
  },
  {
   "cell_type": "markdown",
   "metadata": {
    "slideshow": {
     "slide_type": "subslide"
    }
   },
   "source": [
    "If you want to add labels and save the plot as a `png` file that is sized 800 pixels by 600 pixels:"
   ]
  },
  {
   "cell_type": "code",
   "execution_count": 36,
   "metadata": {
    "slideshow": {
     "slide_type": "fragment"
    }
   },
   "outputs": [
    {
     "data": {
      "image/png": "[encoded data removed]",
      "text/plain": [
       "<matplotlib.figure.Figure at 0x7f9fb8e41550>"
      ]
     },
     "metadata": {
      "needs_background": "light"
     },
     "output_type": "display_data"
    }
   ],
   "source": [
    "ax = data.mean_temp.hist()   # get plot axes object\n",
    "\n",
    "ax.set_xlabel('Daily Mean Temperature (F)')\n",
    "ax.set_ylabel('# of Occurances')\n",
    "ax.set_title('Mean Temperature Histogram')\n",
    "\n",
    "fig = ax.get_figure()        # get plot figure object\n",
    "fig.set_size_inches(8,6)     # set plot size\n",
    "fig.savefig('/home/melissaa/Desktop/MeanTempHistogram.jpg', dpi=100)"
   ]
  },
  {
   "cell_type": "code",
   "execution_count": 37,
   "metadata": {},
   "outputs": [
    {
     "name": "stdout",
     "output_type": "stream",
     "text": [
      "total 6952\n",
      "-rwxr-xr-x 1 manager manager 7001459 Jul 14 19:10 00_Intro_Python_Programming.pptx\n",
      "-rwxr-xr-x 1 manager manager    8616 Jul 16 12:05 01_how_to_run_python_code.ipynb\n",
      "-rwxr-xr-x 1 manager manager   28519 Jul 14 19:10 02_intro_python.ipynb\n",
      "-rwxr-xr-x 1 manager manager   63282 Jul 14 19:10 03_python_data_analysis.ipynb\n",
      "drwxr-xr-x 5 manager manager    4096 Jul 14 19:10 biopython-notebook-master\n",
      "drwxr-xr-x 2 manager manager    4096 Jul 14 19:10 data\n"
     ]
    }
   ],
   "source": [
    "!ls -l"
   ]
  },
  {
   "cell_type": "code",
   "execution_count": 38,
   "metadata": {},
   "outputs": [
    {
     "data": {
      "text/plain": [
       "matplotlib.axes._subplots.AxesSubplot"
      ]
     },
     "execution_count": 38,
     "metadata": {},
     "output_type": "execute_result"
    }
   ],
   "source": [
    "type(ax)"
   ]
  },
  {
   "cell_type": "code",
   "execution_count": 39,
   "metadata": {},
   "outputs": [
    {
     "data": {
      "text/plain": [
       "\u001b[0;31mSignature:\u001b[0m \u001b[0mdata\u001b[0m\u001b[0;34m.\u001b[0m\u001b[0mmean_temp\u001b[0m\u001b[0;34m.\u001b[0m\u001b[0mhist\u001b[0m\u001b[0;34m(\u001b[0m\u001b[0mby\u001b[0m\u001b[0;34m=\u001b[0m\u001b[0;32mNone\u001b[0m\u001b[0;34m,\u001b[0m \u001b[0max\u001b[0m\u001b[0;34m=\u001b[0m\u001b[0;32mNone\u001b[0m\u001b[0;34m,\u001b[0m \u001b[0mgrid\u001b[0m\u001b[0;34m=\u001b[0m\u001b[0;32mTrue\u001b[0m\u001b[0;34m,\u001b[0m \u001b[0mxlabelsize\u001b[0m\u001b[0;34m=\u001b[0m\u001b[0;32mNone\u001b[0m\u001b[0;34m,\u001b[0m \u001b[0mxrot\u001b[0m\u001b[0;34m=\u001b[0m\u001b[0;32mNone\u001b[0m\u001b[0;34m,\u001b[0m \u001b[0mylabelsize\u001b[0m\u001b[0;34m=\u001b[0m\u001b[0;32mNone\u001b[0m\u001b[0;34m,\u001b[0m \u001b[0myrot\u001b[0m\u001b[0;34m=\u001b[0m\u001b[0;32mNone\u001b[0m\u001b[0;34m,\u001b[0m \u001b[0mfigsize\u001b[0m\u001b[0;34m=\u001b[0m\u001b[0;32mNone\u001b[0m\u001b[0;34m,\u001b[0m \u001b[0mbins\u001b[0m\u001b[0;34m=\u001b[0m\u001b[0;36m10\u001b[0m\u001b[0;34m,\u001b[0m \u001b[0;34m**\u001b[0m\u001b[0mkwds\u001b[0m\u001b[0;34m)\u001b[0m\u001b[0;34m\u001b[0m\u001b[0;34m\u001b[0m\u001b[0m\n",
       "\u001b[0;31mDocstring:\u001b[0m\n",
       "Draw histogram of the input series using matplotlib\n",
       "\n",
       "Parameters\n",
       "----------\n",
       "by : object, optional\n",
       "    If passed, then used to form histograms for separate groups\n",
       "ax : matplotlib axis object\n",
       "    If not passed, uses gca()\n",
       "grid : boolean, default True\n",
       "    Whether to show axis grid lines\n",
       "xlabelsize : int, default None\n",
       "    If specified changes the x-axis label size\n",
       "xrot : float, default None\n",
       "    rotation of x axis labels\n",
       "ylabelsize : int, default None\n",
       "    If specified changes the y-axis label size\n",
       "yrot : float, default None\n",
       "    rotation of y axis labels\n",
       "figsize : tuple, default None\n",
       "    figure size in inches by default\n",
       "bins: integer, default 10\n",
       "    Number of histogram bins to be used\n",
       "kwds : keywords\n",
       "    To be passed to the actual plotting function\n",
       "\n",
       "Notes\n",
       "-----\n",
       "See matplotlib documentation online for more on this\n",
       "\u001b[0;31mFile:\u001b[0m      /usr/lib/python3/dist-packages/pandas/plotting/_core.py\n",
       "\u001b[0;31mType:\u001b[0m      method\n"
      ]
     },
     "metadata": {},
     "output_type": "display_data"
    }
   ],
   "source": [
    "data.mean_temp.hist?"
   ]
  },
  {
   "cell_type": "code",
   "execution_count": 40,
   "metadata": {},
   "outputs": [
    {
     "data": {
      "image/png": "[encoded data removed]",
      "text/plain": [
       "<matplotlib.figure.Figure at 0x7f9fb8e4f588>"
      ]
     },
     "metadata": {
      "needs_background": "light"
     },
     "output_type": "display_data"
    }
   ],
   "source": [
    "ax = data.mean_temp.hist(bins=20)\n",
    "\n",
    "ax.set_xlabel(\"Daily Mean Termperature (F)\")\n",
    "ax.set_ylabel(\"# of Occurances\")\n",
    "ax.set_title(\"Mean Temperature\")\n",
    "\n",
    "fig = ax.get_figure()\n",
    "fig.set_size_inches(8,6)\n",
    "fig.savefig('/home/melissaa/MeanTemperature.jpg', dpi=300)"
   ]
  },
  {
   "cell_type": "markdown",
   "metadata": {
    "slideshow": {
     "slide_type": "slide"
    }
   },
   "source": [
    "By the way, many of the column-specific methods also work on the entire DataFrame. Instead of a single number, you'll get a result for each column."
   ]
  },
  {
   "cell_type": "code",
   "execution_count": 41,
   "metadata": {
    "slideshow": {
     "slide_type": "fragment"
    }
   },
   "outputs": [
    {
     "data": {
      "text/plain": [
       "<matplotlib.axes._subplots.AxesSubplot at 0x7f9fb8cc2550>"
      ]
     },
     "execution_count": 41,
     "metadata": {},
     "output_type": "execute_result"
    },
    {
     "data": {
      "image/png": "[encoded data removed]",
      "text/plain": [
       "<matplotlib.figure.Figure at 0x7f9fb8de58d0>"
      ]
     },
     "metadata": {
      "needs_background": "light"
     },
     "output_type": "display_data"
    }
   ],
   "source": [
    "data.max_wind.hist()"
   ]
  },
  {
   "cell_type": "markdown",
   "metadata": {
    "slideshow": {
     "slide_type": "subslide"
    }
   },
   "source": [
    "## Exercise 2:\n",
    "\n",
    "What is the range of temperatures in the dataset?\n",
    "\n",
    "*Hint: columns have `max()` and `min()` methods.*"
   ]
  },
  {
   "cell_type": "code",
   "execution_count": 42,
   "metadata": {
    "slideshow": {
     "slide_type": "subslide"
    }
   },
   "outputs": [
    {
     "data": {
      "text/plain": [
       "106"
      ]
     },
     "execution_count": 42,
     "metadata": {},
     "output_type": "execute_result"
    }
   ],
   "source": [
    "data.max_temp.max()"
   ]
  },
  {
   "cell_type": "markdown",
   "metadata": {
    "slideshow": {
     "slide_type": "slide"
    }
   },
   "source": [
    "## Bulk Operations with `apply()`"
   ]
  },
  {
   "cell_type": "markdown",
   "metadata": {
    "slideshow": {
     "slide_type": "fragment"
    }
   },
   "source": [
    "Methods like `sum()` and `std()` work on entire columns. We can run our own functions across all values in a column (or row) using `apply()`.\n",
    "\n",
    "To give you an idea of how this works, let's consider the \"date\" column in our DataFrame (formally \"EDT\")."
   ]
  },
  {
   "cell_type": "code",
   "execution_count": 43,
   "metadata": {
    "slideshow": {
     "slide_type": "fragment"
    }
   },
   "outputs": [
    {
     "data": {
      "text/plain": [
       "0    2012-3-10\n",
       "1    2012-3-11\n",
       "2    2012-3-12\n",
       "3    2012-3-13\n",
       "4    2012-3-14\n",
       "Name: date, dtype: object"
      ]
     },
     "execution_count": 43,
     "metadata": {},
     "output_type": "execute_result"
    }
   ],
   "source": [
    "data.date.head()"
   ]
  },
  {
   "cell_type": "markdown",
   "metadata": {
    "slideshow": {
     "slide_type": "slide"
    }
   },
   "source": [
    "We can use the `values` property of the column to get a list of values for the column. Inspecting the first value reveals that these are strings with a particular format."
   ]
  },
  {
   "cell_type": "code",
   "execution_count": 44,
   "metadata": {
    "slideshow": {
     "slide_type": "fragment"
    }
   },
   "outputs": [
    {
     "data": {
      "text/plain": [
       "'2012-3-10'"
      ]
     },
     "execution_count": 44,
     "metadata": {},
     "output_type": "execute_result"
    }
   ],
   "source": [
    "first_date = data.date.values[0]\n",
    "first_date"
   ]
  },
  {
   "cell_type": "code",
   "execution_count": 45,
   "metadata": {},
   "outputs": [
    {
     "data": {
      "text/plain": [
       "str"
      ]
     },
     "execution_count": 45,
     "metadata": {},
     "output_type": "execute_result"
    }
   ],
   "source": [
    "type(first_date)"
   ]
  },
  {
   "cell_type": "markdown",
   "metadata": {
    "slideshow": {
     "slide_type": "fragment"
    }
   },
   "source": [
    "The `strptime` function from the `datetime` module will make quick work of this date string. There are many [more shortcuts available](http://docs.python.org/2/library/datetime.html#strftime-and-strptime-behavior) for `strptime`."
   ]
  },
  {
   "cell_type": "code",
   "execution_count": 46,
   "metadata": {
    "slideshow": {
     "slide_type": "fragment"
    }
   },
   "outputs": [
    {
     "data": {
      "text/plain": [
       "datetime.datetime(2012, 3, 10, 0, 0)"
      ]
     },
     "execution_count": 46,
     "metadata": {},
     "output_type": "execute_result"
    }
   ],
   "source": [
    "# Import the datetime class from the datetime module\n",
    "from datetime import datetime\n",
    "\n",
    "# Convert date string to datetime object\n",
    "datetime.strptime(first_date, \"%Y-%m-%d\")"
   ]
  },
  {
   "cell_type": "markdown",
   "metadata": {
    "slideshow": {
     "slide_type": "slide"
    }
   },
   "source": [
    "Using the `apply()` method, which takes a function (**without** the parentheses), we can apply `strptime` to each value in the column. We'll overwrite the string date values with their Python `datetime` equivalents."
   ]
  },
  {
   "cell_type": "code",
   "execution_count": 47,
   "metadata": {
    "slideshow": {
     "slide_type": "fragment"
    }
   },
   "outputs": [
    {
     "data": {
      "text/plain": [
       "0   2012-03-10\n",
       "1   2012-03-11\n",
       "2   2012-03-12\n",
       "3   2012-03-13\n",
       "4   2012-03-14\n",
       "Name: date, dtype: datetime64[ns]"
      ]
     },
     "execution_count": 47,
     "metadata": {},
     "output_type": "execute_result"
    }
   ],
   "source": [
    "# Define a function to convert strings to dates\n",
    "def string_to_date(date_string):\n",
    "    return datetime.strptime(date_string, \"%Y-%m-%d\")\n",
    "\n",
    "# Run the function on every date string and overwrite the column\n",
    "data.date = data.date.apply(string_to_date)\n",
    "data.date.head()"
   ]
  },
  {
   "cell_type": "code",
   "execution_count": 48,
   "metadata": {},
   "outputs": [
    {
     "name": "stdout",
     "output_type": "stream",
     "text": [
      "<class 'pandas.core.frame.DataFrame'>\n",
      "RangeIndex: 366 entries, 0 to 365\n",
      "Data columns (total 23 columns):\n",
      "date               366 non-null datetime64[ns]\n",
      "max_temp           366 non-null int64\n",
      "mean_temp          366 non-null int64\n",
      "min_temp           366 non-null int64\n",
      "max_dew            366 non-null int64\n",
      "mean_dew           366 non-null int64\n",
      "min_dew            366 non-null int64\n",
      "max_humidity       366 non-null int64\n",
      "mean_humidity      366 non-null int64\n",
      "min_humidity       366 non-null int64\n",
      "max_pressure       366 non-null float64\n",
      "mean_pressure      366 non-null float64\n",
      "min_pressure       366 non-null float64\n",
      "max_visibilty      366 non-null int64\n",
      "mean_visibility    366 non-null int64\n",
      "min_visibility     366 non-null int64\n",
      "max_wind           366 non-null int64\n",
      "mean_wind          366 non-null int64\n",
      "min_wind           365 non-null float64\n",
      "precipitation      366 non-null object\n",
      "cloud_cover        366 non-null int64\n",
      "events             162 non-null object\n",
      "wind_dir           366 non-null int64\n",
      "dtypes: datetime64[ns](1), float64(4), int64(16), object(2)\n",
      "memory usage: 65.8+ KB\n"
     ]
    }
   ],
   "source": [
    "data.info()"
   ]
  },
  {
   "cell_type": "code",
   "execution_count": 49,
   "metadata": {},
   "outputs": [],
   "source": [
    "def string_to_date(date_string):\n",
    "    return datetime.strptime(date_string, \"%Y-%m-%d\")"
   ]
  },
  {
   "cell_type": "code",
   "execution_count": 50,
   "metadata": {},
   "outputs": [
    {
     "data": {
      "text/plain": [
       "0   2012-03-10\n",
       "1   2012-03-11\n",
       "2   2012-03-12\n",
       "3   2012-03-13\n",
       "4   2012-03-14\n",
       "Name: date, dtype: datetime64[ns]"
      ]
     },
     "execution_count": 50,
     "metadata": {},
     "output_type": "execute_result"
    }
   ],
   "source": [
    "data.date.head()"
   ]
  },
  {
   "cell_type": "markdown",
   "metadata": {
    "slideshow": {
     "slide_type": "slide"
    }
   },
   "source": [
    "Let's go one step futher. Each row in our DataFrame represents the weather from a single day. Each row in a DataFrame is associated with an *index*, which is a label that uniquely identifies a row.\n",
    "\n",
    "Our row indices up to now have been auto-generated by pandas, and are simply integers from 0 to 365. If we use dates instead of integers for our index, we will get some extra benefits from pandas when plotting later on. Overwriting the index is as easy as assigning to the `index` property of the DataFrame."
   ]
  },
  {
   "cell_type": "code",
   "execution_count": 51,
   "metadata": {
    "slideshow": {
     "slide_type": "slide"
    }
   },
   "outputs": [
    {
     "name": "stdout",
     "output_type": "stream",
     "text": [
      "<class 'pandas.core.frame.DataFrame'>\n",
      "DatetimeIndex: 366 entries, 2012-03-10 to 2013-03-10\n",
      "Data columns (total 23 columns):\n",
      "date               366 non-null datetime64[ns]\n",
      "max_temp           366 non-null int64\n",
      "mean_temp          366 non-null int64\n",
      "min_temp           366 non-null int64\n",
      "max_dew            366 non-null int64\n",
      "mean_dew           366 non-null int64\n",
      "min_dew            366 non-null int64\n",
      "max_humidity       366 non-null int64\n",
      "mean_humidity      366 non-null int64\n",
      "min_humidity       366 non-null int64\n",
      "max_pressure       366 non-null float64\n",
      "mean_pressure      366 non-null float64\n",
      "min_pressure       366 non-null float64\n",
      "max_visibilty      366 non-null int64\n",
      "mean_visibility    366 non-null int64\n",
      "min_visibility     366 non-null int64\n",
      "max_wind           366 non-null int64\n",
      "mean_wind          366 non-null int64\n",
      "min_wind           365 non-null float64\n",
      "precipitation      366 non-null object\n",
      "cloud_cover        366 non-null int64\n",
      "events             162 non-null object\n",
      "wind_dir           366 non-null int64\n",
      "dtypes: datetime64[ns](1), float64(4), int64(16), object(2)\n",
      "memory usage: 68.6+ KB\n"
     ]
    }
   ],
   "source": [
    "data.index = data.date\n",
    "data.info()"
   ]
  },
  {
   "cell_type": "code",
   "execution_count": 52,
   "metadata": {},
   "outputs": [],
   "source": [
    "data.index = data.date"
   ]
  },
  {
   "cell_type": "code",
   "execution_count": 53,
   "metadata": {},
   "outputs": [
    {
     "name": "stdout",
     "output_type": "stream",
     "text": [
      "<class 'pandas.core.frame.DataFrame'>\n",
      "DatetimeIndex: 366 entries, 2012-03-10 to 2013-03-10\n",
      "Data columns (total 23 columns):\n",
      "date               366 non-null datetime64[ns]\n",
      "max_temp           366 non-null int64\n",
      "mean_temp          366 non-null int64\n",
      "min_temp           366 non-null int64\n",
      "max_dew            366 non-null int64\n",
      "mean_dew           366 non-null int64\n",
      "min_dew            366 non-null int64\n",
      "max_humidity       366 non-null int64\n",
      "mean_humidity      366 non-null int64\n",
      "min_humidity       366 non-null int64\n",
      "max_pressure       366 non-null float64\n",
      "mean_pressure      366 non-null float64\n",
      "min_pressure       366 non-null float64\n",
      "max_visibilty      366 non-null int64\n",
      "mean_visibility    366 non-null int64\n",
      "min_visibility     366 non-null int64\n",
      "max_wind           366 non-null int64\n",
      "mean_wind          366 non-null int64\n",
      "min_wind           365 non-null float64\n",
      "precipitation      366 non-null object\n",
      "cloud_cover        366 non-null int64\n",
      "events             162 non-null object\n",
      "wind_dir           366 non-null int64\n",
      "dtypes: datetime64[ns](1), float64(4), int64(16), object(2)\n",
      "memory usage: 68.6+ KB\n"
     ]
    }
   ],
   "source": [
    "data.info()"
   ]
  },
  {
   "cell_type": "code",
   "execution_count": 54,
   "metadata": {
    "slideshow": {
     "slide_type": "fragment"
    }
   },
   "outputs": [
    {
     "data": {
      "text/plain": [
       "Index(['max_temp', 'mean_temp', 'min_temp', 'max_dew', 'mean_dew', 'min_dew',\n",
       "       'max_humidity', 'mean_humidity', 'min_humidity', 'max_pressure',\n",
       "       'mean_pressure', 'min_pressure', 'max_visibilty', 'mean_visibility',\n",
       "       'min_visibility', 'max_wind', 'mean_wind', 'min_wind', 'precipitation',\n",
       "       'cloud_cover', 'events', 'wind_dir'],\n",
       "      dtype='object')"
      ]
     },
     "execution_count": 54,
     "metadata": {},
     "output_type": "execute_result"
    }
   ],
   "source": [
    "data = data.drop(\"date\", axis=1)\n",
    "data.columns"
   ]
  },
  {
   "cell_type": "markdown",
   "metadata": {
    "slideshow": {
     "slide_type": "slide"
    }
   },
   "source": [
    "Now we can quickly look up a row by its date with the `loc[]` property \\[[see docs](http://pandas.pydata.org/pandas-docs/stable/indexing.html)], which locates records by label."
   ]
  },
  {
   "cell_type": "code",
   "execution_count": 55,
   "metadata": {
    "slideshow": {
     "slide_type": "fragment"
    }
   },
   "outputs": [
    {
     "data": {
      "text/plain": [
       "max_temp              82\n",
       "mean_temp             67\n",
       "min_temp              51\n",
       "max_dew               56\n",
       "mean_dew              50\n",
       "min_dew               42\n",
       "max_humidity          96\n",
       "mean_humidity         62\n",
       "min_humidity          28\n",
       "max_pressure       29.95\n",
       "mean_pressure      29.92\n",
       "min_pressure       29.89\n",
       "max_visibilty         10\n",
       "mean_visibility       10\n",
       "min_visibility        10\n",
       "max_wind              14\n",
       "mean_wind              3\n",
       "min_wind              21\n",
       "precipitation       0.00\n",
       "cloud_cover            1\n",
       "events               NaN\n",
       "wind_dir               1\n",
       "Name: 2012-08-19 00:00:00, dtype: object"
      ]
     },
     "execution_count": 55,
     "metadata": {},
     "output_type": "execute_result"
    }
   ],
   "source": [
    "data.loc[datetime(2012, 8, 19)]"
   ]
  },
  {
   "cell_type": "markdown",
   "metadata": {
    "slideshow": {
     "slide_type": "slide"
    }
   },
   "source": [
    "We can also access a row (or range of rows) with the `iloc[]` property, which locates records by integer index."
   ]
  },
  {
   "cell_type": "code",
   "execution_count": 56,
   "metadata": {
    "slideshow": {
     "slide_type": "fragment"
    }
   },
   "outputs": [
    {
     "data": {
      "text/plain": [
       "date\n",
       "2012-03-17    78\n",
       "2012-03-18    80\n",
       "2012-03-19    84\n",
       "2012-03-20    84\n",
       "2012-03-21    84\n",
       "2012-03-22    81\n",
       "2012-03-23    73\n",
       "2012-03-24    65\n",
       "Name: max_temp, dtype: int64"
      ]
     },
     "execution_count": 56,
     "metadata": {},
     "output_type": "execute_result"
    }
   ],
   "source": [
    "data.max_temp.iloc[7:15]"
   ]
  },
  {
   "cell_type": "markdown",
   "metadata": {
    "slideshow": {
     "slide_type": "slide"
    }
   },
   "source": [
    "With all of the dates in the index now, we no longer need the \"date\" column. Let's drop it."
   ]
  },
  {
   "cell_type": "code",
   "execution_count": 57,
   "metadata": {},
   "outputs": [
    {
     "data": {
      "text/plain": [
       "Index(['max_temp', 'mean_temp', 'min_temp', 'max_dew', 'mean_dew', 'min_dew',\n",
       "       'max_humidity', 'mean_humidity', 'min_humidity', 'max_pressure',\n",
       "       'mean_pressure', 'min_pressure', 'max_visibilty', 'mean_visibility',\n",
       "       'min_visibility', 'max_wind', 'mean_wind', 'min_wind', 'precipitation',\n",
       "       'cloud_cover', 'events', 'wind_dir'],\n",
       "      dtype='object')"
      ]
     },
     "execution_count": 57,
     "metadata": {},
     "output_type": "execute_result"
    }
   ],
   "source": [
    "data.columns"
   ]
  },
  {
   "cell_type": "markdown",
   "metadata": {
    "slideshow": {
     "slide_type": "fragment"
    }
   },
   "source": [
    "Note that we need to pass in `axis=1` in order to drop a column. For more details, check out the [documentation](http://pandas.pydata.org/pandas-docs/stable/generated/pandas.DataFrame.drop.html) for `drop`. The index values can now be accessed as `data.index.values`."
   ]
  },
  {
   "cell_type": "markdown",
   "metadata": {
    "slideshow": {
     "slide_type": "subslide"
    }
   },
   "source": [
    "## Exercise 3:\n",
    "\n",
    "Print out the cloud cover for each day in May.\n",
    "\n",
    "*Hint: you can make datetime objects with the `datetime(year, month, day)` function*\n",
    "\n",
    "*For extra credit, try using the `date_range()` function; see [pandas.date_range](http://pandas.pydata.org/pandas-docs/stable/generated/pandas.date_range.html)*"
   ]
  },
  {
   "cell_type": "code",
   "execution_count": 58,
   "metadata": {
    "slideshow": {
     "slide_type": "slide"
    }
   },
   "outputs": [
    {
     "name": "stdout",
     "output_type": "stream",
     "text": [
      "<class 'pandas.core.indexes.datetimes.DatetimeIndex'>\n"
     ]
    }
   ],
   "source": [
    "datetime(2012, 5, 1)  # May 1st of 2012\n",
    "print(type(data.index))"
   ]
  },
  {
   "cell_type": "code",
   "execution_count": 59,
   "metadata": {},
   "outputs": [
    {
     "data": {
      "text/plain": [
       "\u001b[0;31mSignature:\u001b[0m \u001b[0mpandas\u001b[0m\u001b[0;34m.\u001b[0m\u001b[0mdate_range\u001b[0m\u001b[0;34m(\u001b[0m\u001b[0mstart\u001b[0m\u001b[0;34m=\u001b[0m\u001b[0;32mNone\u001b[0m\u001b[0;34m,\u001b[0m \u001b[0mend\u001b[0m\u001b[0;34m=\u001b[0m\u001b[0;32mNone\u001b[0m\u001b[0;34m,\u001b[0m \u001b[0mperiods\u001b[0m\u001b[0;34m=\u001b[0m\u001b[0;32mNone\u001b[0m\u001b[0;34m,\u001b[0m \u001b[0mfreq\u001b[0m\u001b[0;34m=\u001b[0m\u001b[0;34m'D'\u001b[0m\u001b[0;34m,\u001b[0m \u001b[0mtz\u001b[0m\u001b[0;34m=\u001b[0m\u001b[0;32mNone\u001b[0m\u001b[0;34m,\u001b[0m \u001b[0mnormalize\u001b[0m\u001b[0;34m=\u001b[0m\u001b[0;32mFalse\u001b[0m\u001b[0;34m,\u001b[0m \u001b[0mname\u001b[0m\u001b[0;34m=\u001b[0m\u001b[0;32mNone\u001b[0m\u001b[0;34m,\u001b[0m \u001b[0mclosed\u001b[0m\u001b[0;34m=\u001b[0m\u001b[0;32mNone\u001b[0m\u001b[0;34m,\u001b[0m \u001b[0;34m**\u001b[0m\u001b[0mkwargs\u001b[0m\u001b[0;34m)\u001b[0m\u001b[0;34m\u001b[0m\u001b[0;34m\u001b[0m\u001b[0m\n",
       "\u001b[0;31mDocstring:\u001b[0m\n",
       "Return a fixed frequency DatetimeIndex, with day (calendar) as the default\n",
       "frequency\n",
       "\n",
       "Parameters\n",
       "----------\n",
       "start : string or datetime-like, default None\n",
       "    Left bound for generating dates\n",
       "end : string or datetime-like, default None\n",
       "    Right bound for generating dates\n",
       "periods : integer, default None\n",
       "    Number of periods to generate\n",
       "freq : string or DateOffset, default 'D' (calendar daily)\n",
       "    Frequency strings can have multiples, e.g. '5H'\n",
       "tz : string, default None\n",
       "    Time zone name for returning localized DatetimeIndex, for example\n",
       "    Asia/Hong_Kong\n",
       "normalize : bool, default False\n",
       "    Normalize start/end dates to midnight before generating date range\n",
       "name : string, default None\n",
       "    Name of the resulting DatetimeIndex\n",
       "closed : string, default None\n",
       "    Make the interval closed with respect to the given frequency to\n",
       "    the 'left', 'right', or both sides (None)\n",
       "\n",
       "Notes\n",
       "-----\n",
       "Of the three parameters: ``start``, ``end``, and ``periods``, exactly two\n",
       "must be specified.\n",
       "\n",
       "To learn more about the frequency strings, please see `this link\n",
       "<http://pandas.pydata.org/pandas-docs/stable/timeseries.html#offset-aliases>`__.\n",
       "\n",
       "Returns\n",
       "-------\n",
       "rng : DatetimeIndex\n",
       "\u001b[0;31mFile:\u001b[0m      /usr/lib/python3/dist-packages/pandas/core/indexes/datetimes.py\n",
       "\u001b[0;31mType:\u001b[0m      function\n"
      ]
     },
     "metadata": {},
     "output_type": "display_data"
    }
   ],
   "source": [
    "pandas.date_range?"
   ]
  },
  {
   "cell_type": "code",
   "execution_count": 60,
   "metadata": {
    "slideshow": {
     "slide_type": "fragment"
    }
   },
   "outputs": [
    {
     "data": {
      "text/plain": [
       "2012-05-01    6\n",
       "2012-05-02    1\n",
       "2012-05-03    0\n",
       "2012-05-04    6\n",
       "2012-05-05    3\n",
       "2012-05-06    0\n",
       "2012-05-07    5\n",
       "2012-05-08    4\n",
       "2012-05-09    3\n",
       "2012-05-10    1\n",
       "2012-05-11    0\n",
       "2012-05-12    1\n",
       "2012-05-13    4\n",
       "2012-05-14    4\n",
       "2012-05-15    0\n",
       "2012-05-16    0\n",
       "2012-05-17    0\n",
       "2012-05-18    0\n",
       "2012-05-19    0\n",
       "2012-05-20    1\n",
       "2012-05-21    4\n",
       "2012-05-22    2\n",
       "2012-05-23    0\n",
       "2012-05-24    0\n",
       "2012-05-25    2\n",
       "2012-05-26    0\n",
       "2012-05-27    0\n",
       "2012-05-28    0\n",
       "2012-05-29    4\n",
       "2012-05-30    1\n",
       "2012-05-31    4\n",
       "Freq: D, Name: cloud_cover, dtype: int64"
      ]
     },
     "execution_count": 60,
     "metadata": {},
     "output_type": "execute_result"
    }
   ],
   "source": [
    "#data.cloud_cover.loc[datetime(2012, 5, 1)]\n",
    "rng = pandas.date_range('5/1/2012','5/31/2012',freq='D') \n",
    "data.cloud_cover.loc[rng]"
   ]
  },
  {
   "cell_type": "markdown",
   "metadata": {
    "slideshow": {
     "slide_type": "slide"
    }
   },
   "source": [
    "## Handing Missing Values"
   ]
  },
  {
   "cell_type": "markdown",
   "metadata": {
    "slideshow": {
     "slide_type": "fragment"
    }
   },
   "source": [
    "Pandas considers values like `NaN` and `None` to represent missing data. The `count()` function [[see docs](http://pandas.pydata.org/pandas-docs/stable/generated/pandas.DataFrame.count.html)] can be used to tell whether values are missing. We use the parameter `axis=0` to indicate that we want to perform the count by rows, rather than columns."
   ]
  },
  {
   "cell_type": "code",
   "execution_count": 61,
   "metadata": {
    "slideshow": {
     "slide_type": "slide"
    }
   },
   "outputs": [
    {
     "data": {
      "text/plain": [
       "max_temp           366\n",
       "mean_temp          366\n",
       "min_temp           366\n",
       "max_dew            366\n",
       "mean_dew           366\n",
       "min_dew            366\n",
       "max_humidity       366\n",
       "mean_humidity      366\n",
       "min_humidity       366\n",
       "max_pressure       366\n",
       "mean_pressure      366\n",
       "min_pressure       366\n",
       "max_visibilty      366\n",
       "mean_visibility    366\n",
       "min_visibility     366\n",
       "max_wind           366\n",
       "mean_wind          366\n",
       "min_wind           365\n",
       "precipitation      366\n",
       "cloud_cover        366\n",
       "events             162\n",
       "wind_dir           366\n",
       "dtype: int64"
      ]
     },
     "execution_count": 61,
     "metadata": {},
     "output_type": "execute_result"
    }
   ],
   "source": [
    "data.count(axis=0)"
   ]
  },
  {
   "cell_type": "markdown",
   "metadata": {
    "slideshow": {
     "slide_type": "slide"
    }
   },
   "source": [
    "It is pretty obvious that there are a lot of `NaN` entrys for the `events` column; 204 to be exact. Let's take a look at a few values from the `events` column:"
   ]
  },
  {
   "cell_type": "code",
   "execution_count": 62,
   "metadata": {
    "slideshow": {
     "slide_type": "fragment"
    }
   },
   "outputs": [
    {
     "data": {
      "text/plain": [
       "date\n",
       "2012-03-10                  NaN\n",
       "2012-03-11                 Rain\n",
       "2012-03-12                 Rain\n",
       "2012-03-13                  NaN\n",
       "2012-03-14                  NaN\n",
       "2012-03-15    Rain-Thunderstorm\n",
       "2012-03-16                  NaN\n",
       "2012-03-17     Fog-Thunderstorm\n",
       "2012-03-18                 Rain\n",
       "2012-03-19                  NaN\n",
       "Name: events, dtype: object"
      ]
     },
     "execution_count": 62,
     "metadata": {},
     "output_type": "execute_result"
    }
   ],
   "source": [
    "data.events.head(10)"
   ]
  },
  {
   "cell_type": "markdown",
   "metadata": {
    "slideshow": {
     "slide_type": "slide"
    }
   },
   "source": [
    "This isn't exactly what we want. One option is to drop all rows in the DataFrame with missing \"events\" values using the `dropna()` function \\[[see docs](http://pandas.pydata.org/pandas-docs/stable/generated/pandas.DataFrame.dropna.html)]."
   ]
  },
  {
   "cell_type": "code",
   "execution_count": 63,
   "metadata": {
    "slideshow": {
     "slide_type": "fragment"
    }
   },
   "outputs": [
    {
     "name": "stdout",
     "output_type": "stream",
     "text": [
      "<class 'pandas.core.frame.DataFrame'>\n",
      "DatetimeIndex: 162 entries, 2012-03-11 to 2013-03-06\n",
      "Data columns (total 22 columns):\n",
      "max_temp           162 non-null int64\n",
      "mean_temp          162 non-null int64\n",
      "min_temp           162 non-null int64\n",
      "max_dew            162 non-null int64\n",
      "mean_dew           162 non-null int64\n",
      "min_dew            162 non-null int64\n",
      "max_humidity       162 non-null int64\n",
      "mean_humidity      162 non-null int64\n",
      "min_humidity       162 non-null int64\n",
      "max_pressure       162 non-null float64\n",
      "mean_pressure      162 non-null float64\n",
      "min_pressure       162 non-null float64\n",
      "max_visibilty      162 non-null int64\n",
      "mean_visibility    162 non-null int64\n",
      "min_visibility     162 non-null int64\n",
      "max_wind           162 non-null int64\n",
      "mean_wind          162 non-null int64\n",
      "min_wind           162 non-null float64\n",
      "precipitation      162 non-null object\n",
      "cloud_cover        162 non-null int64\n",
      "events             162 non-null object\n",
      "wind_dir           162 non-null int64\n",
      "dtypes: float64(4), int64(16), object(2)\n",
      "memory usage: 29.1+ KB\n"
     ]
    }
   ],
   "source": [
    "data.dropna(subset=[\"events\"]).info()"
   ]
  },
  {
   "cell_type": "code",
   "execution_count": null,
   "metadata": {},
   "outputs": [],
   "source": []
  },
  {
   "cell_type": "markdown",
   "metadata": {
    "slideshow": {
     "slide_type": "slide"
    }
   },
   "source": [
    "Note that this didn't affect `data`; we're just looking at a copy.\n",
    "\n",
    "Instead of dropping rows with missing values, let's fill them with empty strings (you'll see why in a moment). This is easily done with the `fillna()` function. We'll go ahead and overwrite the \"events\" column with empty string missing values instead of `NaN`."
   ]
  },
  {
   "cell_type": "code",
   "execution_count": 64,
   "metadata": {
    "slideshow": {
     "slide_type": "fragment"
    }
   },
   "outputs": [
    {
     "data": {
      "text/plain": [
       "date\n",
       "2012-03-10                     \n",
       "2012-03-11                 Rain\n",
       "2012-03-12                 Rain\n",
       "2012-03-13                     \n",
       "2012-03-14                     \n",
       "2012-03-15    Rain-Thunderstorm\n",
       "2012-03-16                     \n",
       "2012-03-17     Fog-Thunderstorm\n",
       "2012-03-18                 Rain\n",
       "2012-03-19                     \n",
       "Name: events, dtype: object"
      ]
     },
     "execution_count": 64,
     "metadata": {},
     "output_type": "execute_result"
    }
   ],
   "source": [
    "data.events = data.events.fillna(\"\")\n",
    "data.events.head(10)"
   ]
  },
  {
   "cell_type": "code",
   "execution_count": 65,
   "metadata": {},
   "outputs": [
    {
     "name": "stdout",
     "output_type": "stream",
     "text": [
      "<class 'pandas.core.frame.DataFrame'>\n",
      "DatetimeIndex: 366 entries, 2012-03-10 to 2013-03-10\n",
      "Data columns (total 22 columns):\n",
      "max_temp           366 non-null int64\n",
      "mean_temp          366 non-null int64\n",
      "min_temp           366 non-null int64\n",
      "max_dew            366 non-null int64\n",
      "mean_dew           366 non-null int64\n",
      "min_dew            366 non-null int64\n",
      "max_humidity       366 non-null int64\n",
      "mean_humidity      366 non-null int64\n",
      "min_humidity       366 non-null int64\n",
      "max_pressure       366 non-null float64\n",
      "mean_pressure      366 non-null float64\n",
      "min_pressure       366 non-null float64\n",
      "max_visibilty      366 non-null int64\n",
      "mean_visibility    366 non-null int64\n",
      "min_visibility     366 non-null int64\n",
      "max_wind           366 non-null int64\n",
      "mean_wind          366 non-null int64\n",
      "min_wind           365 non-null float64\n",
      "precipitation      366 non-null object\n",
      "cloud_cover        366 non-null int64\n",
      "events             366 non-null object\n",
      "wind_dir           366 non-null int64\n",
      "dtypes: float64(4), int64(16), object(2)\n",
      "memory usage: 75.8+ KB\n"
     ]
    }
   ],
   "source": [
    "data.info()"
   ]
  },
  {
   "cell_type": "code",
   "execution_count": 66,
   "metadata": {},
   "outputs": [
    {
     "data": {
      "text/plain": [
       "date\n",
       "2012-03-10                     \n",
       "2012-03-11                 Rain\n",
       "2012-03-12                 Rain\n",
       "2012-03-13                     \n",
       "2012-03-14                     \n",
       "2012-03-15    Rain-Thunderstorm\n",
       "2012-03-16                     \n",
       "2012-03-17     Fog-Thunderstorm\n",
       "2012-03-18                 Rain\n",
       "2012-03-19                     \n",
       "Name: events, dtype: object"
      ]
     },
     "execution_count": 66,
     "metadata": {},
     "output_type": "execute_result"
    }
   ],
   "source": [
    "data.events.head(10)"
   ]
  },
  {
   "cell_type": "markdown",
   "metadata": {
    "slideshow": {
     "slide_type": "slide"
    }
   },
   "source": [
    "Now we repeat the `count` function for the `events` column:"
   ]
  },
  {
   "cell_type": "code",
   "execution_count": 67,
   "metadata": {
    "slideshow": {
     "slide_type": "fragment"
    }
   },
   "outputs": [
    {
     "data": {
      "text/plain": [
       "366"
      ]
     },
     "execution_count": 67,
     "metadata": {},
     "output_type": "execute_result"
    }
   ],
   "source": [
    "data.events.count()"
   ]
  },
  {
   "cell_type": "code",
   "execution_count": null,
   "metadata": {},
   "outputs": [],
   "source": []
  },
  {
   "cell_type": "markdown",
   "metadata": {
    "slideshow": {
     "slide_type": "fragment"
    }
   },
   "source": [
    "As desired, there are no longer any empty entries in the `events` column. Why did we not need the `axis=0` parameter this time?"
   ]
  },
  {
   "cell_type": "markdown",
   "metadata": {
    "slideshow": {
     "slide_type": "slide"
    }
   },
   "source": [
    "## Iteratively Accessing Rows"
   ]
  },
  {
   "cell_type": "markdown",
   "metadata": {
    "slideshow": {
     "slide_type": "fragment"
    }
   },
   "source": [
    "You can iterate over each row in the DataFrame with `iterrows()`. Note that this function returns **both** the index and the row. Also, you must access columns in the row you get back from `iterrows()` with the dictionary syntax."
   ]
  },
  {
   "cell_type": "code",
   "execution_count": 68,
   "metadata": {
    "slideshow": {
     "slide_type": "fragment"
    }
   },
   "outputs": [
    {
     "data": {
      "text/plain": [
       "'Days with rain: 121'"
      ]
     },
     "execution_count": 68,
     "metadata": {},
     "output_type": "execute_result"
    }
   ],
   "source": [
    "num_rain = 0\n",
    "for idx, row in data.iterrows():\n",
    "    if \"Rain\" in row[\"events\"]:\n",
    "        num_rain += 1\n",
    "\n",
    "\"Days with rain: {0}\".format(num_rain)"
   ]
  },
  {
   "cell_type": "code",
   "execution_count": 69,
   "metadata": {},
   "outputs": [
    {
     "name": "stdout",
     "output_type": "stream",
     "text": [
      "Days with rain: 121\n"
     ]
    }
   ],
   "source": [
    "num_rain = 0\n",
    "for idx, row in data.iterrows():\n",
    "    if \"Rain\" in row[\"events\"]:\n",
    "        num_rain += 1\n",
    "\n",
    "print(\"Days with rain: {0}\".format(num_rain))"
   ]
  },
  {
   "cell_type": "markdown",
   "metadata": {
    "slideshow": {
     "slide_type": "subslide"
    }
   },
   "source": [
    "## Exercise 4:\n",
    "\n",
    "Was there any November rain?\n",
    "\n",
    "*Hint*: check out the `strftime()` function on `datetime` objects and the [documentation](http://docs.python.org/2/library/datetime.html#strftime-and-strptime-behavior)"
   ]
  },
  {
   "cell_type": "markdown",
   "metadata": {
    "slideshow": {
     "slide_type": "slide"
    }
   },
   "source": [
    "## Filtering"
   ]
  },
  {
   "cell_type": "markdown",
   "metadata": {
    "slideshow": {
     "slide_type": "fragment"
    }
   },
   "source": [
    "Most of your time using pandas will likely be devoted to selecting rows of interest from a DataFrame. In addition to strings, the dictionary syntax accepts requests like:"
   ]
  },
  {
   "cell_type": "code",
   "execution_count": 70,
   "metadata": {},
   "outputs": [
    {
     "data": {
      "text/plain": [
       "date\n",
       "2012-03-10    False\n",
       "2012-03-11    False\n",
       "2012-03-12    False\n",
       "2012-03-13    False\n",
       "2012-03-14    False\n",
       "2012-03-15    False\n",
       "2012-03-16    False\n",
       "2012-03-17    False\n",
       "2012-03-18    False\n",
       "2012-03-19    False\n",
       "2012-03-20    False\n",
       "2012-03-21    False\n",
       "2012-03-22    False\n",
       "2012-03-23    False\n",
       "2012-03-24    False\n",
       "2012-03-25    False\n",
       "2012-03-26    False\n",
       "2012-03-27    False\n",
       "2012-03-28    False\n",
       "2012-03-29    False\n",
       "2012-03-30    False\n",
       "2012-03-31    False\n",
       "2012-04-01    False\n",
       "2012-04-02    False\n",
       "2012-04-03    False\n",
       "2012-04-04    False\n",
       "2012-04-05    False\n",
       "2012-04-06    False\n",
       "2012-04-07    False\n",
       "2012-04-08    False\n",
       "              ...  \n",
       "2013-02-09    False\n",
       "2013-02-10    False\n",
       "2013-02-11    False\n",
       "2013-02-12    False\n",
       "2013-02-13    False\n",
       "2013-02-14    False\n",
       "2013-02-15    False\n",
       "2013-02-16     True\n",
       "2013-02-17    False\n",
       "2013-02-18    False\n",
       "2013-02-19    False\n",
       "2013-02-20     True\n",
       "2013-02-21    False\n",
       "2013-02-22    False\n",
       "2013-02-23    False\n",
       "2013-02-24    False\n",
       "2013-02-25    False\n",
       "2013-02-26    False\n",
       "2013-02-27    False\n",
       "2013-02-28    False\n",
       "2013-03-01    False\n",
       "2013-03-02     True\n",
       "2013-03-03    False\n",
       "2013-03-04    False\n",
       "2013-03-05    False\n",
       "2013-03-06     True\n",
       "2013-03-07    False\n",
       "2013-03-08    False\n",
       "2013-03-09    False\n",
       "2013-03-10    False\n",
       "Name: max_temp, Length: 366, dtype: bool"
      ]
     },
     "execution_count": 70,
     "metadata": {},
     "output_type": "execute_result"
    }
   ],
   "source": [
    "data.max_temp <= 32"
   ]
  },
  {
   "cell_type": "code",
   "execution_count": 71,
   "metadata": {},
   "outputs": [],
   "source": [
    "# ^ Tells you true or false\n",
    "# below tells you the rows with the max temp of less or = 32 \n",
    "# and selected for those records"
   ]
  },
  {
   "cell_type": "code",
   "execution_count": 72,
   "metadata": {
    "slideshow": {
     "slide_type": "fragment"
    }
   },
   "outputs": [
    {
     "name": "stdout",
     "output_type": "stream",
     "text": [
      "<class 'pandas.core.frame.DataFrame'>\n",
      "DatetimeIndex: 21 entries, 2012-11-24 to 2013-03-06\n",
      "Data columns (total 22 columns):\n",
      "max_temp           21 non-null int64\n",
      "mean_temp          21 non-null int64\n",
      "min_temp           21 non-null int64\n",
      "max_dew            21 non-null int64\n",
      "mean_dew           21 non-null int64\n",
      "min_dew            21 non-null int64\n",
      "max_humidity       21 non-null int64\n",
      "mean_humidity      21 non-null int64\n",
      "min_humidity       21 non-null int64\n",
      "max_pressure       21 non-null float64\n",
      "mean_pressure      21 non-null float64\n",
      "min_pressure       21 non-null float64\n",
      "max_visibilty      21 non-null int64\n",
      "mean_visibility    21 non-null int64\n",
      "min_visibility     21 non-null int64\n",
      "max_wind           21 non-null int64\n",
      "mean_wind          21 non-null int64\n",
      "min_wind           21 non-null float64\n",
      "precipitation      21 non-null object\n",
      "cloud_cover        21 non-null int64\n",
      "events             21 non-null object\n",
      "wind_dir           21 non-null int64\n",
      "dtypes: float64(4), int64(16), object(2)\n",
      "memory usage: 3.8+ KB\n"
     ]
    }
   ],
   "source": [
    "freezing_days = data[data.max_temp <= 32]\n",
    "freezing_days.info()"
   ]
  },
  {
   "cell_type": "code",
   "execution_count": null,
   "metadata": {},
   "outputs": [],
   "source": []
  },
  {
   "cell_type": "code",
   "execution_count": 73,
   "metadata": {},
   "outputs": [
    {
     "data": {
      "text/plain": [
       "pandas.core.frame.DataFrame"
      ]
     },
     "execution_count": 73,
     "metadata": {},
     "output_type": "execute_result"
    }
   ],
   "source": [
    "type(freezing_days)"
   ]
  },
  {
   "cell_type": "markdown",
   "metadata": {
    "slideshow": {
     "slide_type": "slide"
    }
   },
   "source": [
    "We get back another DataFrame with fewer rows (21 in this case). This DataFrame can be filtered down even more by adding a constrain that the temperature be greater than 20 degrees, in addition to being below freezing."
   ]
  },
  {
   "cell_type": "code",
   "execution_count": 74,
   "metadata": {},
   "outputs": [
    {
     "data": {
      "text/plain": [
       "date\n",
       "2012-11-24     True\n",
       "2012-12-21     True\n",
       "2012-12-29     True\n",
       "2012-12-30    False\n",
       "2013-01-01     True\n",
       "2013-01-02    False\n",
       "2013-01-04    False\n",
       "2013-01-14    False\n",
       "2013-01-21    False\n",
       "2013-01-22    False\n",
       "2013-01-23    False\n",
       "2013-01-24    False\n",
       "2013-01-25     True\n",
       "2013-01-31    False\n",
       "2013-02-01    False\n",
       "2013-02-02    False\n",
       "2013-02-03    False\n",
       "2013-02-16    False\n",
       "2013-02-20    False\n",
       "2013-03-02     True\n",
       "2013-03-06     True\n",
       "Name: min_temp, dtype: bool"
      ]
     },
     "execution_count": 74,
     "metadata": {},
     "output_type": "execute_result"
    }
   ],
   "source": [
    "freezing_days.min_temp >= 20"
   ]
  },
  {
   "cell_type": "code",
   "execution_count": 75,
   "metadata": {
    "slideshow": {
     "slide_type": "fragment"
    }
   },
   "outputs": [
    {
     "name": "stdout",
     "output_type": "stream",
     "text": [
      "<class 'pandas.core.frame.DataFrame'>\n",
      "DatetimeIndex: 7 entries, 2012-11-24 to 2013-03-06\n",
      "Data columns (total 22 columns):\n",
      "max_temp           7 non-null int64\n",
      "mean_temp          7 non-null int64\n",
      "min_temp           7 non-null int64\n",
      "max_dew            7 non-null int64\n",
      "mean_dew           7 non-null int64\n",
      "min_dew            7 non-null int64\n",
      "max_humidity       7 non-null int64\n",
      "mean_humidity      7 non-null int64\n",
      "min_humidity       7 non-null int64\n",
      "max_pressure       7 non-null float64\n",
      "mean_pressure      7 non-null float64\n",
      "min_pressure       7 non-null float64\n",
      "max_visibilty      7 non-null int64\n",
      "mean_visibility    7 non-null int64\n",
      "min_visibility     7 non-null int64\n",
      "max_wind           7 non-null int64\n",
      "mean_wind          7 non-null int64\n",
      "min_wind           7 non-null float64\n",
      "precipitation      7 non-null object\n",
      "cloud_cover        7 non-null int64\n",
      "events             7 non-null object\n",
      "wind_dir           7 non-null int64\n",
      "dtypes: float64(4), int64(16), object(2)\n",
      "memory usage: 1.3+ KB\n"
     ]
    }
   ],
   "source": [
    "cold_days = freezing_days[freezing_days.min_temp >= 20]\n",
    "cold_days.info()"
   ]
  },
  {
   "cell_type": "code",
   "execution_count": null,
   "metadata": {},
   "outputs": [],
   "source": []
  },
  {
   "cell_type": "markdown",
   "metadata": {
    "slideshow": {
     "slide_type": "slide"
    }
   },
   "source": [
    "To see the high and low temperatures for the selected days:"
   ]
  },
  {
   "cell_type": "code",
   "execution_count": 76,
   "metadata": {
    "slideshow": {
     "slide_type": "fragment"
    }
   },
   "outputs": [
    {
     "data": {
      "text/html": [
       "<div>\n",
       "<style scoped>\n",
       "    .dataframe tbody tr th:only-of-type {\n",
       "        vertical-align: middle;\n",
       "    }\n",
       "\n",
       "    .dataframe tbody tr th {\n",
       "        vertical-align: top;\n",
       "    }\n",
       "\n",
       "    .dataframe thead th {\n",
       "        text-align: right;\n",
       "    }\n",
       "</style>\n",
       "<table border=\"1\" class=\"dataframe\">\n",
       "  <thead>\n",
       "    <tr style=\"text-align: right;\">\n",
       "      <th></th>\n",
       "      <th>max_temp</th>\n",
       "      <th>min_temp</th>\n",
       "    </tr>\n",
       "    <tr>\n",
       "      <th>date</th>\n",
       "      <th></th>\n",
       "      <th></th>\n",
       "    </tr>\n",
       "  </thead>\n",
       "  <tbody>\n",
       "    <tr>\n",
       "      <th>2012-11-24</th>\n",
       "      <td>31</td>\n",
       "      <td>21</td>\n",
       "    </tr>\n",
       "    <tr>\n",
       "      <th>2012-12-21</th>\n",
       "      <td>29</td>\n",
       "      <td>22</td>\n",
       "    </tr>\n",
       "    <tr>\n",
       "      <th>2012-12-29</th>\n",
       "      <td>32</td>\n",
       "      <td>23</td>\n",
       "    </tr>\n",
       "    <tr>\n",
       "      <th>2013-01-01</th>\n",
       "      <td>32</td>\n",
       "      <td>20</td>\n",
       "    </tr>\n",
       "    <tr>\n",
       "      <th>2013-01-25</th>\n",
       "      <td>30</td>\n",
       "      <td>20</td>\n",
       "    </tr>\n",
       "    <tr>\n",
       "      <th>2013-03-02</th>\n",
       "      <td>32</td>\n",
       "      <td>27</td>\n",
       "    </tr>\n",
       "    <tr>\n",
       "      <th>2013-03-06</th>\n",
       "      <td>32</td>\n",
       "      <td>29</td>\n",
       "    </tr>\n",
       "  </tbody>\n",
       "</table>\n",
       "</div>"
      ],
      "text/plain": [
       "            max_temp  min_temp\n",
       "date                          \n",
       "2012-11-24        31        21\n",
       "2012-12-21        29        22\n",
       "2012-12-29        32        23\n",
       "2013-01-01        32        20\n",
       "2013-01-25        30        20\n",
       "2013-03-02        32        27\n",
       "2013-03-06        32        29"
      ]
     },
     "execution_count": 76,
     "metadata": {},
     "output_type": "execute_result"
    }
   ],
   "source": [
    "cold_days[[\"max_temp\",\"min_temp\"]]"
   ]
  },
  {
   "cell_type": "markdown",
   "metadata": {
    "slideshow": {
     "slide_type": "slide"
    }
   },
   "source": [
    "Using boolean operations, we could have chosen to apply both filters to the original DataFrame at the same time."
   ]
  },
  {
   "cell_type": "code",
   "execution_count": 77,
   "metadata": {},
   "outputs": [
    {
     "data": {
      "text/html": [
       "<div>\n",
       "<style scoped>\n",
       "    .dataframe tbody tr th:only-of-type {\n",
       "        vertical-align: middle;\n",
       "    }\n",
       "\n",
       "    .dataframe tbody tr th {\n",
       "        vertical-align: top;\n",
       "    }\n",
       "\n",
       "    .dataframe thead th {\n",
       "        text-align: right;\n",
       "    }\n",
       "</style>\n",
       "<table border=\"1\" class=\"dataframe\">\n",
       "  <thead>\n",
       "    <tr style=\"text-align: right;\">\n",
       "      <th></th>\n",
       "      <th>max_temp</th>\n",
       "      <th>mean_temp</th>\n",
       "      <th>min_temp</th>\n",
       "      <th>max_dew</th>\n",
       "      <th>mean_dew</th>\n",
       "      <th>min_dew</th>\n",
       "      <th>max_humidity</th>\n",
       "      <th>mean_humidity</th>\n",
       "      <th>min_humidity</th>\n",
       "      <th>max_pressure</th>\n",
       "      <th>...</th>\n",
       "      <th>max_visibilty</th>\n",
       "      <th>mean_visibility</th>\n",
       "      <th>min_visibility</th>\n",
       "      <th>max_wind</th>\n",
       "      <th>mean_wind</th>\n",
       "      <th>min_wind</th>\n",
       "      <th>precipitation</th>\n",
       "      <th>cloud_cover</th>\n",
       "      <th>events</th>\n",
       "      <th>wind_dir</th>\n",
       "    </tr>\n",
       "    <tr>\n",
       "      <th>date</th>\n",
       "      <th></th>\n",
       "      <th></th>\n",
       "      <th></th>\n",
       "      <th></th>\n",
       "      <th></th>\n",
       "      <th></th>\n",
       "      <th></th>\n",
       "      <th></th>\n",
       "      <th></th>\n",
       "      <th></th>\n",
       "      <th></th>\n",
       "      <th></th>\n",
       "      <th></th>\n",
       "      <th></th>\n",
       "      <th></th>\n",
       "      <th></th>\n",
       "      <th></th>\n",
       "      <th></th>\n",
       "      <th></th>\n",
       "      <th></th>\n",
       "      <th></th>\n",
       "    </tr>\n",
       "  </thead>\n",
       "  <tbody>\n",
       "    <tr>\n",
       "      <th>2012-11-24</th>\n",
       "      <td>31</td>\n",
       "      <td>26</td>\n",
       "      <td>21</td>\n",
       "      <td>20</td>\n",
       "      <td>18</td>\n",
       "      <td>15</td>\n",
       "      <td>81</td>\n",
       "      <td>72</td>\n",
       "      <td>63</td>\n",
       "      <td>30.30</td>\n",
       "      <td>...</td>\n",
       "      <td>10</td>\n",
       "      <td>10</td>\n",
       "      <td>9</td>\n",
       "      <td>9</td>\n",
       "      <td>4</td>\n",
       "      <td>14.0</td>\n",
       "      <td>0.00</td>\n",
       "      <td>4</td>\n",
       "      <td></td>\n",
       "      <td>270</td>\n",
       "    </tr>\n",
       "    <tr>\n",
       "      <th>2012-12-21</th>\n",
       "      <td>29</td>\n",
       "      <td>26</td>\n",
       "      <td>22</td>\n",
       "      <td>25</td>\n",
       "      <td>19</td>\n",
       "      <td>15</td>\n",
       "      <td>85</td>\n",
       "      <td>74</td>\n",
       "      <td>63</td>\n",
       "      <td>30.21</td>\n",
       "      <td>...</td>\n",
       "      <td>10</td>\n",
       "      <td>5</td>\n",
       "      <td>0</td>\n",
       "      <td>25</td>\n",
       "      <td>14</td>\n",
       "      <td>39.0</td>\n",
       "      <td>0.02</td>\n",
       "      <td>7</td>\n",
       "      <td>Fog-Snow</td>\n",
       "      <td>285</td>\n",
       "    </tr>\n",
       "    <tr>\n",
       "      <th>2012-12-29</th>\n",
       "      <td>32</td>\n",
       "      <td>28</td>\n",
       "      <td>23</td>\n",
       "      <td>28</td>\n",
       "      <td>25</td>\n",
       "      <td>16</td>\n",
       "      <td>92</td>\n",
       "      <td>80</td>\n",
       "      <td>68</td>\n",
       "      <td>30.29</td>\n",
       "      <td>...</td>\n",
       "      <td>10</td>\n",
       "      <td>3</td>\n",
       "      <td>0</td>\n",
       "      <td>18</td>\n",
       "      <td>9</td>\n",
       "      <td>29.0</td>\n",
       "      <td>0.20</td>\n",
       "      <td>8</td>\n",
       "      <td>Fog-Snow</td>\n",
       "      <td>308</td>\n",
       "    </tr>\n",
       "    <tr>\n",
       "      <th>2013-01-01</th>\n",
       "      <td>32</td>\n",
       "      <td>26</td>\n",
       "      <td>20</td>\n",
       "      <td>31</td>\n",
       "      <td>25</td>\n",
       "      <td>16</td>\n",
       "      <td>92</td>\n",
       "      <td>83</td>\n",
       "      <td>74</td>\n",
       "      <td>30.20</td>\n",
       "      <td>...</td>\n",
       "      <td>9</td>\n",
       "      <td>5</td>\n",
       "      <td>2</td>\n",
       "      <td>14</td>\n",
       "      <td>5</td>\n",
       "      <td>15.0</td>\n",
       "      <td>T</td>\n",
       "      <td>8</td>\n",
       "      <td></td>\n",
       "      <td>353</td>\n",
       "    </tr>\n",
       "    <tr>\n",
       "      <th>2013-01-25</th>\n",
       "      <td>30</td>\n",
       "      <td>25</td>\n",
       "      <td>20</td>\n",
       "      <td>18</td>\n",
       "      <td>12</td>\n",
       "      <td>0</td>\n",
       "      <td>74</td>\n",
       "      <td>57</td>\n",
       "      <td>39</td>\n",
       "      <td>30.35</td>\n",
       "      <td>...</td>\n",
       "      <td>10</td>\n",
       "      <td>8</td>\n",
       "      <td>1</td>\n",
       "      <td>16</td>\n",
       "      <td>7</td>\n",
       "      <td>21.0</td>\n",
       "      <td>0.02</td>\n",
       "      <td>6</td>\n",
       "      <td>Snow</td>\n",
       "      <td>192</td>\n",
       "    </tr>\n",
       "    <tr>\n",
       "      <th>2013-03-02</th>\n",
       "      <td>32</td>\n",
       "      <td>30</td>\n",
       "      <td>27</td>\n",
       "      <td>27</td>\n",
       "      <td>22</td>\n",
       "      <td>19</td>\n",
       "      <td>85</td>\n",
       "      <td>72</td>\n",
       "      <td>59</td>\n",
       "      <td>30.14</td>\n",
       "      <td>...</td>\n",
       "      <td>10</td>\n",
       "      <td>9</td>\n",
       "      <td>2</td>\n",
       "      <td>20</td>\n",
       "      <td>8</td>\n",
       "      <td>23.0</td>\n",
       "      <td>T</td>\n",
       "      <td>8</td>\n",
       "      <td>Snow</td>\n",
       "      <td>351</td>\n",
       "    </tr>\n",
       "    <tr>\n",
       "      <th>2013-03-06</th>\n",
       "      <td>32</td>\n",
       "      <td>31</td>\n",
       "      <td>29</td>\n",
       "      <td>27</td>\n",
       "      <td>26</td>\n",
       "      <td>25</td>\n",
       "      <td>92</td>\n",
       "      <td>85</td>\n",
       "      <td>78</td>\n",
       "      <td>30.31</td>\n",
       "      <td>...</td>\n",
       "      <td>10</td>\n",
       "      <td>5</td>\n",
       "      <td>1</td>\n",
       "      <td>22</td>\n",
       "      <td>9</td>\n",
       "      <td>33.0</td>\n",
       "      <td>0.04</td>\n",
       "      <td>8</td>\n",
       "      <td>Snow</td>\n",
       "      <td>314</td>\n",
       "    </tr>\n",
       "  </tbody>\n",
       "</table>\n",
       "<p>7 rows × 22 columns</p>\n",
       "</div>"
      ],
      "text/plain": [
       "            max_temp  mean_temp  min_temp  max_dew  mean_dew  min_dew  \\\n",
       "date                                                                    \n",
       "2012-11-24        31         26        21       20        18       15   \n",
       "2012-12-21        29         26        22       25        19       15   \n",
       "2012-12-29        32         28        23       28        25       16   \n",
       "2013-01-01        32         26        20       31        25       16   \n",
       "2013-01-25        30         25        20       18        12        0   \n",
       "2013-03-02        32         30        27       27        22       19   \n",
       "2013-03-06        32         31        29       27        26       25   \n",
       "\n",
       "            max_humidity  mean_humidity  min_humidity  max_pressure    ...     \\\n",
       "date                                                                   ...      \n",
       "2012-11-24            81             72            63         30.30    ...      \n",
       "2012-12-21            85             74            63         30.21    ...      \n",
       "2012-12-29            92             80            68         30.29    ...      \n",
       "2013-01-01            92             83            74         30.20    ...      \n",
       "2013-01-25            74             57            39         30.35    ...      \n",
       "2013-03-02            85             72            59         30.14    ...      \n",
       "2013-03-06            92             85            78         30.31    ...      \n",
       "\n",
       "            max_visibilty  mean_visibility  min_visibility  max_wind  \\\n",
       "date                                                                   \n",
       "2012-11-24             10               10               9         9   \n",
       "2012-12-21             10                5               0        25   \n",
       "2012-12-29             10                3               0        18   \n",
       "2013-01-01              9                5               2        14   \n",
       "2013-01-25             10                8               1        16   \n",
       "2013-03-02             10                9               2        20   \n",
       "2013-03-06             10                5               1        22   \n",
       "\n",
       "            mean_wind  min_wind  precipitation  cloud_cover    events  \\\n",
       "date                                                                    \n",
       "2012-11-24          4      14.0           0.00            4             \n",
       "2012-12-21         14      39.0           0.02            7  Fog-Snow   \n",
       "2012-12-29          9      29.0           0.20            8  Fog-Snow   \n",
       "2013-01-01          5      15.0              T            8             \n",
       "2013-01-25          7      21.0           0.02            6      Snow   \n",
       "2013-03-02          8      23.0              T            8      Snow   \n",
       "2013-03-06          9      33.0           0.04            8      Snow   \n",
       "\n",
       "            wind_dir  \n",
       "date                  \n",
       "2012-11-24       270  \n",
       "2012-12-21       285  \n",
       "2012-12-29       308  \n",
       "2013-01-01       353  \n",
       "2013-01-25       192  \n",
       "2013-03-02       351  \n",
       "2013-03-06       314  \n",
       "\n",
       "[7 rows x 22 columns]"
      ]
     },
     "execution_count": 77,
     "metadata": {},
     "output_type": "execute_result"
    }
   ],
   "source": [
    "data[(data.max_temp <= 32) & (data.min_temp >= 20)]"
   ]
  },
  {
   "cell_type": "code",
   "execution_count": null,
   "metadata": {},
   "outputs": [],
   "source": [
    "# isin method will allow you to cherry pick your data"
   ]
  },
  {
   "cell_type": "code",
   "execution_count": 78,
   "metadata": {},
   "outputs": [
    {
     "data": {
      "text/html": [
       "<div>\n",
       "<style scoped>\n",
       "    .dataframe tbody tr th:only-of-type {\n",
       "        vertical-align: middle;\n",
       "    }\n",
       "\n",
       "    .dataframe tbody tr th {\n",
       "        vertical-align: top;\n",
       "    }\n",
       "\n",
       "    .dataframe thead th {\n",
       "        text-align: right;\n",
       "    }\n",
       "</style>\n",
       "<table border=\"1\" class=\"dataframe\">\n",
       "  <thead>\n",
       "    <tr style=\"text-align: right;\">\n",
       "      <th></th>\n",
       "      <th>max_temp</th>\n",
       "      <th>mean_temp</th>\n",
       "      <th>min_temp</th>\n",
       "      <th>max_dew</th>\n",
       "      <th>mean_dew</th>\n",
       "      <th>min_dew</th>\n",
       "      <th>max_humidity</th>\n",
       "      <th>mean_humidity</th>\n",
       "      <th>min_humidity</th>\n",
       "      <th>max_pressure</th>\n",
       "      <th>...</th>\n",
       "      <th>max_visibilty</th>\n",
       "      <th>mean_visibility</th>\n",
       "      <th>min_visibility</th>\n",
       "      <th>max_wind</th>\n",
       "      <th>mean_wind</th>\n",
       "      <th>min_wind</th>\n",
       "      <th>precipitation</th>\n",
       "      <th>cloud_cover</th>\n",
       "      <th>events</th>\n",
       "      <th>wind_dir</th>\n",
       "    </tr>\n",
       "    <tr>\n",
       "      <th>date</th>\n",
       "      <th></th>\n",
       "      <th></th>\n",
       "      <th></th>\n",
       "      <th></th>\n",
       "      <th></th>\n",
       "      <th></th>\n",
       "      <th></th>\n",
       "      <th></th>\n",
       "      <th></th>\n",
       "      <th></th>\n",
       "      <th></th>\n",
       "      <th></th>\n",
       "      <th></th>\n",
       "      <th></th>\n",
       "      <th></th>\n",
       "      <th></th>\n",
       "      <th></th>\n",
       "      <th></th>\n",
       "      <th></th>\n",
       "      <th></th>\n",
       "      <th></th>\n",
       "    </tr>\n",
       "  </thead>\n",
       "  <tbody>\n",
       "    <tr>\n",
       "      <th>2012-11-24</th>\n",
       "      <td>31</td>\n",
       "      <td>26</td>\n",
       "      <td>21</td>\n",
       "      <td>20</td>\n",
       "      <td>18</td>\n",
       "      <td>15</td>\n",
       "      <td>81</td>\n",
       "      <td>72</td>\n",
       "      <td>63</td>\n",
       "      <td>30.30</td>\n",
       "      <td>...</td>\n",
       "      <td>10</td>\n",
       "      <td>10</td>\n",
       "      <td>9</td>\n",
       "      <td>9</td>\n",
       "      <td>4</td>\n",
       "      <td>14.0</td>\n",
       "      <td>0.00</td>\n",
       "      <td>4</td>\n",
       "      <td></td>\n",
       "      <td>270</td>\n",
       "    </tr>\n",
       "    <tr>\n",
       "      <th>2012-12-29</th>\n",
       "      <td>32</td>\n",
       "      <td>28</td>\n",
       "      <td>23</td>\n",
       "      <td>28</td>\n",
       "      <td>25</td>\n",
       "      <td>16</td>\n",
       "      <td>92</td>\n",
       "      <td>80</td>\n",
       "      <td>68</td>\n",
       "      <td>30.29</td>\n",
       "      <td>...</td>\n",
       "      <td>10</td>\n",
       "      <td>3</td>\n",
       "      <td>0</td>\n",
       "      <td>18</td>\n",
       "      <td>9</td>\n",
       "      <td>29.0</td>\n",
       "      <td>0.20</td>\n",
       "      <td>8</td>\n",
       "      <td>Fog-Snow</td>\n",
       "      <td>308</td>\n",
       "    </tr>\n",
       "    <tr>\n",
       "      <th>2012-12-30</th>\n",
       "      <td>31</td>\n",
       "      <td>18</td>\n",
       "      <td>4</td>\n",
       "      <td>21</td>\n",
       "      <td>12</td>\n",
       "      <td>1</td>\n",
       "      <td>92</td>\n",
       "      <td>75</td>\n",
       "      <td>58</td>\n",
       "      <td>30.47</td>\n",
       "      <td>...</td>\n",
       "      <td>10</td>\n",
       "      <td>6</td>\n",
       "      <td>0</td>\n",
       "      <td>15</td>\n",
       "      <td>6</td>\n",
       "      <td>21.0</td>\n",
       "      <td>0.00</td>\n",
       "      <td>1</td>\n",
       "      <td>Fog</td>\n",
       "      <td>220</td>\n",
       "    </tr>\n",
       "    <tr>\n",
       "      <th>2013-01-01</th>\n",
       "      <td>32</td>\n",
       "      <td>26</td>\n",
       "      <td>20</td>\n",
       "      <td>31</td>\n",
       "      <td>25</td>\n",
       "      <td>16</td>\n",
       "      <td>92</td>\n",
       "      <td>83</td>\n",
       "      <td>74</td>\n",
       "      <td>30.20</td>\n",
       "      <td>...</td>\n",
       "      <td>9</td>\n",
       "      <td>5</td>\n",
       "      <td>2</td>\n",
       "      <td>14</td>\n",
       "      <td>5</td>\n",
       "      <td>15.0</td>\n",
       "      <td>T</td>\n",
       "      <td>8</td>\n",
       "      <td></td>\n",
       "      <td>353</td>\n",
       "    </tr>\n",
       "    <tr>\n",
       "      <th>2013-01-04</th>\n",
       "      <td>31</td>\n",
       "      <td>24</td>\n",
       "      <td>17</td>\n",
       "      <td>23</td>\n",
       "      <td>20</td>\n",
       "      <td>14</td>\n",
       "      <td>92</td>\n",
       "      <td>75</td>\n",
       "      <td>58</td>\n",
       "      <td>30.39</td>\n",
       "      <td>...</td>\n",
       "      <td>10</td>\n",
       "      <td>9</td>\n",
       "      <td>4</td>\n",
       "      <td>17</td>\n",
       "      <td>7</td>\n",
       "      <td>24.0</td>\n",
       "      <td>0.00</td>\n",
       "      <td>3</td>\n",
       "      <td></td>\n",
       "      <td>258</td>\n",
       "    </tr>\n",
       "    <tr>\n",
       "      <th>2013-01-23</th>\n",
       "      <td>31</td>\n",
       "      <td>20</td>\n",
       "      <td>9</td>\n",
       "      <td>17</td>\n",
       "      <td>8</td>\n",
       "      <td>0</td>\n",
       "      <td>73</td>\n",
       "      <td>56</td>\n",
       "      <td>39</td>\n",
       "      <td>30.39</td>\n",
       "      <td>...</td>\n",
       "      <td>10</td>\n",
       "      <td>10</td>\n",
       "      <td>6</td>\n",
       "      <td>15</td>\n",
       "      <td>5</td>\n",
       "      <td>21.0</td>\n",
       "      <td>0.00</td>\n",
       "      <td>4</td>\n",
       "      <td></td>\n",
       "      <td>236</td>\n",
       "    </tr>\n",
       "    <tr>\n",
       "      <th>2013-01-31</th>\n",
       "      <td>31</td>\n",
       "      <td>21</td>\n",
       "      <td>10</td>\n",
       "      <td>22</td>\n",
       "      <td>14</td>\n",
       "      <td>-2</td>\n",
       "      <td>81</td>\n",
       "      <td>67</td>\n",
       "      <td>53</td>\n",
       "      <td>30.19</td>\n",
       "      <td>...</td>\n",
       "      <td>10</td>\n",
       "      <td>6</td>\n",
       "      <td>0</td>\n",
       "      <td>28</td>\n",
       "      <td>15</td>\n",
       "      <td>38.0</td>\n",
       "      <td>0.01</td>\n",
       "      <td>7</td>\n",
       "      <td>Fog-Snow</td>\n",
       "      <td>284</td>\n",
       "    </tr>\n",
       "    <tr>\n",
       "      <th>2013-03-02</th>\n",
       "      <td>32</td>\n",
       "      <td>30</td>\n",
       "      <td>27</td>\n",
       "      <td>27</td>\n",
       "      <td>22</td>\n",
       "      <td>19</td>\n",
       "      <td>85</td>\n",
       "      <td>72</td>\n",
       "      <td>59</td>\n",
       "      <td>30.14</td>\n",
       "      <td>...</td>\n",
       "      <td>10</td>\n",
       "      <td>9</td>\n",
       "      <td>2</td>\n",
       "      <td>20</td>\n",
       "      <td>8</td>\n",
       "      <td>23.0</td>\n",
       "      <td>T</td>\n",
       "      <td>8</td>\n",
       "      <td>Snow</td>\n",
       "      <td>351</td>\n",
       "    </tr>\n",
       "    <tr>\n",
       "      <th>2013-03-06</th>\n",
       "      <td>32</td>\n",
       "      <td>31</td>\n",
       "      <td>29</td>\n",
       "      <td>27</td>\n",
       "      <td>26</td>\n",
       "      <td>25</td>\n",
       "      <td>92</td>\n",
       "      <td>85</td>\n",
       "      <td>78</td>\n",
       "      <td>30.31</td>\n",
       "      <td>...</td>\n",
       "      <td>10</td>\n",
       "      <td>5</td>\n",
       "      <td>1</td>\n",
       "      <td>22</td>\n",
       "      <td>9</td>\n",
       "      <td>33.0</td>\n",
       "      <td>0.04</td>\n",
       "      <td>8</td>\n",
       "      <td>Snow</td>\n",
       "      <td>314</td>\n",
       "    </tr>\n",
       "  </tbody>\n",
       "</table>\n",
       "<p>9 rows × 22 columns</p>\n",
       "</div>"
      ],
      "text/plain": [
       "            max_temp  mean_temp  min_temp  max_dew  mean_dew  min_dew  \\\n",
       "date                                                                    \n",
       "2012-11-24        31         26        21       20        18       15   \n",
       "2012-12-29        32         28        23       28        25       16   \n",
       "2012-12-30        31         18         4       21        12        1   \n",
       "2013-01-01        32         26        20       31        25       16   \n",
       "2013-01-04        31         24        17       23        20       14   \n",
       "2013-01-23        31         20         9       17         8        0   \n",
       "2013-01-31        31         21        10       22        14       -2   \n",
       "2013-03-02        32         30        27       27        22       19   \n",
       "2013-03-06        32         31        29       27        26       25   \n",
       "\n",
       "            max_humidity  mean_humidity  min_humidity  max_pressure    ...     \\\n",
       "date                                                                   ...      \n",
       "2012-11-24            81             72            63         30.30    ...      \n",
       "2012-12-29            92             80            68         30.29    ...      \n",
       "2012-12-30            92             75            58         30.47    ...      \n",
       "2013-01-01            92             83            74         30.20    ...      \n",
       "2013-01-04            92             75            58         30.39    ...      \n",
       "2013-01-23            73             56            39         30.39    ...      \n",
       "2013-01-31            81             67            53         30.19    ...      \n",
       "2013-03-02            85             72            59         30.14    ...      \n",
       "2013-03-06            92             85            78         30.31    ...      \n",
       "\n",
       "            max_visibilty  mean_visibility  min_visibility  max_wind  \\\n",
       "date                                                                   \n",
       "2012-11-24             10               10               9         9   \n",
       "2012-12-29             10                3               0        18   \n",
       "2012-12-30             10                6               0        15   \n",
       "2013-01-01              9                5               2        14   \n",
       "2013-01-04             10                9               4        17   \n",
       "2013-01-23             10               10               6        15   \n",
       "2013-01-31             10                6               0        28   \n",
       "2013-03-02             10                9               2        20   \n",
       "2013-03-06             10                5               1        22   \n",
       "\n",
       "            mean_wind  min_wind  precipitation  cloud_cover    events  \\\n",
       "date                                                                    \n",
       "2012-11-24          4      14.0           0.00            4             \n",
       "2012-12-29          9      29.0           0.20            8  Fog-Snow   \n",
       "2012-12-30          6      21.0           0.00            1       Fog   \n",
       "2013-01-01          5      15.0              T            8             \n",
       "2013-01-04          7      24.0           0.00            3             \n",
       "2013-01-23          5      21.0           0.00            4             \n",
       "2013-01-31         15      38.0           0.01            7  Fog-Snow   \n",
       "2013-03-02          8      23.0              T            8      Snow   \n",
       "2013-03-06          9      33.0           0.04            8      Snow   \n",
       "\n",
       "            wind_dir  \n",
       "date                  \n",
       "2012-11-24       270  \n",
       "2012-12-29       308  \n",
       "2012-12-30       220  \n",
       "2013-01-01       353  \n",
       "2013-01-04       258  \n",
       "2013-01-23       236  \n",
       "2013-01-31       284  \n",
       "2013-03-02       351  \n",
       "2013-03-06       314  \n",
       "\n",
       "[9 rows x 22 columns]"
      ]
     },
     "execution_count": 78,
     "metadata": {},
     "output_type": "execute_result"
    }
   ],
   "source": [
    "genes_of_interest = [32, 31]\n",
    "data[data.max_temp.isin(genes_of_interest)]\n"
   ]
  },
  {
   "cell_type": "code",
   "execution_count": 79,
   "metadata": {
    "slideshow": {
     "slide_type": "fragment"
    }
   },
   "outputs": [
    {
     "data": {
      "text/html": [
       "<div>\n",
       "<style scoped>\n",
       "    .dataframe tbody tr th:only-of-type {\n",
       "        vertical-align: middle;\n",
       "    }\n",
       "\n",
       "    .dataframe tbody tr th {\n",
       "        vertical-align: top;\n",
       "    }\n",
       "\n",
       "    .dataframe thead th {\n",
       "        text-align: right;\n",
       "    }\n",
       "</style>\n",
       "<table border=\"1\" class=\"dataframe\">\n",
       "  <thead>\n",
       "    <tr style=\"text-align: right;\">\n",
       "      <th></th>\n",
       "      <th>max_temp</th>\n",
       "      <th>mean_temp</th>\n",
       "      <th>min_temp</th>\n",
       "      <th>max_dew</th>\n",
       "      <th>mean_dew</th>\n",
       "      <th>min_dew</th>\n",
       "      <th>max_humidity</th>\n",
       "      <th>mean_humidity</th>\n",
       "      <th>min_humidity</th>\n",
       "      <th>max_pressure</th>\n",
       "      <th>...</th>\n",
       "      <th>max_visibilty</th>\n",
       "      <th>mean_visibility</th>\n",
       "      <th>min_visibility</th>\n",
       "      <th>max_wind</th>\n",
       "      <th>mean_wind</th>\n",
       "      <th>min_wind</th>\n",
       "      <th>precipitation</th>\n",
       "      <th>cloud_cover</th>\n",
       "      <th>events</th>\n",
       "      <th>wind_dir</th>\n",
       "    </tr>\n",
       "    <tr>\n",
       "      <th>date</th>\n",
       "      <th></th>\n",
       "      <th></th>\n",
       "      <th></th>\n",
       "      <th></th>\n",
       "      <th></th>\n",
       "      <th></th>\n",
       "      <th></th>\n",
       "      <th></th>\n",
       "      <th></th>\n",
       "      <th></th>\n",
       "      <th></th>\n",
       "      <th></th>\n",
       "      <th></th>\n",
       "      <th></th>\n",
       "      <th></th>\n",
       "      <th></th>\n",
       "      <th></th>\n",
       "      <th></th>\n",
       "      <th></th>\n",
       "      <th></th>\n",
       "      <th></th>\n",
       "    </tr>\n",
       "  </thead>\n",
       "  <tbody>\n",
       "    <tr>\n",
       "      <th>2012-11-24</th>\n",
       "      <td>31</td>\n",
       "      <td>26</td>\n",
       "      <td>21</td>\n",
       "      <td>20</td>\n",
       "      <td>18</td>\n",
       "      <td>15</td>\n",
       "      <td>81</td>\n",
       "      <td>72</td>\n",
       "      <td>63</td>\n",
       "      <td>30.30</td>\n",
       "      <td>...</td>\n",
       "      <td>10</td>\n",
       "      <td>10</td>\n",
       "      <td>9</td>\n",
       "      <td>9</td>\n",
       "      <td>4</td>\n",
       "      <td>14.0</td>\n",
       "      <td>0.00</td>\n",
       "      <td>4</td>\n",
       "      <td></td>\n",
       "      <td>270</td>\n",
       "    </tr>\n",
       "    <tr>\n",
       "      <th>2012-12-21</th>\n",
       "      <td>29</td>\n",
       "      <td>26</td>\n",
       "      <td>22</td>\n",
       "      <td>25</td>\n",
       "      <td>19</td>\n",
       "      <td>15</td>\n",
       "      <td>85</td>\n",
       "      <td>74</td>\n",
       "      <td>63</td>\n",
       "      <td>30.21</td>\n",
       "      <td>...</td>\n",
       "      <td>10</td>\n",
       "      <td>5</td>\n",
       "      <td>0</td>\n",
       "      <td>25</td>\n",
       "      <td>14</td>\n",
       "      <td>39.0</td>\n",
       "      <td>0.02</td>\n",
       "      <td>7</td>\n",
       "      <td>Fog-Snow</td>\n",
       "      <td>285</td>\n",
       "    </tr>\n",
       "    <tr>\n",
       "      <th>2012-12-29</th>\n",
       "      <td>32</td>\n",
       "      <td>28</td>\n",
       "      <td>23</td>\n",
       "      <td>28</td>\n",
       "      <td>25</td>\n",
       "      <td>16</td>\n",
       "      <td>92</td>\n",
       "      <td>80</td>\n",
       "      <td>68</td>\n",
       "      <td>30.29</td>\n",
       "      <td>...</td>\n",
       "      <td>10</td>\n",
       "      <td>3</td>\n",
       "      <td>0</td>\n",
       "      <td>18</td>\n",
       "      <td>9</td>\n",
       "      <td>29.0</td>\n",
       "      <td>0.20</td>\n",
       "      <td>8</td>\n",
       "      <td>Fog-Snow</td>\n",
       "      <td>308</td>\n",
       "    </tr>\n",
       "  </tbody>\n",
       "</table>\n",
       "<p>3 rows × 22 columns</p>\n",
       "</div>"
      ],
      "text/plain": [
       "            max_temp  mean_temp  min_temp  max_dew  mean_dew  min_dew  \\\n",
       "date                                                                    \n",
       "2012-11-24        31         26        21       20        18       15   \n",
       "2012-12-21        29         26        22       25        19       15   \n",
       "2012-12-29        32         28        23       28        25       16   \n",
       "\n",
       "            max_humidity  mean_humidity  min_humidity  max_pressure    ...     \\\n",
       "date                                                                   ...      \n",
       "2012-11-24            81             72            63         30.30    ...      \n",
       "2012-12-21            85             74            63         30.21    ...      \n",
       "2012-12-29            92             80            68         30.29    ...      \n",
       "\n",
       "            max_visibilty  mean_visibility  min_visibility  max_wind  \\\n",
       "date                                                                   \n",
       "2012-11-24             10               10               9         9   \n",
       "2012-12-21             10                5               0        25   \n",
       "2012-12-29             10                3               0        18   \n",
       "\n",
       "            mean_wind  min_wind  precipitation  cloud_cover    events  \\\n",
       "date                                                                    \n",
       "2012-11-24          4      14.0           0.00            4             \n",
       "2012-12-21         14      39.0           0.02            7  Fog-Snow   \n",
       "2012-12-29          9      29.0           0.20            8  Fog-Snow   \n",
       "\n",
       "            wind_dir  \n",
       "date                  \n",
       "2012-11-24       270  \n",
       "2012-12-21       285  \n",
       "2012-12-29       308  \n",
       "\n",
       "[3 rows x 22 columns]"
      ]
     },
     "execution_count": 79,
     "metadata": {},
     "output_type": "execute_result"
    }
   ],
   "source": [
    "data[data.max_temp.isin([31, 29, 32]) & data.min_temp.isin([21,22,23])]"
   ]
  },
  {
   "cell_type": "markdown",
   "metadata": {
    "slideshow": {
     "slide_type": "slide"
    }
   },
   "source": [
    "It's important to understand what's really going on underneath with filtering. Let's look at what kind of object we actually get back when creating a filter."
   ]
  },
  {
   "cell_type": "code",
   "execution_count": null,
   "metadata": {
    "slideshow": {
     "slide_type": "fragment"
    }
   },
   "outputs": [],
   "source": [
    "temp_max = data.max_temp <= 32\n",
    "type(temp_max)"
   ]
  },
  {
   "cell_type": "markdown",
   "metadata": {
    "slideshow": {
     "slide_type": "fragment"
    }
   },
   "source": [
    "This is a pandas `Series` object, which is the one-dimensional equivalent of a DataFrame. Because our DataFrame uses datetime objects for the index, we have a specialized `TimeSeries` object.\n",
    "\n",
    "What's inside the filter?"
   ]
  },
  {
   "cell_type": "code",
   "execution_count": null,
   "metadata": {
    "slideshow": {
     "slide_type": "slide"
    }
   },
   "outputs": [],
   "source": [
    "temp_max"
   ]
  },
  {
   "cell_type": "markdown",
   "metadata": {
    "slideshow": {
     "slide_type": "slide"
    }
   },
   "source": [
    "Our filter is nothing more than a `Series` with a *boolean value for every item in the index*. When we \"run the filter\" as so:"
   ]
  },
  {
   "cell_type": "code",
   "execution_count": null,
   "metadata": {
    "slideshow": {
     "slide_type": "fragment"
    }
   },
   "outputs": [],
   "source": [
    "data[temp_max].info()"
   ]
  },
  {
   "cell_type": "markdown",
   "metadata": {
    "slideshow": {
     "slide_type": "slide"
    }
   },
   "source": [
    "pandas lines up the rows of the DataFrame and the filter using the index, and then keeps the rows with a `True` filter value. That's it.\n",
    "\n",
    "Let's create another filter."
   ]
  },
  {
   "cell_type": "code",
   "execution_count": null,
   "metadata": {
    "slideshow": {
     "slide_type": "fragment"
    }
   },
   "outputs": [],
   "source": [
    "temp_min = data.min_temp >= 20\n",
    "temp_min"
   ]
  },
  {
   "cell_type": "markdown",
   "metadata": {
    "slideshow": {
     "slide_type": "slide"
    }
   },
   "source": [
    "Now we can see what the boolean operations are doing. Something like `&` (**not** `and`)..."
   ]
  },
  {
   "cell_type": "code",
   "execution_count": null,
   "metadata": {
    "slideshow": {
     "slide_type": "fragment"
    }
   },
   "outputs": [],
   "source": [
    "temp_min & temp_max"
   ]
  },
  {
   "cell_type": "markdown",
   "metadata": {
    "slideshow": {
     "slide_type": "slide"
    }
   },
   "source": [
    "...is just lining up the two filters using the index, performing a boolean AND operation, and returning the result as another `Series`.\n",
    "\n",
    "We can do other boolean operations too, like OR:"
   ]
  },
  {
   "cell_type": "code",
   "execution_count": null,
   "metadata": {
    "slideshow": {
     "slide_type": "fragment"
    }
   },
   "outputs": [],
   "source": [
    "temp_min | temp_max"
   ]
  },
  {
   "cell_type": "markdown",
   "metadata": {
    "slideshow": {
     "slide_type": "slide"
    }
   },
   "source": [
    "Because the result is just another `Series`, we have all of the regular pandas functions at our disposal. The `any()` function returns `True` if any value in the `Series` is `True`."
   ]
  },
  {
   "cell_type": "code",
   "execution_count": null,
   "metadata": {
    "slideshow": {
     "slide_type": "fragment"
    }
   },
   "outputs": [],
   "source": [
    "temp_both = temp_min & temp_max\n",
    "temp_both.any()"
   ]
  },
  {
   "cell_type": "markdown",
   "metadata": {
    "slideshow": {
     "slide_type": "slide"
    }
   },
   "source": [
    "We can wrap it up in an `apply()` call fairly easily, though:"
   ]
  },
  {
   "cell_type": "code",
   "execution_count": 80,
   "metadata": {
    "slideshow": {
     "slide_type": "fragment"
    }
   },
   "outputs": [
    {
     "name": "stdout",
     "output_type": "stream",
     "text": [
      "<class 'pandas.core.frame.DataFrame'>\n",
      "DatetimeIndex: 121 entries, 2012-03-11 to 2013-03-05\n",
      "Data columns (total 22 columns):\n",
      "max_temp           121 non-null int64\n",
      "mean_temp          121 non-null int64\n",
      "min_temp           121 non-null int64\n",
      "max_dew            121 non-null int64\n",
      "mean_dew           121 non-null int64\n",
      "min_dew            121 non-null int64\n",
      "max_humidity       121 non-null int64\n",
      "mean_humidity      121 non-null int64\n",
      "min_humidity       121 non-null int64\n",
      "max_pressure       121 non-null float64\n",
      "mean_pressure      121 non-null float64\n",
      "min_pressure       121 non-null float64\n",
      "max_visibilty      121 non-null int64\n",
      "mean_visibility    121 non-null int64\n",
      "min_visibility     121 non-null int64\n",
      "max_wind           121 non-null int64\n",
      "mean_wind          121 non-null int64\n",
      "min_wind           121 non-null float64\n",
      "precipitation      121 non-null object\n",
      "cloud_cover        121 non-null int64\n",
      "events             121 non-null object\n",
      "wind_dir           121 non-null int64\n",
      "dtypes: float64(4), int64(16), object(2)\n",
      "memory usage: 21.7+ KB\n"
     ]
    }
   ],
   "source": [
    "# e is just an individual place holder for the event\n",
    "# after you can type %whos and see that e wont be a variable, it was just a place holder\n",
    "# this tells you that there are a 121 columns that have rain\n",
    "\n",
    "data[data.events.apply(lambda e: \"Rain\" in e)].info()"
   ]
  },
  {
   "cell_type": "markdown",
   "metadata": {
    "slideshow": {
     "slide_type": "slide"
    }
   },
   "source": [
    "## Apply a function to your data\n",
    "\n",
    "Before starting the exercise, let's convert the precipitation column in the dataset to floating point numbers. It's currently full of strings because of the \"T\" value, which stands for \"trace amount of precipitation.\""
   ]
  },
  {
   "cell_type": "code",
   "execution_count": 82,
   "metadata": {
    "slideshow": {
     "slide_type": "fragment"
    }
   },
   "outputs": [
    {
     "data": {
      "text/plain": [
       "date\n",
       "2012-03-10    0.00\n",
       "2012-03-11       T\n",
       "2012-03-12    0.03\n",
       "2012-03-13    0.00\n",
       "2012-03-14    0.00\n",
       "Name: precipitation, dtype: object"
      ]
     },
     "execution_count": 82,
     "metadata": {},
     "output_type": "execute_result"
    }
   ],
   "source": [
    "# looking at precipitation\n",
    "# is Trace not a non zero, so they put a T as a trace of rain. Can't plot T since it\n",
    "# isnt numerical \n",
    "data.precipitation.head()"
   ]
  },
  {
   "cell_type": "markdown",
   "metadata": {
    "slideshow": {
     "slide_type": "slide"
    }
   },
   "source": [
    "We'll replace \"T\" with a very small number, and convert the rest of the strings to floats:"
   ]
  },
  {
   "cell_type": "code",
   "execution_count": 83,
   "metadata": {
    "slideshow": {
     "slide_type": "fragment"
    }
   },
   "outputs": [
    {
     "data": {
      "text/plain": [
       "date\n",
       "2012-03-10    0.000000e+00\n",
       "2012-03-11    1.000000e-10\n",
       "2012-03-12    3.000000e-02\n",
       "2012-03-13    0.000000e+00\n",
       "2012-03-14    0.000000e+00\n",
       "Name: precipitation, dtype: float64"
      ]
     },
     "execution_count": 83,
     "metadata": {},
     "output_type": "execute_result"
    }
   ],
   "source": [
    "# Convert precipitation to floating point number\n",
    "# \"T\" means \"trace of precipitation\"\n",
    "# we can apple a custome fxn to a number, it will convert any T as a small value\n",
    "\n",
    "def precipitation_to_float(precip_str):\n",
    "    if precip_str == \"T\":\n",
    "        return 1e-10  # Very small value\n",
    "    return float(precip_str) #return the string and if it isnt a T in a row it will stip put that number and reutrn it\n",
    "\n",
    "data.precipitation = data.precipitation.apply(precipitation_to_float) # call precip column and apply fxn and send it back into and repleace preceip column\n",
    "data.precipitation.head()"
   ]
  },
  {
   "cell_type": "code",
   "execution_count": null,
   "metadata": {},
   "outputs": [],
   "source": [
    "def precipitation_to_float(precip_str):\n",
    "    if precip_str == \"T\":\n",
    "        return 1e-10\n",
    "    return float(precip_str)"
   ]
  },
  {
   "cell_type": "code",
   "execution_count": null,
   "metadata": {},
   "outputs": [],
   "source": [
    "data.precipitation = data.precipitation.apply(precipitation_to_float)\n",
    "data.precipitation.head()"
   ]
  },
  {
   "cell_type": "markdown",
   "metadata": {
    "slideshow": {
     "slide_type": "subslide"
    }
   },
   "source": [
    "## Exercise 5:\n",
    "\n",
    "What was the coldest and hottest it ever got when there was no cloud cover and no precipitation?"
   ]
  },
  {
   "cell_type": "markdown",
   "metadata": {
    "slideshow": {
     "slide_type": "slide"
    }
   },
   "source": [
    "## Grouping"
   ]
  },
  {
   "cell_type": "markdown",
   "metadata": {
    "slideshow": {
     "slide_type": "fragment"
    }
   },
   "source": [
    "Besides `apply()`, another great DataFrame function is `groupby()`.\n",
    "It will group a DataFrame by one or more columns, and let you iterate through each group.\n",
    "\n",
    "As an example, let's group our DataFrame by the \"cloud_cover\" column (a value ranging from 0 to 8)."
   ]
  },
  {
   "cell_type": "code",
   "execution_count": 84,
   "metadata": {
    "slideshow": {
     "slide_type": "fragment"
    }
   },
   "outputs": [
    {
     "data": {
      "text/plain": [
       "{0: 59.73076923076923,\n",
       " 1: 61.41509433962264,\n",
       " 2: 59.72727272727273,\n",
       " 3: 58.0625,\n",
       " 4: 51.5,\n",
       " 5: 50.827586206896555,\n",
       " 6: 57.72727272727273,\n",
       " 7: 46.5,\n",
       " 8: 40.90909090909091}"
      ]
     },
     "execution_count": 84,
     "metadata": {},
     "output_type": "execute_result"
    }
   ],
   "source": [
    "# creating a for loop and a dictionary b/c {}\n",
    "\n",
    "cover_temps = {}\n",
    "for cover, cover_data in data.groupby(\"cloud_cover\"):\n",
    "    cover_temps[cover] = cover_data.mean_temp.mean()  # The mean mean temp!\n",
    "cover_temps"
   ]
  },
  {
   "cell_type": "code",
   "execution_count": null,
   "metadata": {},
   "outputs": [],
   "source": []
  },
  {
   "cell_type": "markdown",
   "metadata": {
    "slideshow": {
     "slide_type": "slide"
    }
   },
   "source": [
    "When you iterate through the result of `groupby()`, you will get a tuple.\n",
    "The first item is the column value, and the second item is a filtered DataFrame (where the column equals the first tuple value).\n",
    "\n",
    "You can group by more than one column as well.\n",
    "In this case, the first tuple item returned by `groupby()` will itself be a tuple with the value of each column."
   ]
  },
  {
   "cell_type": "code",
   "execution_count": 85,
   "metadata": {
    "slideshow": {
     "slide_type": "fragment"
    }
   },
   "outputs": [
    {
     "name": "stdout",
     "output_type": "stream",
     "text": [
      "Cover: 0, Events: , Count: 99\n",
      "Cover: 0, Events: Fog, Count: 2\n",
      "Cover: 0, Events: Rain, Count: 2\n",
      "Cover: 0, Events: Thunderstorm, Count: 1\n",
      "Cover: 1, Events: , Count: 35\n",
      "Cover: 1, Events: Fog, Count: 5\n",
      "Cover: 1, Events: Fog-Rain, Count: 1\n",
      "Cover: 1, Events: Rain, Count: 4\n",
      "Cover: 1, Events: Rain-Thunderstorm, Count: 2\n",
      "Cover: 1, Events: Thunderstorm, Count: 6\n",
      "Cover: 2, Events: , Count: 20\n",
      "Cover: 2, Events: Fog, Count: 1\n",
      "Cover: 2, Events: Rain, Count: 5\n",
      "Cover: 2, Events: Rain-Thunderstorm, Count: 4\n",
      "Cover: 2, Events: Snow, Count: 1\n",
      "Cover: 2, Events: Thunderstorm, Count: 2\n",
      "Cover: 3, Events: , Count: 12\n",
      "Cover: 3, Events: Fog, Count: 2\n",
      "Cover: 3, Events: Fog-Rain-Thunderstorm, Count: 3\n",
      "Cover: 3, Events: Fog-Thunderstorm, Count: 1\n",
      "Cover: 3, Events: Rain, Count: 9\n",
      "Cover: 3, Events: Rain-Thunderstorm, Count: 4\n",
      "Cover: 3, Events: Snow, Count: 1\n",
      "Cover: 4, Events: , Count: 16\n",
      "Cover: 4, Events: Fog, Count: 3\n",
      "Cover: 4, Events: Fog-Rain, Count: 2\n",
      "Cover: 4, Events: Fog-Rain-Thunderstorm, Count: 2\n",
      "Cover: 4, Events: Rain, Count: 10\n",
      "Cover: 4, Events: Rain-Thunderstorm, Count: 6\n",
      "Cover: 4, Events: Snow, Count: 1\n",
      "Cover: 5, Events: , Count: 9\n",
      "Cover: 5, Events: Fog-Rain, Count: 1\n",
      "Cover: 5, Events: Fog-Rain-Snow, Count: 1\n",
      "Cover: 5, Events: Rain, Count: 13\n",
      "Cover: 5, Events: Rain-Thunderstorm, Count: 3\n",
      "Cover: 5, Events: Snow, Count: 2\n",
      "Cover: 6, Events: , Count: 3\n",
      "Cover: 6, Events: Fog-Rain, Count: 2\n",
      "Cover: 6, Events: Fog-Rain-Snow, Count: 1\n",
      "Cover: 6, Events: Fog-Rain-Thunderstorm, Count: 2\n",
      "Cover: 6, Events: Rain, Count: 9\n",
      "Cover: 6, Events: Rain-Thunderstorm, Count: 4\n",
      "Cover: 6, Events: Snow, Count: 1\n",
      "Cover: 7, Events: , Count: 5\n",
      "Cover: 7, Events: Fog-Rain, Count: 1\n",
      "Cover: 7, Events: Fog-Rain-Thunderstorm, Count: 1\n",
      "Cover: 7, Events: Fog-Snow, Count: 3\n",
      "Cover: 7, Events: Rain, Count: 6\n",
      "Cover: 7, Events: Rain-Thunderstorm, Count: 3\n",
      "Cover: 7, Events: Snow, Count: 1\n",
      "Cover: 8, Events: , Count: 5\n",
      "Cover: 8, Events: Fog-Rain, Count: 4\n",
      "Cover: 8, Events: Fog-Rain-Snow, Count: 1\n",
      "Cover: 8, Events: Fog-Rain-Snow-Thunderstorm, Count: 1\n",
      "Cover: 8, Events: Fog-Snow, Count: 2\n",
      "Cover: 8, Events: Rain, Count: 11\n",
      "Cover: 8, Events: Rain-Snow, Count: 3\n",
      "Cover: 8, Events: Snow, Count: 6\n"
     ]
    }
   ],
   "source": [
    "# we have a string that is allowing you to replace and count? \n",
    "for (cover, events), group_data in data.groupby([\"cloud_cover\", \"events\"]):\n",
    "    print(\"Cover: {0}, Events: {1}, Count: {2}\".format(cover, events, len(group_data)))"
   ]
  },
  {
   "cell_type": "markdown",
   "metadata": {
    "slideshow": {
     "slide_type": "slide"
    }
   },
   "source": [
    "## Creating New Columns"
   ]
  },
  {
   "cell_type": "markdown",
   "metadata": {
    "slideshow": {
     "slide_type": "fragment"
    }
   },
   "source": [
    "Weather events in our DataFrame are stored in strings like \"Rain-Thunderstorm\" to represent that it rained and there was a thunderstorm that day. Let's split them out into boolean \"rain\", \"thunderstorm\", etc. columns.\n",
    "\n",
    "First, let's discover the different kinds of weather events we have with `unique()`."
   ]
  },
  {
   "cell_type": "code",
   "execution_count": 86,
   "metadata": {
    "slideshow": {
     "slide_type": "slide"
    }
   },
   "outputs": [
    {
     "data": {
      "text/plain": [
       "array(['', 'Rain', 'Rain-Thunderstorm', 'Fog-Thunderstorm', 'Fog-Rain',\n",
       "       'Thunderstorm', 'Fog-Rain-Thunderstorm', 'Fog', 'Fog-Rain-Snow',\n",
       "       'Fog-Rain-Snow-Thunderstorm', 'Fog-Snow', 'Snow', 'Rain-Snow'],\n",
       "      dtype=object)"
      ]
     },
     "execution_count": 86,
     "metadata": {},
     "output_type": "execute_result"
    }
   ],
   "source": [
    "#this telling you what events are unique\n",
    "#how do we change this so we can make the most use of this\n",
    "# we can see that there 4 different options short of nothing happening\n",
    "data.events.unique()"
   ]
  },
  {
   "cell_type": "code",
   "execution_count": null,
   "metadata": {},
   "outputs": [],
   "source": []
  },
  {
   "cell_type": "markdown",
   "metadata": {
    "slideshow": {
     "slide_type": "fragment"
    }
   },
   "source": [
    "Looks like we have \"Rain\", \"Thunderstorm\", \"Fog\", and \"Snow\" events. Creating a new column for each of these event kinds is a piece of cake with the dictionary syntax."
   ]
  },
  {
   "cell_type": "code",
   "execution_count": 88,
   "metadata": {
    "slideshow": {
     "slide_type": "slide"
    }
   },
   "outputs": [
    {
     "name": "stdout",
     "output_type": "stream",
     "text": [
      "<class 'pandas.core.frame.DataFrame'>\n",
      "DatetimeIndex: 366 entries, 2012-03-10 to 2013-03-10\n",
      "Data columns (total 26 columns):\n",
      "max_temp           366 non-null int64\n",
      "mean_temp          366 non-null int64\n",
      "min_temp           366 non-null int64\n",
      "max_dew            366 non-null int64\n",
      "mean_dew           366 non-null int64\n",
      "min_dew            366 non-null int64\n",
      "max_humidity       366 non-null int64\n",
      "mean_humidity      366 non-null int64\n",
      "min_humidity       366 non-null int64\n",
      "max_pressure       366 non-null float64\n",
      "mean_pressure      366 non-null float64\n",
      "min_pressure       366 non-null float64\n",
      "max_visibilty      366 non-null int64\n",
      "mean_visibility    366 non-null int64\n",
      "min_visibility     366 non-null int64\n",
      "max_wind           366 non-null int64\n",
      "mean_wind          366 non-null int64\n",
      "min_wind           365 non-null float64\n",
      "precipitation      366 non-null float64\n",
      "cloud_cover        366 non-null int64\n",
      "events             366 non-null object\n",
      "wind_dir           366 non-null int64\n",
      "rain               366 non-null bool\n",
      "thunderstorm       366 non-null bool\n",
      "fog                366 non-null bool\n",
      "snow               366 non-null bool\n",
      "dtypes: bool(4), float64(5), int64(16), object(1)\n",
      "memory usage: 77.2+ KB\n"
     ]
    }
   ],
   "source": [
    "for event_kind in [\"Rain\", \"Thunderstorm\", \"Fog\", \"Snow\"]:\n",
    "    col_name = event_kind.lower()  # Turn \"Rain\" into \"rain\", etc.\n",
    "    data[col_name] = data.events.apply(lambda e: event_kind in e)\n",
    "data.info()"
   ]
  },
  {
   "cell_type": "code",
   "execution_count": 87,
   "metadata": {},
   "outputs": [],
   "source": [
    "# ^ making a emp list with these options, then loop the event kind and look for the 4\n",
    "# convert terms to all lower case and then call it column name. \n",
    "# basically making 4 new column names\n",
    "# we don't really have 4 new columns we have booling columns"
   ]
  },
  {
   "cell_type": "markdown",
   "metadata": {
    "slideshow": {
     "slide_type": "slide"
    }
   },
   "source": [
    "Our new columns show up at the bottom. We can access them now with the dot syntax."
   ]
  },
  {
   "cell_type": "code",
   "execution_count": null,
   "metadata": {},
   "outputs": [],
   "source": []
  },
  {
   "cell_type": "code",
   "execution_count": null,
   "metadata": {},
   "outputs": [],
   "source": []
  },
  {
   "cell_type": "code",
   "execution_count": 89,
   "metadata": {
    "slideshow": {
     "slide_type": "fragment"
    }
   },
   "outputs": [
    {
     "data": {
      "text/plain": [
       "date\n",
       "2012-03-10    False\n",
       "2012-03-11     True\n",
       "2012-03-12     True\n",
       "2012-03-13    False\n",
       "2012-03-14    False\n",
       "Name: rain, dtype: bool"
      ]
     },
     "execution_count": 89,
     "metadata": {},
     "output_type": "execute_result"
    }
   ],
   "source": [
    "data.rain.head()"
   ]
  },
  {
   "cell_type": "code",
   "execution_count": 91,
   "metadata": {},
   "outputs": [
    {
     "data": {
      "text/plain": [
       "rain            121\n",
       "thunderstorm     45\n",
       "dtype: int64"
      ]
     },
     "execution_count": 91,
     "metadata": {},
     "output_type": "execute_result"
    }
   ],
   "source": [
    "new_df = data[['rain', 'thunderstorm']]\n",
    "new_df.sum()"
   ]
  },
  {
   "cell_type": "code",
   "execution_count": null,
   "metadata": {},
   "outputs": [],
   "source": [
    "type(new_df)"
   ]
  },
  {
   "cell_type": "markdown",
   "metadata": {
    "slideshow": {
     "slide_type": "slide"
    }
   },
   "source": [
    "We can also do cool things like find out how many `True` values there are (i.e., how many days had rain)..."
   ]
  },
  {
   "cell_type": "code",
   "execution_count": 92,
   "metadata": {
    "slideshow": {
     "slide_type": "fragment"
    }
   },
   "outputs": [
    {
     "data": {
      "text/plain": [
       "121"
      ]
     },
     "execution_count": 92,
     "metadata": {},
     "output_type": "execute_result"
    }
   ],
   "source": [
    "data.rain.sum()"
   ]
  },
  {
   "cell_type": "code",
   "execution_count": null,
   "metadata": {},
   "outputs": [],
   "source": []
  },
  {
   "cell_type": "markdown",
   "metadata": {
    "slideshow": {
     "slide_type": "slide"
    }
   },
   "source": [
    "...and get all the days that had both rain and snow!"
   ]
  },
  {
   "cell_type": "code",
   "execution_count": 93,
   "metadata": {
    "slideshow": {
     "slide_type": "fragment"
    }
   },
   "outputs": [
    {
     "name": "stdout",
     "output_type": "stream",
     "text": [
      "<class 'pandas.core.frame.DataFrame'>\n",
      "DatetimeIndex: 7 entries, 2012-11-12 to 2013-03-05\n",
      "Data columns (total 26 columns):\n",
      "max_temp           7 non-null int64\n",
      "mean_temp          7 non-null int64\n",
      "min_temp           7 non-null int64\n",
      "max_dew            7 non-null int64\n",
      "mean_dew           7 non-null int64\n",
      "min_dew            7 non-null int64\n",
      "max_humidity       7 non-null int64\n",
      "mean_humidity      7 non-null int64\n",
      "min_humidity       7 non-null int64\n",
      "max_pressure       7 non-null float64\n",
      "mean_pressure      7 non-null float64\n",
      "min_pressure       7 non-null float64\n",
      "max_visibilty      7 non-null int64\n",
      "mean_visibility    7 non-null int64\n",
      "min_visibility     7 non-null int64\n",
      "max_wind           7 non-null int64\n",
      "mean_wind          7 non-null int64\n",
      "min_wind           7 non-null float64\n",
      "precipitation      7 non-null float64\n",
      "cloud_cover        7 non-null int64\n",
      "events             7 non-null object\n",
      "wind_dir           7 non-null int64\n",
      "rain               7 non-null bool\n",
      "thunderstorm       7 non-null bool\n",
      "fog                7 non-null bool\n",
      "snow               7 non-null bool\n",
      "dtypes: bool(4), float64(5), int64(16), object(1)\n",
      "memory usage: 1.3+ KB\n"
     ]
    }
   ],
   "source": [
    "data[data.rain & data.snow].info()"
   ]
  },
  {
   "cell_type": "code",
   "execution_count": null,
   "metadata": {},
   "outputs": [],
   "source": []
  },
  {
   "cell_type": "markdown",
   "metadata": {
    "slideshow": {
     "slide_type": "subslide"
    }
   },
   "source": [
    "## Exercise 6:\n",
    "\n",
    "Was the mean temperature more variable on days with rain and snow than on days with just rain or just snow?\n",
    "\n",
    "*Hint: don't forget the `std()` function*"
   ]
  },
  {
   "cell_type": "code",
   "execution_count": null,
   "metadata": {},
   "outputs": [],
   "source": []
  },
  {
   "cell_type": "markdown",
   "metadata": {
    "slideshow": {
     "slide_type": "slide"
    }
   },
   "source": [
    "## Plotting"
   ]
  },
  {
   "cell_type": "markdown",
   "metadata": {
    "slideshow": {
     "slide_type": "fragment"
    }
   },
   "source": [
    "We've already seen how the `hist()` function makes generating histograms a snap. Let's look at the `plot()` function now."
   ]
  },
  {
   "cell_type": "code",
   "execution_count": 95,
   "metadata": {
    "slideshow": {
     "slide_type": "fragment"
    }
   },
   "outputs": [
    {
     "data": {
      "image/png": "[encoded data removed]",
      "text/plain": [
       "<matplotlib.figure.Figure at 0x7f9fa7a176d8>"
      ]
     },
     "metadata": {
      "needs_background": "light"
     },
     "output_type": "display_data"
    }
   ],
   "source": [
    "data.max_temp.plot();"
   ]
  },
  {
   "cell_type": "code",
   "execution_count": null,
   "metadata": {},
   "outputs": [],
   "source": [
    "# pandas and matplotlib are working together to plot this. thats how we get the axis?"
   ]
  },
  {
   "cell_type": "markdown",
   "metadata": {
    "slideshow": {
     "slide_type": "slide"
    }
   },
   "source": [
    "That one line of code did a **lot** for us. First, it created a nice looking line plot using the maximum temperature column from our DataFrame. Second, because we used `datetime` objects in our index, pandas labeled the x-axis appropriately.\n",
    "\n",
    "Pandas is smart too. If we're only looking at a couple of days, the x-axis looks different:"
   ]
  },
  {
   "cell_type": "code",
   "execution_count": 99,
   "metadata": {
    "slideshow": {
     "slide_type": "fragment"
    }
   },
   "outputs": [
    {
     "data": {
      "image/png": "[encoded data removed]",
      "text/plain": [
       "<matplotlib.figure.Figure at 0x7f9fa78524e0>"
      ]
     },
     "metadata": {
      "needs_background": "light"
     },
     "output_type": "display_data"
    }
   ],
   "source": [
    "#barrows from unix, make little peices of software that do something fast. \n",
    "# what this does is away for you to grab something in the mid, how to pipe or build up\n",
    "# you are just selecting the middle rows of data\n",
    "#get data from Sept- Dec\n",
    "\n",
    "data.max_temp.tail(200).head(100).plot();"
   ]
  },
  {
   "cell_type": "code",
   "execution_count": 96,
   "metadata": {},
   "outputs": [
    {
     "data": {
      "text/plain": [
       "date\n",
       "2013-03-06    32\n",
       "2013-03-07    36\n",
       "2013-03-08    47\n",
       "2013-03-09    56\n",
       "2013-03-10    60\n",
       "Name: max_temp, dtype: int64"
      ]
     },
     "execution_count": 96,
     "metadata": {},
     "output_type": "execute_result"
    }
   ],
   "source": [
    "data.max_temp.tail()"
   ]
  },
  {
   "cell_type": "code",
   "execution_count": 97,
   "metadata": {},
   "outputs": [
    {
     "data": {
      "text/plain": [
       "<matplotlib.axes._subplots.AxesSubplot at 0x7f9fa794cba8>"
      ]
     },
     "execution_count": 97,
     "metadata": {},
     "output_type": "execute_result"
    },
    {
     "data": {
      "image/png": "[encoded data removed]",
      "text/plain": [
       "<matplotlib.figure.Figure at 0x7f9fa78ab3c8>"
      ]
     },
     "metadata": {
      "needs_background": "light"
     },
     "output_type": "display_data"
    }
   ],
   "source": [
    "data.max_temp.tail().plot()"
   ]
  },
  {
   "cell_type": "markdown",
   "metadata": {
    "slideshow": {
     "slide_type": "slide"
    }
   },
   "source": [
    "Prefer a bar plot? Pandas has got your covered."
   ]
  },
  {
   "cell_type": "code",
   "execution_count": 101,
   "metadata": {
    "slideshow": {
     "slide_type": "fragment"
    }
   },
   "outputs": [
    {
     "data": {
      "image/png": "[encoded data removed]",
      "text/plain": [
       "<matplotlib.figure.Figure at 0x7f9fa77c2400>"
      ]
     },
     "metadata": {
      "needs_background": "light"
     },
     "output_type": "display_data"
    }
   ],
   "source": [
    "data.max_temp.tail().plot(kind=\"bar\", rot=10);"
   ]
  },
  {
   "cell_type": "code",
   "execution_count": 100,
   "metadata": {},
   "outputs": [],
   "source": [
    "# can take the tail info and change the type of plot to a bar plot and \n",
    "# rot makes the tiles of the bars rotate at that angle so if we don't add rot then\n",
    "# the titles are verticle\n",
    "# tail () defult is 5 values\n",
    "# see different kinds of plots do data.plot? "
   ]
  },
  {
   "cell_type": "markdown",
   "metadata": {
    "slideshow": {
     "slide_type": "slide"
    }
   },
   "source": [
    "The `plot()` function returns a matplotlib `AxesSubPlot` object. You can pass this object into subsequent calls to `plot()` in order to compose plots.\n",
    "\n",
    "Although `plot()` takes a variety of parameters to customize your plot, users familiar with matplotlib will feel right at home with the `AxesSubPlot` object."
   ]
  },
  {
   "cell_type": "code",
   "execution_count": 104,
   "metadata": {
    "slideshow": {
     "slide_type": "fragment"
    }
   },
   "outputs": [
    {
     "data": {
      "image/png": "[encoded data removed]",
      "text/plain": [
       "<matplotlib.figure.Figure at 0x7f9fa7a12a58>"
      ]
     },
     "metadata": {
      "needs_background": "light"
     },
     "output_type": "display_data"
    }
   ],
   "source": [
    "ax1 = data.max_temp.plot(title=\"Min and Max Temperatures\")\n",
    "data.min_temp.plot(style=\"red\", ax=ax1)\n",
    "ax1.set_ylabel(\"Temperature (F)\");"
   ]
  },
  {
   "cell_type": "markdown",
   "metadata": {
    "slideshow": {
     "slide_type": "subslide"
    }
   },
   "source": [
    "## Exercise 7:\n",
    "\n",
    "Add the mean temperature to the previous plot using a green line. Also, add a legend with the `legend()` method of `ax`."
   ]
  },
  {
   "cell_type": "code",
   "execution_count": null,
   "metadata": {
    "slideshow": {
     "slide_type": "skip"
    }
   },
   "outputs": [],
   "source": []
  },
  {
   "cell_type": "markdown",
   "metadata": {
    "slideshow": {
     "slide_type": "slide"
    }
   },
   "source": [
    "## Getting Data Out"
   ]
  },
  {
   "cell_type": "markdown",
   "metadata": {
    "slideshow": {
     "slide_type": "fragment"
    }
   },
   "source": [
    "Writing data out in pandas is as easy as getting data in. To save our DataFrame out to a new csv file, we can just do this:"
   ]
  },
  {
   "cell_type": "code",
   "execution_count": 116,
   "metadata": {
    "slideshow": {
     "slide_type": "fragment"
    }
   },
   "outputs": [],
   "source": [
    "#this is how we can save the data\n",
    "data.to_csv(\"/home/melissaa/Desktop/weather-mod.csv\")\n",
    "#data.to_csv(\"data/weather-mod.csv\")\n",
    "#data.to_csv(\"/Users/squiresrb/Documents/BCBB/Seminars/2016/Intro to Data Analysis/weather-mod.csv\")"
   ]
  },
  {
   "cell_type": "code",
   "execution_count": null,
   "metadata": {},
   "outputs": [],
   "source": []
  },
  {
   "cell_type": "markdown",
   "metadata": {
    "slideshow": {
     "slide_type": "slide"
    }
   },
   "source": [
    "Want to make that tab separated instead? No problem."
   ]
  },
  {
   "cell_type": "code",
   "execution_count": 117,
   "metadata": {
    "slideshow": {
     "slide_type": "fragment"
    }
   },
   "outputs": [],
   "source": [
    "data.to_csv(\"/home/melissaa/Desktop/weather-mod.tsv\", sep=\"\\t\")"
   ]
  },
  {
   "cell_type": "code",
   "execution_count": null,
   "metadata": {},
   "outputs": [],
   "source": [
    "# ^ save a tab deliminated file"
   ]
  },
  {
   "cell_type": "markdown",
   "metadata": {
    "slideshow": {
     "slide_type": "fragment"
    }
   },
   "source": [
    "There's also support for [reading and writing Excel files](http://pandas.pydata.org/pandas-docs/stable/io.html#excel-files), if you need it."
   ]
  },
  {
   "cell_type": "markdown",
   "metadata": {
    "slideshow": {
     "slide_type": "slide"
    }
   },
   "source": [
    "## Reading Excel Files"
   ]
  },
  {
   "cell_type": "markdown",
   "metadata": {
    "slideshow": {
     "slide_type": "fragment"
    }
   },
   "source": [
    "The read_excel() method can read Excel 2003 (.xls) and Excel 2007 (.xlsx) files using the xlrd Python module and use the same parsing code as the above to convert tabular data into a DataFrame. See the cookbook for some advanced strategies\n",
    "\n",
    "Besides read_excel you can also read Excel files using the ExcelFile class. The following two commands are equivalent:"
   ]
  },
  {
   "cell_type": "code",
   "execution_count": null,
   "metadata": {
    "slideshow": {
     "slide_type": "slide"
    }
   },
   "outputs": [],
   "source": [
    "#excel files are formated differently than csv files\n",
    "#there can be multiple sheets so we just have to tell it which sheets to read\n",
    "# using the read_excel function\n",
    "pandas.read_excel('data/gapminder_life_expectancy_at_birth.xlsx', 0, index_col=None, na_values=[''])\n",
    "# the file, tabe to ope, index, empty string"
   ]
  },
  {
   "cell_type": "code",
   "execution_count": null,
   "metadata": {
    "slideshow": {
     "slide_type": "slide"
    }
   },
   "outputs": [],
   "source": [
    "# Using the sheet name:\n",
    "# mock_dataframe = pandas.read_excel('data/mock_data.xls', 'Sheet1', index_col=None, na_values=['NA'])\n",
    "\n",
    "# Using the sheet index:\n",
    "pandas.read_excel('data/gapminder_life_expectancy_at_birth.xlsx', 0, index_col=None, na_values=['NA'])\n",
    "\n",
    "# Using all default values:\n",
    "pandas.read_excel('data/gapminder_life_expectancy_at_birth.xlsx')\n",
    "\n",
    "#you can save it as excel: data.to_ click tab and you can pick which one"
   ]
  },
  {
   "cell_type": "code",
   "execution_count": 118,
   "metadata": {},
   "outputs": [
    {
     "name": "stdout",
     "output_type": "stream",
     "text": [
      "date\tmax_temp\tmean_temp\tmin_temp\tmax_dew\tmean_dew\tmin_dew\tmax_humidity\tmean_humidity\tmin_humidity\tmax_pressure\tmean_pressure\tmin_pressure\tmax_visibilty\tmean_visibility\tmin_visibility\tmax_wind\tmean_wind\tmin_wind\tprecipitation\tcloud_cover\tevents\twind_dir\train\tthunderstorm\tfog\tsnow\n",
      "2012-03-10\t56\t40\t24\t24\t20\t16\t74\t50\t26\t30.53\t30.45\t30.34\t10\t10\t10\t13\t6\t17.0\t0.0\t0\t\t138\tFalse\tFalse\tFalse\tFalse\n",
      "2012-03-11\t67\t49\t30\t43\t31\t24\t78\t53\t28\t30.37\t30.27\t30.13\t10\t10\t10\t22\t7\t32.0\t1e-10\t1\tRain\t163\tTrue\tFalse\tFalse\tFalse\n",
      "2012-03-12\t71\t62\t53\t59\t55\t43\t90\t76\t61\t30.13\t29.99\t29.88\t10\t10\t6\t24\t14\t36.0\t0.03\t6\tRain\t190\tTrue\tFalse\tFalse\tFalse\n",
      "2012-03-13\t76\t63\t50\t57\t53\t47\t93\t66\t38\t30.12\t30.06\t29.97\t10\t10\t4\t16\t5\t24.0\t0.0\t0\t\t242\tFalse\tFalse\tFalse\tFalse\n",
      "2012-03-14\t80\t62\t44\t58\t52\t43\t93\t68\t42\t30.15\t30.1\t30.04\t10\t10\t10\t16\t6\t22.0\t0.0\t0\t\t202\tFalse\tFalse\tFalse\tFalse\n",
      "2012-03-15\t79\t69\t58\t61\t58\t53\t90\t69\t48\t30.13\t30.08\t30.02\t10\t10\t10\t31\t10\t41.0\t0.04\t3\tRain-Thunderstorm\t209\tTrue\tTrue\tFalse\tFalse\n",
      "2012-03-16\t75\t64\t52\t57\t54\t51\t100\t75\t49\t30.14\t30.1\t30.07\t10\t10\t10\t14\t5\t20.0\t1e-10\t2\t\t169\tFalse\tFalse\tFalse\tFalse\n",
      "2012-03-17\t78\t62\t46\t60\t54\t46\t100\t78\t56\t30.15\t30.11\t30.04\t10\t5\t0\t12\t5\t17.0\t1e-10\t3\tFog-Thunderstorm\t162\tFalse\tTrue\tTrue\tFalse\n",
      "2012-03-18\t80\t70\t59\t61\t58\t57\t93\t69\t45\t30.14\t30.07\t30.02\t10\t10\t9\t18\t8\t25.0\t1e-10\t2\tRain\t197\tTrue\tFalse\tFalse\tFalse\n"
     ]
    }
   ],
   "source": [
    "# ignore this was suppose to be in the section above\n",
    "!head /home/melissaa/Desktop/weather-mod.tsv"
   ]
  },
  {
   "cell_type": "markdown",
   "metadata": {
    "slideshow": {
     "slide_type": "slide"
    }
   },
   "source": [
    "## Miscellanea"
   ]
  },
  {
   "cell_type": "markdown",
   "metadata": {
    "slideshow": {
     "slide_type": "fragment"
    }
   },
   "source": [
    "We've only covered a small fraction of the pandas library here.\n",
    "Before I wrap up, however, there are a few miscellaneous tips I'd like to go over.\n",
    "\n",
    "First, it can be confusing to know when an operation will modify a DataFrame and when it will return a copy to you.\n",
    "Pandas behavior here is entirely dictated by NumPy, and some situations are unintuitive.\n",
    "\n",
    "For example, what do you think will happen here?"
   ]
  },
  {
   "cell_type": "code",
   "execution_count": null,
   "metadata": {
    "slideshow": {
     "slide_type": "slide"
    }
   },
   "outputs": [],
   "source": [
    "for idx, row in data.iterrows():\n",
    "    row[\"max_temp\"] = 0\n",
    "data.max_temp.head()"
   ]
  },
  {
   "cell_type": "markdown",
   "metadata": {
    "slideshow": {
     "slide_type": "slide"
    }
   },
   "source": [
    "Contrary to what you might expect, modifying `row` did **not** modify `data`!\n",
    "This is because `row` is a copy, and does not point back to the original DataFrame.\n",
    "\n",
    "Here's the right way to do it:"
   ]
  },
  {
   "cell_type": "code",
   "execution_count": null,
   "metadata": {
    "slideshow": {
     "slide_type": "fragment"
    }
   },
   "outputs": [],
   "source": [
    "for idx, row in data.iterrows():\n",
    "    data.max_temp.loc[idx] = 0\n",
    "any(data.max_temp != 0)  # Any rows with max_temp not equal to zero?"
   ]
  },
  {
   "cell_type": "markdown",
   "metadata": {
    "slideshow": {
     "slide_type": "slide"
    }
   },
   "source": [
    "When using `apply()`, the default behavior is to go over columns."
   ]
  },
  {
   "cell_type": "code",
   "execution_count": null,
   "metadata": {
    "slideshow": {
     "slide_type": "fragment"
    }
   },
   "outputs": [],
   "source": [
    "data.apply(lambda c: c.name)"
   ]
  },
  {
   "cell_type": "markdown",
   "metadata": {
    "slideshow": {
     "slide_type": "slide"
    }
   },
   "source": [
    "You can make `apply()` go over rows by passing `axis=1`"
   ]
  },
  {
   "cell_type": "code",
   "execution_count": null,
   "metadata": {
    "slideshow": {
     "slide_type": "fragment"
    }
   },
   "outputs": [],
   "source": [
    "data['pressure_diff'] = data.apply(lambda r: r[\"max_pressure\"] - r[\"min_pressure\"], axis=1)"
   ]
  },
  {
   "cell_type": "markdown",
   "metadata": {
    "slideshow": {
     "slide_type": "slide"
    }
   },
   "source": [
    "When you call `drop()`, though, it's flipped. To drop a column, you need to pass `axis=1`"
   ]
  },
  {
   "cell_type": "code",
   "execution_count": null,
   "metadata": {
    "slideshow": {
     "slide_type": "fragment"
    }
   },
   "outputs": [],
   "source": [
    "data.drop(\"events\", axis=1).columns"
   ]
  },
  {
   "cell_type": "markdown",
   "metadata": {
    "slideshow": {
     "slide_type": "slide"
    }
   },
   "source": [
    "Resources\n",
    "\n",
    "- [Learn Pandas](https://bitbucket.org/hrojas/learn-pandas)\n",
    "- [Compute](http://nbviewer.ipython.org/urls/bitbucket.org/hrojas/learn-pandas/raw/master/lessons/Cookbook%20-%20Compute.ipynb)\n",
    "- [Merge](http://nbviewer.ipython.org/urls/bitbucket.org/hrojas/learn-pandas/raw/master/lessons/Cookbook%20-%20Merge.ipynb)\n",
    "- [Select](http://nbviewer.ipython.org/urls/bitbucket.org/hrojas/learn-pandas/raw/master/lessons/Cookbook%20-%20Select.ipynb)\n",
    "- [Sort](http://nbviewer.ipython.org/urls/bitbucket.org/hrojas/learn-pandas/raw/master/lessons/Cookbook%20-%20Sort.ipynb)\n",
    "\n",
    "\n",
    "- [Intro to Pandas](https://bitbucket.org/hrojas/learn-pandas)\n",
    "- [Timeseries](http://nbviewer.ipython.org/github/changhiskhan/talks/blob/master/pydata2012/pandas_timeseries.ipynb)\n",
    "- [Statistics in Python](http://www.randalolson.com/2012/08/06/statistical-analysis-made-easy-in-python/)\n",
    "\n",
    "http://datacommunitydc.org/blog/2013/07/python-for-data-analysis-the-landscape-of-tutorials/"
   ]
  },
  {
   "cell_type": "markdown",
   "metadata": {
    "slideshow": {
     "slide_type": "slide"
    }
   },
   "source": [
    "## Questions and Answers?\n",
    "\n",
    "My email address: burkesquires at gmail.com"
   ]
  },
  {
   "cell_type": "code",
   "execution_count": null,
   "metadata": {},
   "outputs": [],
   "source": []
  }
 ],
 "metadata": {
  "anaconda-cloud": {},
  "kernelspec": {
   "display_name": "Python 3",
   "language": "python",
   "name": "python3"
  },
  "language_info": {
   "codemirror_mode": {
    "name": "ipython",
    "version": 3
   },
   "file_extension": ".py",
   "mimetype": "text/x-python",
   "name": "python",
   "nbconvert_exporter": "python",
   "pygments_lexer": "ipython3",
   "version": "3.6.9"
  }
 },
 "nbformat": 4,
 "nbformat_minor": 4
}
