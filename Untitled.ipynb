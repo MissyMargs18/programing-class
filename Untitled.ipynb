{
 "cells": [
  {
   "cell_type": "code",
   "execution_count": 2,
   "metadata": {},
   "outputs": [
    {
     "name": "stdout",
     "output_type": "stream",
     "text": [
      "Hello World!\n"
     ]
    }
   ],
   "source": [
    "print(\"Hello World!\")"
   ]
  },
  {
   "cell_type": "code",
   "execution_count": 3,
   "metadata": {},
   "outputs": [
    {
     "name": "stdout",
     "output_type": "stream",
     "text": [
      "Python 3.6.9\n"
     ]
    }
   ],
   "source": [
    "!python3 -V"
   ]
  },
  {
   "cell_type": "code",
   "execution_count": 4,
   "metadata": {},
   "outputs": [
    {
     "name": "stdout",
     "output_type": "stream",
     "text": [
      "Hello World\n"
     ]
    }
   ],
   "source": [
    "print(\"Hello World\")"
   ]
  },
  {
   "cell_type": "code",
   "execution_count": 5,
   "metadata": {},
   "outputs": [],
   "source": [
    "# This is my first program"
   ]
  },
  {
   "cell_type": "code",
   "execution_count": 6,
   "metadata": {},
   "outputs": [
    {
     "name": "stdout",
     "output_type": "stream",
     "text": [
      "My name is: Raj\n",
      "My age is: 22\n"
     ]
    }
   ],
   "source": [
    "# This program introduces variables, operators and conditionals\n",
    "\n",
    "name = \"Raj\"\n",
    "age = 22\n",
    "print(\"My name is:\", name)\n",
    "print(\"My age is:\", age)"
   ]
  },
  {
   "cell_type": "code",
   "execution_count": 8,
   "metadata": {},
   "outputs": [
    {
     "name": "stdout",
     "output_type": "stream",
     "text": [
      "My name is: Raj\n",
      "My age is: 22\n",
      "My brother's name is: Vijay\n",
      "My brother's age is: 26\n",
      "We were born 4 years apart\n"
     ]
    }
   ],
   "source": [
    "# 1.5 Operators\n",
    "\n",
    "name = \"Raj\"\n",
    "age = 22\n",
    "brothername = \"Vijay\"\n",
    "brotherage = 26\n",
    "age_difference = age - brotherage\n",
    "difference = abs(age_difference)\n",
    "print(\"My name is:\", name)\n",
    "print(\"My age is:\", age)\n",
    "print(\"My brother's name is:\", brothername)\n",
    "print(\"My brother's age is:\", brotherage)\n",
    "print(\"We were born\", difference, \"years apart\")"
   ]
  },
  {
   "cell_type": "code",
   "execution_count": 9,
   "metadata": {},
   "outputs": [
    {
     "name": "stdout",
     "output_type": "stream",
     "text": [
      "My name is: Raj\n",
      "My age is: 22\n",
      "My brother's name is: Vijay\n",
      "My brother's age is: 26\n",
      "We were born 4 years apart\n",
      "My brother Vijay is older than me\n"
     ]
    }
   ],
   "source": [
    "#2 Conditionals- allows you to fork your code, if something is true then that or it will do something else\n",
    "\n",
    "name = \"Raj\"\n",
    "age = 22\n",
    "brothername = \"Vijay\"\n",
    "brotherage = 26\n",
    "age_difference = age - brotherage\n",
    "difference = abs(age_difference)\n",
    "print(\"My name is:\", name)\n",
    "print(\"My age is:\", age)\n",
    "print(\"My brother's name is:\", brothername)\n",
    "print(\"My brother's age is:\", brotherage)\n",
    "print(\"We were born\", difference, \"years apart\")\n",
    "\n",
    "if brotherage > age: \n",
    "    print(\"My brother\", brothername, \"is older than me\")\n"
   ]
  },
  {
   "cell_type": "code",
   "execution_count": 10,
   "metadata": {},
   "outputs": [
    {
     "name": "stdout",
     "output_type": "stream",
     "text": [
      "Variable         Type    Data/Info\n",
      "----------------------------------\n",
      "age              int     22\n",
      "age_difference   int     -4\n",
      "brotherage       int     26\n",
      "brothername      str     Vijay\n",
      "difference       int     4\n",
      "name             str     Raj\n"
     ]
    }
   ],
   "source": [
    "%whos"
   ]
  },
  {
   "cell_type": "code",
   "execution_count": 11,
   "metadata": {},
   "outputs": [
    {
     "name": "stdout",
     "output_type": "stream",
     "text": [
      "The Zen of Python, by Tim Peters\n",
      "\n",
      "Beautiful is better than ugly.\n",
      "Explicit is better than implicit.\n",
      "Simple is better than complex.\n",
      "Complex is better than complicated.\n",
      "Flat is better than nested.\n",
      "Sparse is better than dense.\n",
      "Readability counts.\n",
      "Special cases aren't special enough to break the rules.\n",
      "Although practicality beats purity.\n",
      "Errors should never pass silently.\n",
      "Unless explicitly silenced.\n",
      "In the face of ambiguity, refuse the temptation to guess.\n",
      "There should be one-- and preferably only one --obvious way to do it.\n",
      "Although that way may not be obvious at first unless you're Dutch.\n",
      "Now is better than never.\n",
      "Although never is often better than *right* now.\n",
      "If the implementation is hard to explain, it's a bad idea.\n",
      "If the implementation is easy to explain, it may be a good idea.\n",
      "Namespaces are one honking great idea -- let's do more of those!\n"
     ]
    }
   ],
   "source": [
    "import this"
   ]
  },
  {
   "cell_type": "code",
   "execution_count": 27,
   "metadata": {},
   "outputs": [
    {
     "name": "stdout",
     "output_type": "stream",
     "text": [
      "My name is: Raj\n",
      "My age is: 22\n",
      "My brother's name is: Vijay\n",
      "My brother's age is: 26\n",
      "We were born 4 years apart\n",
      "My brother Vijay is older than me\n",
      "Not part of the else statement\n"
     ]
    }
   ],
   "source": [
    "#2 Conditionals- not limited to just the if statement, what happens if it is false. Flat is better than nested (Pyhton Zen). Way it gets around this is it is nested\n",
    "\n",
    "name = \"Raj\"\n",
    "age = 22\n",
    "brothername = \"Vijay\"\n",
    "brotherage = 26\n",
    "age_difference = age - brotherage\n",
    "difference = abs(age_difference)\n",
    "print(\"My name is:\", name)\n",
    "print(\"My age is:\", age)\n",
    "print(\"My brother's name is:\", brothername)\n",
    "print(\"My brother's age is:\", brotherage)\n",
    "print(\"We were born\", difference, \"years apart\")\n",
    "\n",
    "if brotherage > age: \n",
    "    print(\"My brother\", brothername, \"is older than me\")\n",
    "elif age > brotherage: \n",
    "    print(\"Raj is older than\", brothername)\n",
    "else:\n",
    "    print(\"Vijay and his brother\", name, \"are the same age.\")\n",
    "    print(\"Vijay and his brother, {}, are the same age.\".format(name))\n",
    "print(\"Not part of the else statement\")"
   ]
  },
  {
   "cell_type": "markdown",
   "metadata": {},
   "source": [
    "## "
   ]
  },
  {
   "cell_type": "code",
   "execution_count": 28,
   "metadata": {},
   "outputs": [
    {
     "name": "stdout",
     "output_type": "stream",
     "text": [
      "0\n",
      "1\n",
      "2\n",
      "3\n",
      "4\n",
      "5\n",
      "6\n",
      "7\n",
      "8\n",
      "9\n"
     ]
    }
   ],
   "source": [
    "# Loops- \n",
    "# using a built-in fuxn that will list interigers that will start with 0 and go up\n",
    "# to 10 integers but wont include 10.\n",
    "\n",
    "for i in range(10):\n",
    "    print(i)"
   ]
  },
  {
   "cell_type": "code",
   "execution_count": 29,
   "metadata": {},
   "outputs": [
    {
     "ename": "NameError",
     "evalue": "name 'file' is not defined",
     "output_type": "error",
     "traceback": [
      "\u001b[0;31m---------------------------------------------------------------------------\u001b[0m",
      "\u001b[0;31mNameError\u001b[0m                                 Traceback (most recent call last)",
      "\u001b[0;32m<ipython-input-29-7eedb2966f04>\u001b[0m in \u001b[0;36m<module>\u001b[0;34m()\u001b[0m\n\u001b[1;32m      1\u001b[0m \u001b[0;31m# in a loop the thing after for has to also be in the () after print.\u001b[0m\u001b[0;34m\u001b[0m\u001b[0;34m\u001b[0m\u001b[0;34m\u001b[0m\u001b[0m\n\u001b[1;32m      2\u001b[0m \u001b[0;34m\u001b[0m\u001b[0m\n\u001b[0;32m----> 3\u001b[0;31m \u001b[0;32mfor\u001b[0m \u001b[0mline\u001b[0m \u001b[0;32min\u001b[0m \u001b[0mfile\u001b[0m\u001b[0;34m:\u001b[0m\u001b[0;34m\u001b[0m\u001b[0;34m\u001b[0m\u001b[0m\n\u001b[0m\u001b[1;32m      4\u001b[0m         \u001b[0mprint\u001b[0m\u001b[0;34m(\u001b[0m\u001b[0mline\u001b[0m\u001b[0;34m)\u001b[0m\u001b[0;34m\u001b[0m\u001b[0;34m\u001b[0m\u001b[0m\n",
      "\u001b[0;31mNameError\u001b[0m: name 'file' is not defined"
     ]
    }
   ],
   "source": [
    "# in a loop the thing after for has to also be in the () after print. \n",
    "\n",
    "for line in file:\n",
    "        print(line)"
   ]
  },
  {
   "cell_type": "code",
   "execution_count": 33,
   "metadata": {},
   "outputs": [
    {
     "name": "stdout",
     "output_type": "stream",
     "text": [
      "1 x 2 = 2\n",
      "2 x 2 = 4\n",
      "3 x 2 = 6\n",
      "4 x 2 = 8\n",
      "5 x 2 = 10\n",
      "6 x 2 = 12\n",
      "7 x 2 = 14\n",
      "8 x 2 = 16\n",
      "9 x 2 = 18\n",
      "10 x 2 = 20\n"
     ]
    }
   ],
   "source": [
    "for i in range(1, 11):\n",
    "    print(i, \"x 2 =\", i * 2)"
   ]
  },
  {
   "cell_type": "code",
   "execution_count": 34,
   "metadata": {},
   "outputs": [
    {
     "name": "stdout",
     "output_type": "stream",
     "text": [
      "0\n",
      "1\n",
      "2\n",
      "3\n",
      "4\n",
      "5\n",
      "6\n",
      "7\n",
      "8\n",
      "9\n"
     ]
    }
   ],
   "source": [
    "# the while loop. Don't know how many times the loop will happen so what we \n",
    "# then have to do is set up a critieria to make it stop. we have created a \n",
    "# counter variable and will continue to run if value less than 10.\n",
    "\n",
    "my_number = 0 \n",
    "while my_number < 10:\n",
    "    print(my_number)\n",
    "    my_number += 1\n",
    " #shortcut ^: my_number = my_number + 1"
   ]
  },
  {
   "cell_type": "code",
   "execution_count": 39,
   "metadata": {},
   "outputs": [
    {
     "name": "stdout",
     "output_type": "stream",
     "text": [
      "Hello\n"
     ]
    }
   ],
   "source": [
    "#bool way# my_number = 0 \n",
    "bool = True\n",
    "while bool:\n",
    "    print(\"Hello\")\n",
    "    bool = False\n",
    "   "
   ]
  },
  {
   "cell_type": "code",
   "execution_count": 36,
   "metadata": {},
   "outputs": [
    {
     "data": {
      "text/plain": [
       "\u001b[0;31mSignature:\u001b[0m \u001b[0mabs\u001b[0m\u001b[0;34m(\u001b[0m\u001b[0mx\u001b[0m\u001b[0;34m,\u001b[0m \u001b[0;34m/\u001b[0m\u001b[0;34m)\u001b[0m\u001b[0;34m\u001b[0m\u001b[0;34m\u001b[0m\u001b[0m\n",
       "\u001b[0;31mDocstring:\u001b[0m Return the absolute value of the argument.\n",
       "\u001b[0;31mType:\u001b[0m      builtin_function_or_method\n"
      ]
     },
     "metadata": {},
     "output_type": "display_data"
    }
   ],
   "source": [
    "abs?"
   ]
  },
  {
   "cell_type": "code",
   "execution_count": 40,
   "metadata": {},
   "outputs": [
    {
     "name": "stdout",
     "output_type": "stream",
     "text": [
      "['C', 'C++', 'Java', 'Python', 'Perl', 'PHP']\n"
     ]
    }
   ],
   "source": [
    "#List \n",
    "# This is an example python script with a list, only inclduing string objects\n",
    "\n",
    "lang = [\"C\", \"C++\", \"Java\", \"Python\", \"Perl\", \"PHP\"]\n",
    "print(lang)\n"
   ]
  },
  {
   "cell_type": "code",
   "execution_count": 41,
   "metadata": {},
   "outputs": [
    {
     "data": {
      "text/plain": [
       "list"
      ]
     },
     "execution_count": 41,
     "metadata": {},
     "output_type": "execute_result"
    }
   ],
   "source": [
    "# to confirm that lang is a list\n",
    "type(lang)"
   ]
  },
  {
   "cell_type": "code",
   "execution_count": 42,
   "metadata": {},
   "outputs": [
    {
     "name": "stdout",
     "output_type": "stream",
     "text": [
      "C++\n"
     ]
    }
   ],
   "source": [
    "# make sure something is an element of a list. Python is zero based\n",
    "# so the if we ask for a 1 in a list it will be the second\n",
    "#this will print the second element of the list\n",
    "print(lang[1])"
   ]
  },
  {
   "cell_type": "code",
   "execution_count": 43,
   "metadata": {},
   "outputs": [
    {
     "data": {
      "text/plain": [
       "['C', 'C++', 'Java', 'Python', 'Perl', 'PHP']"
      ]
     },
     "execution_count": 43,
     "metadata": {},
     "output_type": "execute_result"
    }
   ],
   "source": [
    "lang"
   ]
  },
  {
   "cell_type": "code",
   "execution_count": 44,
   "metadata": {},
   "outputs": [
    {
     "name": "stdout",
     "output_type": "stream",
     "text": [
      "['C', 'C++', 'Java', 'Python', 'Perl', 'PHP']\n",
      "C++\n",
      "The \"Java\" index is: 2\n"
     ]
    }
   ],
   "source": [
    "# This is an example python script with a list\n",
    "#don't have to chek everything can just write \"in\" to see if something is in a list\n",
    "\n",
    "lang = [\"C\", \"C++\", \"Java\", \"Python\", \"Perl\", \"PHP\"]\n",
    "print(lang)\n",
    "# Print the second element of the list\n",
    "print(lang[1])\n",
    "# Search the list for an item\n",
    "if \"Java\" in lang:\n",
    "    print('The \"Java\" index is:', lang.index(\"Java\"))\n"
   ]
  },
  {
   "cell_type": "code",
   "execution_count": 45,
   "metadata": {},
   "outputs": [
    {
     "name": "stdout",
     "output_type": "stream",
     "text": [
      "['C', 'C++', 'Java', 'Python', 'Perl', 'PHP']\n",
      "C++\n",
      "The \"Java\" index is: 2\n",
      "['C', 'C++', 'Java', 'Python', 'Perl', 'PHP', 'Scala']\n"
     ]
    }
   ],
   "source": [
    "#add iteams to a list use append function\n",
    "# This is an example python script with a list\n",
    "lang = [\"C\", \"C++\", \"Java\", \"Python\", \"Perl\", \"PHP\"]\n",
    "print(lang)\n",
    "# Print the second element of the list\n",
    "print(lang[1])\n",
    "# Search the list for an item\n",
    "if \"Java\" in lang:\n",
    "    print('The \"Java\" index is:', lang.index(\"Java\"))\n",
    "    lang.append(\"Scala\")\n",
    "print(lang)\n",
    "\n"
   ]
  },
  {
   "cell_type": "code",
   "execution_count": 46,
   "metadata": {},
   "outputs": [],
   "source": [
    "# 4.4 we can delete"
   ]
  },
  {
   "cell_type": "code",
   "execution_count": 47,
   "metadata": {},
   "outputs": [
    {
     "name": "stdout",
     "output_type": "stream",
     "text": [
      "['Java', 'Python', 'Perl', 'PHP', 'Scala']\n"
     ]
    }
   ],
   "source": [
    "# slicing the list- \n",
    "\n",
    "#do the 3rd element, and print the rest\n",
    "print(lang[2:])"
   ]
  },
  {
   "cell_type": "code",
   "execution_count": 48,
   "metadata": {},
   "outputs": [
    {
     "name": "stdout",
     "output_type": "stream",
     "text": [
      "['C', 'C++', 'Java']\n"
     ]
    }
   ],
   "source": [
    "#slicing\n",
    "#leave off the begining and go up to but don't incluse index 3 \n",
    "print(lang[:3])"
   ]
  },
  {
   "cell_type": "code",
   "execution_count": 50,
   "metadata": {},
   "outputs": [
    {
     "name": "stdout",
     "output_type": "stream",
     "text": [
      "C\n",
      "C++\n",
      "Java\n",
      "Python\n",
      "Perl\n",
      "PHP\n",
      "Scala\n"
     ]
    }
   ],
   "source": [
    "# loop through iteratable \n",
    "#iterating through the list\n",
    "#doesn't matter if lang has 0 elements or 1 mill, it will still work\n",
    "\n",
    "for language in lang:\n",
    "    print(language)"
   ]
  },
  {
   "cell_type": "code",
   "execution_count": 51,
   "metadata": {},
   "outputs": [
    {
     "name": "stdout",
     "output_type": "stream",
     "text": [
      "('Apple', 'Microsoft', 'Google')\n"
     ]
    }
   ],
   "source": [
    "# keep track of iteams but not change them you can use a tuples\n",
    "# looks like but use reg ()\n",
    "\n",
    "companies = (\"Apple\", \"Microsoft\", \"Google\")\n",
    "print(companies)\n"
   ]
  },
  {
   "cell_type": "code",
   "execution_count": 52,
   "metadata": {},
   "outputs": [
    {
     "name": "stdout",
     "output_type": "stream",
     "text": [
      "English\n"
     ]
    }
   ],
   "source": [
    "# Dictionaries\n",
    "# example of key value pair, define new data element and using {} and 2 diff delimitors \n",
    "#each element different by a colon\n",
    "#key is home and a value and ...\n",
    "#allows to reference based on a key\n",
    "# This demonstrates dictionaries in python\n",
    "#Example: look at student records, key be ID. Get info fast if you have their id\n",
    "\n",
    "dict = {\"Home\": \"DC\", \"Language\": \"English\", \"Car\": \"Black\", \"Food\": \"Burger\"}\n",
    "print(dict['Language'])\n"
   ]
  },
  {
   "cell_type": "code",
   "execution_count": 53,
   "metadata": {},
   "outputs": [
    {
     "name": "stdin",
     "output_type": "stream",
     "text": [
      "Enter the first number: 4\n",
      "Enter the second number: 5\n"
     ]
    },
    {
     "name": "stdout",
     "output_type": "stream",
     "text": [
      "9\n"
     ]
    }
   ],
   "source": [
    "# functions\n",
    "#define a fxn and then call it. fxn name normally has an underscore \n",
    "\n",
    "# This program demonstrates functions in python\n",
    "\n",
    "def add_two(x, y):\n",
    "    total = int(x) + int(y)\n",
    "    print(total)\n",
    "    \n",
    "    # like in R you can type 'return total\" instead of print(total) and it \n",
    "    #will print out the total\n",
    "    \n",
    "# User input\n",
    "first_num = input(\"Enter the first number:\")\n",
    "second_num = input(\"Enter the second number:\")\n",
    "\n",
    "# Calling the function\n",
    "add_two(first_num, second_num)\n"
   ]
  },
  {
   "cell_type": "code",
   "execution_count": 58,
   "metadata": {},
   "outputs": [
    {
     "ename": "SyntaxError",
     "evalue": "invalid syntax (<ipython-input-58-595f427169fc>, line 5)",
     "output_type": "error",
     "traceback": [
      "\u001b[0;36m  File \u001b[0;32m\"<ipython-input-58-595f427169fc>\"\u001b[0;36m, line \u001b[0;32m5\u001b[0m\n\u001b[0;31m    %%writefile names.txt\u001b[0m\n\u001b[0m    ^\u001b[0m\n\u001b[0;31mSyntaxError\u001b[0m\u001b[0;31m:\u001b[0m invalid syntax\n"
     ]
    }
   ],
   "source": [
    "#creating a mock file and then be able to read from it. \n",
    "#using another form of using jupyter magic- it is a shortcut to make a file\n",
    "# need 2 % signs writefile space then name of file.\n",
    "\n",
    "%%writefile names.txt\n",
    "1 CSE\n",
    "2 EEE\n",
    "3 ECE\n",
    "4 ETE\n"
   ]
  },
  {
   "cell_type": "code",
   "execution_count": 59,
   "metadata": {},
   "outputs": [
    {
     "name": "stdout",
     "output_type": "stream",
     "text": [
      "Writing names.txt\n"
     ]
    }
   ],
   "source": [
    "%%writefile names.txt\n",
    "1 CSE\n",
    "2 EEE\n",
    "3 ECE\n",
    "4 ETE"
   ]
  },
  {
   "cell_type": "code",
   "execution_count": 60,
   "metadata": {},
   "outputs": [
    {
     "name": "stdout",
     "output_type": "stream",
     "text": [
      "1 CSE\n",
      "2 EEE\n",
      "3 ECE\n",
      "4 ETE\n"
     ]
    }
   ],
   "source": [
    "# This script demonstrates reading a file in python\n",
    "\n",
    "contents = open(\"names.txt\")\n",
    "print(contents.read())\n"
   ]
  },
  {
   "cell_type": "code",
   "execution_count": 61,
   "metadata": {},
   "outputs": [
    {
     "name": "stdout",
     "output_type": "stream",
     "text": [
      "1 CSE\n",
      "\n",
      "2 EEE\n",
      "\n",
      "3 ECE\n",
      "\n",
      "4 ETE\n"
     ]
    }
   ],
   "source": [
    "# This script demonstrates reading a file in python line by line\n",
    "\n",
    "contents = open(\"names.txt\")\n",
    "for line in contents:\n",
    "    print(line)\n"
   ]
  },
  {
   "cell_type": "code",
   "execution_count": 62,
   "metadata": {},
   "outputs": [
    {
     "name": "stdout",
     "output_type": "stream",
     "text": [
      "Overwriting names.txt\n"
     ]
    }
   ],
   "source": [
    "%%writefile names.txt\n",
    "1 CSE\n",
    "2 EEE\n",
    "3 ECE\n",
    "4 ETE\n",
    "5 EEE"
   ]
  },
  {
   "cell_type": "code",
   "execution_count": 63,
   "metadata": {},
   "outputs": [
    {
     "name": "stdout",
     "output_type": "stream",
     "text": [
      "1 CSE\n",
      "2 EEE\n",
      "3 ECE\n",
      "4 ETE\n",
      "5 EEE\n"
     ]
    }
   ],
   "source": [
    "# This script demonstrates reading a file in python\n",
    "\n",
    "contents = open(\"names.txt\")\n",
    "print(contents.read())\n"
   ]
  },
  {
   "cell_type": "code",
   "execution_count": 64,
   "metadata": {},
   "outputs": [
    {
     "name": "stdout",
     "output_type": "stream",
     "text": [
      "1 CSE\n",
      "\n",
      "2 EEE\n",
      "\n",
      "3 ECE\n",
      "\n",
      "4 ETE\n",
      "\n",
      "5 EEE\n"
     ]
    }
   ],
   "source": [
    "# This script demonstrates reading a file in python line by line\n",
    "\n",
    "contents = open(\"names.txt\")\n",
    "for line in contents:\n",
    "    print(line)"
   ]
  },
  {
   "cell_type": "code",
   "execution_count": 71,
   "metadata": {},
   "outputs": [
    {
     "name": "stdout",
     "output_type": "stream",
     "text": [
      "BTech\n",
      "\n",
      "MTech\n",
      "\n",
      "3 ECE\n",
      "\n",
      "4 ETE\n",
      "\n",
      "5 EEEBTech\n",
      "\n",
      "MTech\n",
      "\n",
      "BTech\n",
      "\n",
      "MTech\n",
      "\n",
      "BTech\n",
      "\n",
      "MTech\n",
      "\n",
      "BTech\n",
      "\n",
      "MTech\n",
      "\n",
      "BTech\n",
      "\n",
      "MTech\n",
      "\n",
      "\n"
     ]
    }
   ],
   "source": [
    "# This script demonstrates reading a file in python line by line\n",
    "#this case read from it + and append to the end of file with the + sign\n",
    "\n",
    "contents = open(\"names.txt\", \"r+\")\n",
    "for line in contents:\n",
    "    print(line)\n",
    "contents.write(\"BTech\\n\")\n",
    "contents.write(\"MTech\\n\")\n",
    "print(contents.read())\n",
    "contents.close()\n",
    "\n",
    "#doesn't close the file by default so you have to add this ^\n",
    "# \\n is stand for the new line cheracter, it is an invisable character so it goes to the \n",
    "# next line. \\n = new line character \n"
   ]
  },
  {
   "cell_type": "code",
   "execution_count": null,
   "metadata": {},
   "outputs": [],
   "source": []
  },
  {
   "cell_type": "code",
   "execution_count": null,
   "metadata": {},
   "outputs": [],
   "source": []
  }
 ],
 "metadata": {
  "kernelspec": {
   "display_name": "Python 3",
   "language": "python",
   "name": "python3"
  },
  "language_info": {
   "codemirror_mode": {
    "name": "ipython",
    "version": 3
   },
   "file_extension": ".py",
   "mimetype": "text/x-python",
   "name": "python",
   "nbconvert_exporter": "python",
   "pygments_lexer": "ipython3",
   "version": "3.6.9"
  }
 },
 "nbformat": 4,
 "nbformat_minor": 4
}
